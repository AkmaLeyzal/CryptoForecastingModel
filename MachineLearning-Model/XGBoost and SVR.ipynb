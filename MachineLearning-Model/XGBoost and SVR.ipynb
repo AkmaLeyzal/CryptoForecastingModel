{
  "cells": [
    {
      "cell_type": "markdown",
      "metadata": {},
      "source": [
        "## **Load Environment**"
      ]
    },
    {
      "cell_type": "code",
      "execution_count": 1,
      "metadata": {},
      "outputs": [
        {
          "name": "stdout",
          "output_type": "stream",
          "text": [
            "Defaulting to user installation because normal site-packages is not writeable\n",
            "Requirement already satisfied: python-dotenv in c:\\users\\iqbal firmansyah\\appdata\\roaming\\python\\python313\\site-packages (1.1.0)\n"
          ]
        }
      ],
      "source": [
        "!pip install python-dotenv"
      ]
    },
    {
      "cell_type": "code",
      "execution_count": 2,
      "metadata": {},
      "outputs": [
        {
          "name": "stdout",
          "output_type": "stream",
          "text": [
            "MongoDB credentials loaded successfully.\n",
            "FRED API key loaded successfully.\n"
          ]
        }
      ],
      "source": [
        "from dotenv import load_dotenv\n",
        "import os\n",
        "from pathlib import Path\n",
        "\n",
        "env_path = Path('../.env')\n",
        "load_dotenv(dotenv_path=env_path)\n",
        "\n",
        "db_credential = os.getenv('MONGODB_CREDENTIALS')\n",
        "if db_credential is None:\n",
        "    raise ValueError(\"MONGODB_CREDENTIALS not found in .env file\")\n",
        "else:\n",
        "    print(\"MongoDB credentials loaded successfully.\")\n",
        "\n",
        "fred_key = os.getenv('FRED_API_KEY')\n",
        "if fred_key is None:\n",
        "    raise ValueError(\"FRED_API_KEY not found in .env file\")\n",
        "else:\n",
        "    print(\"FRED API key loaded successfully.\")"
      ]
    },
    {
      "cell_type": "markdown",
      "metadata": {
        "id": "YfDY0Lcmfpvm"
      },
      "source": [
        "## **Library**"
      ]
    },
    {
      "cell_type": "code",
      "execution_count": null,
      "metadata": {
        "colab": {
          "base_uri": "https://localhost:8080/"
        },
        "id": "yElVXrL_iDsv",
        "outputId": "792bc54d-8e11-4498-a000-49d9c4203cf8"
      },
      "outputs": [
        {
          "name": "stdout",
          "output_type": "stream",
          "text": [
            "Defaulting to user installation because normal site-packages is not writeable\n",
            "Requirement already satisfied: ccxt in c:\\users\\iqbal firmansyah\\appdata\\roaming\\python\\python313\\site-packages (4.4.88)\n",
            "Requirement already satisfied: pandas in c:\\users\\iqbal firmansyah\\appdata\\roaming\\python\\python313\\site-packages (2.3.0)\n",
            "Requirement already satisfied: numpy in c:\\users\\iqbal firmansyah\\appdata\\roaming\\python\\python313\\site-packages (2.2.6)\n",
            "Requirement already satisfied: pymongo in c:\\users\\iqbal firmansyah\\appdata\\roaming\\python\\python313\\site-packages (4.13.0)\n",
            "Requirement already satisfied: fredapi in c:\\users\\iqbal firmansyah\\appdata\\roaming\\python\\python313\\site-packages (0.5.2)\n",
            "Requirement already satisfied: tqdm in c:\\users\\iqbal firmansyah\\appdata\\roaming\\python\\python313\\site-packages (4.67.1)\n",
            "Requirement already satisfied: pytz in c:\\users\\iqbal firmansyah\\appdata\\roaming\\python\\python313\\site-packages (2025.2)\n",
            "Requirement already satisfied: scipy in c:\\users\\iqbal firmansyah\\appdata\\roaming\\python\\python313\\site-packages (1.15.3)\n",
            "Requirement already satisfied: scikit-learn in c:\\users\\iqbal firmansyah\\appdata\\roaming\\python\\python313\\site-packages (1.7.0)\n",
            "Requirement already satisfied: seaborn in c:\\users\\iqbal firmansyah\\appdata\\roaming\\python\\python313\\site-packages (0.13.2)\n",
            "Requirement already satisfied: xgboost in c:\\users\\iqbal firmansyah\\appdata\\roaming\\python\\python313\\site-packages (3.0.2)\n",
            "Requirement already satisfied: matplotlib in c:\\users\\iqbal firmansyah\\appdata\\roaming\\python\\python313\\site-packages (3.10.3)\n",
            "Requirement already satisfied: ta in c:\\users\\iqbal firmansyah\\appdata\\roaming\\python\\python313\\site-packages (0.11.0)\n",
            "Requirement already satisfied: plotly in c:\\users\\iqbal firmansyah\\appdata\\roaming\\python\\python313\\site-packages (6.1.2)\n",
            "Requirement already satisfied: setuptools>=60.9.0 in c:\\users\\iqbal firmansyah\\appdata\\roaming\\python\\python313\\site-packages (from ccxt) (80.9.0)\n",
            "Requirement already satisfied: certifi>=2018.1.18 in c:\\users\\iqbal firmansyah\\appdata\\roaming\\python\\python313\\site-packages (from ccxt) (2025.4.26)\n",
            "Requirement already satisfied: requests>=2.18.4 in c:\\users\\iqbal firmansyah\\appdata\\roaming\\python\\python313\\site-packages (from ccxt) (2.32.3)\n",
            "Requirement already satisfied: cryptography>=2.6.1 in c:\\users\\iqbal firmansyah\\appdata\\roaming\\python\\python313\\site-packages (from ccxt) (45.0.3)\n",
            "Requirement already satisfied: typing-extensions>=4.4.0 in c:\\users\\iqbal firmansyah\\appdata\\roaming\\python\\python313\\site-packages (from ccxt) (4.14.0)\n",
            "Requirement already satisfied: aiohttp>=3.10.11 in c:\\users\\iqbal firmansyah\\appdata\\roaming\\python\\python313\\site-packages (from ccxt) (3.12.9)\n",
            "Requirement already satisfied: aiodns>=1.1.1 in c:\\users\\iqbal firmansyah\\appdata\\roaming\\python\\python313\\site-packages (from ccxt) (3.4.0)\n",
            "Requirement already satisfied: yarl>=1.7.2 in c:\\users\\iqbal firmansyah\\appdata\\roaming\\python\\python313\\site-packages (from ccxt) (1.20.0)\n",
            "Requirement already satisfied: python-dateutil>=2.8.2 in c:\\users\\iqbal firmansyah\\appdata\\roaming\\python\\python313\\site-packages (from pandas) (2.9.0.post0)\n",
            "Requirement already satisfied: tzdata>=2022.7 in c:\\users\\iqbal firmansyah\\appdata\\roaming\\python\\python313\\site-packages (from pandas) (2025.2)\n",
            "Requirement already satisfied: dnspython<3.0.0,>=1.16.0 in c:\\users\\iqbal firmansyah\\appdata\\roaming\\python\\python313\\site-packages (from pymongo) (2.7.0)\n",
            "Requirement already satisfied: colorama in c:\\users\\iqbal firmansyah\\appdata\\roaming\\python\\python313\\site-packages (from tqdm) (0.4.6)\n",
            "Requirement already satisfied: joblib>=1.2.0 in c:\\users\\iqbal firmansyah\\appdata\\roaming\\python\\python313\\site-packages (from scikit-learn) (1.5.1)\n",
            "Requirement already satisfied: threadpoolctl>=3.1.0 in c:\\users\\iqbal firmansyah\\appdata\\roaming\\python\\python313\\site-packages (from scikit-learn) (3.6.0)\n",
            "Requirement already satisfied: contourpy>=1.0.1 in c:\\users\\iqbal firmansyah\\appdata\\roaming\\python\\python313\\site-packages (from matplotlib) (1.3.2)\n",
            "Requirement already satisfied: cycler>=0.10 in c:\\users\\iqbal firmansyah\\appdata\\roaming\\python\\python313\\site-packages (from matplotlib) (0.12.1)\n",
            "Requirement already satisfied: fonttools>=4.22.0 in c:\\users\\iqbal firmansyah\\appdata\\roaming\\python\\python313\\site-packages (from matplotlib) (4.58.2)\n",
            "Requirement already satisfied: kiwisolver>=1.3.1 in c:\\users\\iqbal firmansyah\\appdata\\roaming\\python\\python313\\site-packages (from matplotlib) (1.4.8)\n",
            "Requirement already satisfied: packaging>=20.0 in c:\\users\\iqbal firmansyah\\appdata\\roaming\\python\\python313\\site-packages (from matplotlib) (25.0)\n",
            "Requirement already satisfied: pillow>=8 in c:\\users\\iqbal firmansyah\\appdata\\roaming\\python\\python313\\site-packages (from matplotlib) (11.2.1)\n",
            "Requirement already satisfied: pyparsing>=2.3.1 in c:\\users\\iqbal firmansyah\\appdata\\roaming\\python\\python313\\site-packages (from matplotlib) (3.2.3)\n",
            "Requirement already satisfied: narwhals>=1.15.1 in c:\\users\\iqbal firmansyah\\appdata\\roaming\\python\\python313\\site-packages (from plotly) (1.41.1)\n",
            "Requirement already satisfied: pycares>=4.0.0 in c:\\users\\iqbal firmansyah\\appdata\\roaming\\python\\python313\\site-packages (from aiodns>=1.1.1->ccxt) (4.8.0)\n",
            "Requirement already satisfied: aiohappyeyeballs>=2.5.0 in c:\\users\\iqbal firmansyah\\appdata\\roaming\\python\\python313\\site-packages (from aiohttp>=3.10.11->ccxt) (2.6.1)\n",
            "Requirement already satisfied: aiosignal>=1.1.2 in c:\\users\\iqbal firmansyah\\appdata\\roaming\\python\\python313\\site-packages (from aiohttp>=3.10.11->ccxt) (1.3.2)\n",
            "Requirement already satisfied: attrs>=17.3.0 in c:\\users\\iqbal firmansyah\\appdata\\roaming\\python\\python313\\site-packages (from aiohttp>=3.10.11->ccxt) (25.3.0)\n",
            "Requirement already satisfied: frozenlist>=1.1.1 in c:\\users\\iqbal firmansyah\\appdata\\roaming\\python\\python313\\site-packages (from aiohttp>=3.10.11->ccxt) (1.6.2)\n",
            "Requirement already satisfied: multidict<7.0,>=4.5 in c:\\users\\iqbal firmansyah\\appdata\\roaming\\python\\python313\\site-packages (from aiohttp>=3.10.11->ccxt) (6.4.4)\n",
            "Requirement already satisfied: propcache>=0.2.0 in c:\\users\\iqbal firmansyah\\appdata\\roaming\\python\\python313\\site-packages (from aiohttp>=3.10.11->ccxt) (0.3.1)\n",
            "Requirement already satisfied: idna>=2.0 in c:\\users\\iqbal firmansyah\\appdata\\roaming\\python\\python313\\site-packages (from yarl>=1.7.2->ccxt) (3.10)\n",
            "Requirement already satisfied: cffi>=1.14 in c:\\users\\iqbal firmansyah\\appdata\\roaming\\python\\python313\\site-packages (from cryptography>=2.6.1->ccxt) (1.17.1)\n",
            "Requirement already satisfied: pycparser in c:\\users\\iqbal firmansyah\\appdata\\roaming\\python\\python313\\site-packages (from cffi>=1.14->cryptography>=2.6.1->ccxt) (2.22)\n",
            "Requirement already satisfied: six>=1.5 in c:\\users\\iqbal firmansyah\\appdata\\roaming\\python\\python313\\site-packages (from python-dateutil>=2.8.2->pandas) (1.17.0)\n",
            "Requirement already satisfied: charset-normalizer<4,>=2 in c:\\users\\iqbal firmansyah\\appdata\\roaming\\python\\python313\\site-packages (from requests>=2.18.4->ccxt) (3.4.2)\n",
            "Requirement already satisfied: urllib3<3,>=1.21.1 in c:\\users\\iqbal firmansyah\\appdata\\roaming\\python\\python313\\site-packages (from requests>=2.18.4->ccxt) (2.4.0)\n"
          ]
        }
      ],
      "source": [
        "!pip install ccxt pandas numpy pymongo fredapi tqdm pytz scipy scikit-learn seaborn xgboost matplotlib ta plotly shap"
      ]
    },
    {
      "cell_type": "code",
      "execution_count": null,
      "metadata": {
        "id": "FQUwbzngfnVD"
      },
      "outputs": [],
      "source": [
        "import ccxt\n",
        "import pandas as pd\n",
        "from pymongo import MongoClient, ASCENDING\n",
        "from pymongo.errors import DuplicateKeyError, BulkWriteError\n",
        "import numpy as np\n",
        "from fredapi import Fred\n",
        "from datetime import datetime, timedelta\n",
        "import time\n",
        "\n",
        "import logging\n",
        "import pytz\n",
        "from functools import reduce\n",
        "\n",
        "import matplotlib.pyplot as plt\n",
        "import seaborn as sns\n",
        "import random\n",
        "import os\n",
        "from tqdm import tqdm\n",
        "import warnings\n",
        "warnings.filterwarnings('ignore')\n",
        "\n",
        "import ta\n",
        "\n",
        "from sklearn.svm import SVR\n",
        "from sklearn.preprocessing import MinMaxScaler\n",
        "from sklearn.model_selection import GridSearchCV, RandomizedSearchCV, TimeSeriesSplit\n",
        "from sklearn.metrics import mean_squared_error, mean_absolute_error, r2_score, mean_absolute_percentage_error\n",
        "import xgboost as xgb\n",
        "import shap\n",
        "\n",
        "import plotly.graph_objects as go\n",
        "from plotly.subplots import make_subplots\n",
        "plt.style.use('seaborn-v0_8-darkgrid')\n",
        "sns.set_palette(\"husl\")\n"
      ]
    },
    {
      "cell_type": "markdown",
      "metadata": {
        "id": "yWyfy3pzfwkx"
      },
      "source": [
        "## **Data Collection**"
      ]
    },
    {
      "cell_type": "code",
      "execution_count": null,
      "metadata": {
        "colab": {
          "base_uri": "https://localhost:8080/"
        },
        "id": "WVACKUEif02g",
        "outputId": "c06cc3e1-fa38-475d-9d70-c801b7d9fc92"
      },
      "outputs": [
        {
          "name": "stdout",
          "output_type": "stream",
          "text": [
            "Connected to FRED API\n",
            "Connected to coinbase exchange\n",
            "Connected to MongoDB database: Solana_Forecasting\n",
            "Created/verified index on timestamp for collection: SOL_USDT_1h\n",
            "Fetching 1h OHLCV data for SOL/USDT from 2021-06-25 00:00:00 to 2025-06-05 14:30:16.179000...\n",
            "Fetched 300 candles for SOL/USDT. Last timestamp: 2021-07-07 11:00:00\n",
            "Fetched 300 candles for SOL/USDT. Last timestamp: 2021-07-19 23:00:00\n",
            "Fetched 300 candles for SOL/USDT. Last timestamp: 2021-08-01 11:00:00\n",
            "Fetched 300 candles for SOL/USDT. Last timestamp: 2021-08-13 23:00:00\n",
            "Fetched 300 candles for SOL/USDT. Last timestamp: 2021-08-26 11:00:00\n",
            "Fetched 300 candles for SOL/USDT. Last timestamp: 2021-09-07 23:00:00\n",
            "Fetched 300 candles for SOL/USDT. Last timestamp: 2021-09-20 11:00:00\n",
            "Fetched 300 candles for SOL/USDT. Last timestamp: 2021-10-02 23:00:00\n",
            "Fetched 300 candles for SOL/USDT. Last timestamp: 2021-10-15 11:00:00\n",
            "Fetched 300 candles for SOL/USDT. Last timestamp: 2021-10-27 23:00:00\n",
            "Fetched 300 candles for SOL/USDT. Last timestamp: 2021-11-09 11:00:00\n",
            "Fetched 300 candles for SOL/USDT. Last timestamp: 2021-11-21 23:00:00\n",
            "Fetched 300 candles for SOL/USDT. Last timestamp: 2021-12-04 11:00:00\n",
            "Fetched 300 candles for SOL/USDT. Last timestamp: 2021-12-16 23:00:00\n",
            "Fetched 300 candles for SOL/USDT. Last timestamp: 2021-12-29 11:00:00\n",
            "Fetched 300 candles for SOL/USDT. Last timestamp: 2022-01-10 23:00:00\n",
            "Fetched 300 candles for SOL/USDT. Last timestamp: 2022-01-23 11:00:00\n",
            "Fetched 300 candles for SOL/USDT. Last timestamp: 2022-02-04 23:00:00\n",
            "Fetched 300 candles for SOL/USDT. Last timestamp: 2022-02-17 11:00:00\n",
            "Fetched 300 candles for SOL/USDT. Last timestamp: 2022-03-01 23:00:00\n",
            "Fetched 300 candles for SOL/USDT. Last timestamp: 2022-03-14 11:00:00\n",
            "Fetched 300 candles for SOL/USDT. Last timestamp: 2022-03-26 23:00:00\n",
            "Fetched 300 candles for SOL/USDT. Last timestamp: 2022-04-08 11:00:00\n",
            "Fetched 300 candles for SOL/USDT. Last timestamp: 2022-04-20 23:00:00\n",
            "Fetched 300 candles for SOL/USDT. Last timestamp: 2022-05-03 11:00:00\n",
            "Fetched 300 candles for SOL/USDT. Last timestamp: 2022-05-15 23:00:00\n",
            "Fetched 300 candles for SOL/USDT. Last timestamp: 2022-05-28 11:00:00\n",
            "Fetched 300 candles for SOL/USDT. Last timestamp: 2022-06-09 23:00:00\n",
            "Fetched 300 candles for SOL/USDT. Last timestamp: 2022-06-22 11:00:00\n",
            "Fetched 300 candles for SOL/USDT. Last timestamp: 2022-07-04 23:00:00\n",
            "Fetched 300 candles for SOL/USDT. Last timestamp: 2022-07-17 11:00:00\n",
            "Fetched 300 candles for SOL/USDT. Last timestamp: 2022-07-29 23:00:00\n",
            "Fetched 300 candles for SOL/USDT. Last timestamp: 2022-08-11 11:00:00\n",
            "Fetched 300 candles for SOL/USDT. Last timestamp: 2022-08-23 23:00:00\n",
            "Fetched 300 candles for SOL/USDT. Last timestamp: 2022-09-05 11:00:00\n",
            "Fetched 300 candles for SOL/USDT. Last timestamp: 2022-09-17 23:00:00\n",
            "Fetched 300 candles for SOL/USDT. Last timestamp: 2022-09-30 11:00:00\n",
            "Fetched 300 candles for SOL/USDT. Last timestamp: 2022-10-12 23:00:00\n",
            "Fetched 300 candles for SOL/USDT. Last timestamp: 2022-10-25 11:00:00\n",
            "Fetched 300 candles for SOL/USDT. Last timestamp: 2022-11-06 23:00:00\n",
            "Fetched 300 candles for SOL/USDT. Last timestamp: 2022-11-19 11:00:00\n",
            "Fetched 300 candles for SOL/USDT. Last timestamp: 2022-12-01 23:00:00\n",
            "Fetched 299 candles for SOL/USDT. Last timestamp: 2022-12-14 11:00:00\n",
            "Fetched 300 candles for SOL/USDT. Last timestamp: 2022-12-26 23:00:00\n",
            "Fetched 300 candles for SOL/USDT. Last timestamp: 2023-01-08 11:00:00\n",
            "Fetched 300 candles for SOL/USDT. Last timestamp: 2023-01-20 23:00:00\n",
            "Fetched 300 candles for SOL/USDT. Last timestamp: 2023-02-02 11:00:00\n",
            "Fetched 300 candles for SOL/USDT. Last timestamp: 2023-02-14 23:00:00\n",
            "Fetched 300 candles for SOL/USDT. Last timestamp: 2023-02-27 11:00:00\n",
            "Fetched 295 candles for SOL/USDT. Last timestamp: 2023-03-11 23:00:00\n",
            "Fetched 300 candles for SOL/USDT. Last timestamp: 2023-03-24 11:00:00\n",
            "Fetched 300 candles for SOL/USDT. Last timestamp: 2023-04-05 23:00:00\n",
            "Fetched 299 candles for SOL/USDT. Last timestamp: 2023-04-18 11:00:00\n",
            "Fetched 299 candles for SOL/USDT. Last timestamp: 2023-04-30 23:00:00\n",
            "Fetched 300 candles for SOL/USDT. Last timestamp: 2023-05-13 11:00:00\n",
            "Fetched 297 candles for SOL/USDT. Last timestamp: 2023-05-25 22:00:00\n",
            "Fetched 295 candles for SOL/USDT. Last timestamp: 2023-06-07 10:00:00\n",
            "Fetched 300 candles for SOL/USDT. Last timestamp: 2023-06-19 22:00:00\n",
            "Fetched 300 candles for SOL/USDT. Last timestamp: 2023-07-02 10:00:00\n",
            "Fetched 300 candles for SOL/USDT. Last timestamp: 2023-07-14 22:00:00\n",
            "Fetched 300 candles for SOL/USDT. Last timestamp: 2023-07-27 10:00:00\n",
            "Fetched 299 candles for SOL/USDT. Last timestamp: 2023-08-08 22:00:00\n",
            "Fetched 298 candles for SOL/USDT. Last timestamp: 2023-08-21 10:00:00\n",
            "Fetched 297 candles for SOL/USDT. Last timestamp: 2023-09-02 22:00:00\n",
            "Fetched 293 candles for SOL/USDT. Last timestamp: 2023-09-15 10:00:00\n",
            "Fetched 292 candles for SOL/USDT. Last timestamp: 2023-09-27 22:00:00\n",
            "Fetched 298 candles for SOL/USDT. Last timestamp: 2023-10-10 10:00:00\n",
            "Fetched 298 candles for SOL/USDT. Last timestamp: 2023-10-22 22:00:00\n",
            "Fetched 300 candles for SOL/USDT. Last timestamp: 2023-11-04 10:00:00\n",
            "Fetched 300 candles for SOL/USDT. Last timestamp: 2023-11-16 22:00:00\n",
            "Fetched 300 candles for SOL/USDT. Last timestamp: 2023-11-29 10:00:00\n",
            "Fetched 300 candles for SOL/USDT. Last timestamp: 2023-12-11 22:00:00\n",
            "Fetched 300 candles for SOL/USDT. Last timestamp: 2023-12-24 10:00:00\n",
            "Fetched 300 candles for SOL/USDT. Last timestamp: 2024-01-05 22:00:00\n",
            "Fetched 300 candles for SOL/USDT. Last timestamp: 2024-01-18 10:00:00\n",
            "Fetched 300 candles for SOL/USDT. Last timestamp: 2024-01-30 22:00:00\n",
            "Fetched 300 candles for SOL/USDT. Last timestamp: 2024-02-12 10:00:00\n",
            "Fetched 300 candles for SOL/USDT. Last timestamp: 2024-02-24 22:00:00\n",
            "Fetched 300 candles for SOL/USDT. Last timestamp: 2024-03-08 10:00:00\n",
            "Fetched 300 candles for SOL/USDT. Last timestamp: 2024-03-20 22:00:00\n",
            "Fetched 300 candles for SOL/USDT. Last timestamp: 2024-04-02 10:00:00\n",
            "Fetched 300 candles for SOL/USDT. Last timestamp: 2024-04-14 22:00:00\n",
            "Fetched 300 candles for SOL/USDT. Last timestamp: 2024-04-27 10:00:00\n",
            "Fetched 300 candles for SOL/USDT. Last timestamp: 2024-05-09 22:00:00\n",
            "Fetched 300 candles for SOL/USDT. Last timestamp: 2024-05-22 10:00:00\n",
            "Fetched 299 candles for SOL/USDT. Last timestamp: 2024-06-03 22:00:00\n",
            "Fetched 300 candles for SOL/USDT. Last timestamp: 2024-06-16 10:00:00\n",
            "Fetched 300 candles for SOL/USDT. Last timestamp: 2024-06-28 22:00:00\n",
            "Fetched 300 candles for SOL/USDT. Last timestamp: 2024-07-11 10:00:00\n",
            "Fetched 300 candles for SOL/USDT. Last timestamp: 2024-07-23 22:00:00\n",
            "Fetched 300 candles for SOL/USDT. Last timestamp: 2024-08-05 10:00:00\n",
            "Fetched 300 candles for SOL/USDT. Last timestamp: 2024-08-17 22:00:00\n",
            "Fetched 300 candles for SOL/USDT. Last timestamp: 2024-08-30 10:00:00\n",
            "Fetched 300 candles for SOL/USDT. Last timestamp: 2024-09-11 22:00:00\n",
            "Fetched 300 candles for SOL/USDT. Last timestamp: 2024-09-24 10:00:00\n",
            "Fetched 300 candles for SOL/USDT. Last timestamp: 2024-10-06 22:00:00\n",
            "Fetched 300 candles for SOL/USDT. Last timestamp: 2024-10-19 10:00:00\n",
            "Fetched 299 candles for SOL/USDT. Last timestamp: 2024-10-31 22:00:00\n",
            "Fetched 300 candles for SOL/USDT. Last timestamp: 2024-11-13 10:00:00\n",
            "Fetched 300 candles for SOL/USDT. Last timestamp: 2024-11-25 22:00:00\n",
            "Fetched 300 candles for SOL/USDT. Last timestamp: 2024-12-08 10:00:00\n",
            "Fetched 300 candles for SOL/USDT. Last timestamp: 2024-12-20 22:00:00\n",
            "Fetched 300 candles for SOL/USDT. Last timestamp: 2025-01-02 10:00:00\n",
            "Fetched 300 candles for SOL/USDT. Last timestamp: 2025-01-14 22:00:00\n",
            "Fetched 300 candles for SOL/USDT. Last timestamp: 2025-01-27 10:00:00\n",
            "Fetched 300 candles for SOL/USDT. Last timestamp: 2025-02-08 22:00:00\n",
            "Fetched 300 candles for SOL/USDT. Last timestamp: 2025-02-21 10:00:00\n",
            "Fetched 300 candles for SOL/USDT. Last timestamp: 2025-03-05 22:00:00\n",
            "Fetched 300 candles for SOL/USDT. Last timestamp: 2025-03-18 10:00:00\n",
            "Fetched 300 candles for SOL/USDT. Last timestamp: 2025-03-30 22:00:00\n",
            "Fetched 300 candles for SOL/USDT. Last timestamp: 2025-04-12 10:00:00\n",
            "Fetched 300 candles for SOL/USDT. Last timestamp: 2025-04-24 22:00:00\n",
            "Fetched 300 candles for SOL/USDT. Last timestamp: 2025-05-07 10:00:00\n",
            "Fetched 300 candles for SOL/USDT. Last timestamp: 2025-05-19 22:00:00\n",
            "Fetched 300 candles for SOL/USDT. Last timestamp: 2025-06-01 10:00:00\n",
            "Fetched 100 candles for SOL/USDT. Last timestamp: 2025-06-05 14:00:00\n",
            "Successfully fetched 34557 candles for SOL/USDT from 2021-06-25 00:00:00 to 2025-06-05 14:00:00\n",
            "Fetching 1h OHLCV data for BTC/USDT from 2021-06-25 00:00:00 to 2025-06-05 14:30:16.179000...\n",
            "Fetched 300 candles for BTC/USDT. Last timestamp: 2021-07-07 11:00:00\n",
            "Fetched 300 candles for BTC/USDT. Last timestamp: 2021-07-19 23:00:00\n",
            "Fetched 300 candles for BTC/USDT. Last timestamp: 2021-08-01 11:00:00\n",
            "Fetched 300 candles for BTC/USDT. Last timestamp: 2021-08-13 23:00:00\n",
            "Fetched 300 candles for BTC/USDT. Last timestamp: 2021-08-26 11:00:00\n",
            "Fetched 300 candles for BTC/USDT. Last timestamp: 2021-09-07 23:00:00\n",
            "Fetched 300 candles for BTC/USDT. Last timestamp: 2021-09-20 11:00:00\n",
            "Fetched 300 candles for BTC/USDT. Last timestamp: 2021-10-02 23:00:00\n",
            "Fetched 300 candles for BTC/USDT. Last timestamp: 2021-10-15 11:00:00\n",
            "Fetched 300 candles for BTC/USDT. Last timestamp: 2021-10-27 23:00:00\n",
            "Fetched 300 candles for BTC/USDT. Last timestamp: 2021-11-09 11:00:00\n",
            "Fetched 300 candles for BTC/USDT. Last timestamp: 2021-11-21 23:00:00\n",
            "Fetched 300 candles for BTC/USDT. Last timestamp: 2021-12-04 11:00:00\n",
            "Fetched 300 candles for BTC/USDT. Last timestamp: 2021-12-16 23:00:00\n",
            "Fetched 300 candles for BTC/USDT. Last timestamp: 2021-12-29 11:00:00\n",
            "Fetched 300 candles for BTC/USDT. Last timestamp: 2022-01-10 23:00:00\n",
            "Fetched 300 candles for BTC/USDT. Last timestamp: 2022-01-23 11:00:00\n",
            "Fetched 300 candles for BTC/USDT. Last timestamp: 2022-02-04 23:00:00\n",
            "Fetched 300 candles for BTC/USDT. Last timestamp: 2022-02-17 11:00:00\n",
            "Fetched 300 candles for BTC/USDT. Last timestamp: 2022-03-01 23:00:00\n",
            "Fetched 300 candles for BTC/USDT. Last timestamp: 2022-03-14 11:00:00\n",
            "Fetched 300 candles for BTC/USDT. Last timestamp: 2022-03-26 23:00:00\n",
            "Fetched 300 candles for BTC/USDT. Last timestamp: 2022-04-08 11:00:00\n",
            "Fetched 300 candles for BTC/USDT. Last timestamp: 2022-04-20 23:00:00\n",
            "Fetched 300 candles for BTC/USDT. Last timestamp: 2022-05-03 11:00:00\n",
            "Fetched 300 candles for BTC/USDT. Last timestamp: 2022-05-15 23:00:00\n",
            "Fetched 300 candles for BTC/USDT. Last timestamp: 2022-05-28 11:00:00\n",
            "Fetched 300 candles for BTC/USDT. Last timestamp: 2022-06-09 23:00:00\n",
            "Fetched 300 candles for BTC/USDT. Last timestamp: 2022-06-22 11:00:00\n",
            "Fetched 300 candles for BTC/USDT. Last timestamp: 2022-07-04 23:00:00\n",
            "Fetched 300 candles for BTC/USDT. Last timestamp: 2022-07-17 11:00:00\n",
            "Fetched 300 candles for BTC/USDT. Last timestamp: 2022-07-29 23:00:00\n",
            "Fetched 300 candles for BTC/USDT. Last timestamp: 2022-08-11 11:00:00\n",
            "Fetched 300 candles for BTC/USDT. Last timestamp: 2022-08-23 23:00:00\n",
            "Fetched 300 candles for BTC/USDT. Last timestamp: 2022-09-05 11:00:00\n",
            "Fetched 300 candles for BTC/USDT. Last timestamp: 2022-09-17 23:00:00\n",
            "Fetched 300 candles for BTC/USDT. Last timestamp: 2022-09-30 11:00:00\n",
            "Fetched 300 candles for BTC/USDT. Last timestamp: 2022-10-12 23:00:00\n",
            "Fetched 300 candles for BTC/USDT. Last timestamp: 2022-10-25 11:00:00\n",
            "Fetched 300 candles for BTC/USDT. Last timestamp: 2022-11-06 23:00:00\n",
            "Fetched 300 candles for BTC/USDT. Last timestamp: 2022-11-19 11:00:00\n",
            "Fetched 300 candles for BTC/USDT. Last timestamp: 2022-12-01 23:00:00\n",
            "Fetched 300 candles for BTC/USDT. Last timestamp: 2022-12-14 11:00:00\n",
            "Fetched 300 candles for BTC/USDT. Last timestamp: 2022-12-26 23:00:00\n",
            "Fetched 300 candles for BTC/USDT. Last timestamp: 2023-01-08 11:00:00\n",
            "Fetched 300 candles for BTC/USDT. Last timestamp: 2023-01-20 23:00:00\n",
            "Fetched 300 candles for BTC/USDT. Last timestamp: 2023-02-02 11:00:00\n",
            "Fetched 300 candles for BTC/USDT. Last timestamp: 2023-02-14 23:00:00\n",
            "Fetched 300 candles for BTC/USDT. Last timestamp: 2023-02-27 11:00:00\n",
            "Fetched 296 candles for BTC/USDT. Last timestamp: 2023-03-11 23:00:00\n",
            "Fetched 300 candles for BTC/USDT. Last timestamp: 2023-03-24 11:00:00\n",
            "Fetched 300 candles for BTC/USDT. Last timestamp: 2023-04-05 23:00:00\n",
            "Fetched 300 candles for BTC/USDT. Last timestamp: 2023-04-18 11:00:00\n",
            "Fetched 300 candles for BTC/USDT. Last timestamp: 2023-04-30 23:00:00\n",
            "Fetched 300 candles for BTC/USDT. Last timestamp: 2023-05-13 11:00:00\n",
            "Fetched 300 candles for BTC/USDT. Last timestamp: 2023-05-25 23:00:00\n",
            "Fetched 300 candles for BTC/USDT. Last timestamp: 2023-06-07 11:00:00\n",
            "Fetched 300 candles for BTC/USDT. Last timestamp: 2023-06-19 23:00:00\n",
            "Fetched 300 candles for BTC/USDT. Last timestamp: 2023-07-02 11:00:00\n",
            "Fetched 300 candles for BTC/USDT. Last timestamp: 2023-07-14 23:00:00\n",
            "Fetched 300 candles for BTC/USDT. Last timestamp: 2023-07-27 11:00:00\n",
            "Fetched 300 candles for BTC/USDT. Last timestamp: 2023-08-08 23:00:00\n",
            "Fetched 300 candles for BTC/USDT. Last timestamp: 2023-08-21 11:00:00\n",
            "Fetched 300 candles for BTC/USDT. Last timestamp: 2023-09-02 23:00:00\n",
            "Fetched 300 candles for BTC/USDT. Last timestamp: 2023-09-15 11:00:00\n",
            "Fetched 300 candles for BTC/USDT. Last timestamp: 2023-09-27 23:00:00\n",
            "Fetched 300 candles for BTC/USDT. Last timestamp: 2023-10-10 11:00:00\n",
            "Fetched 300 candles for BTC/USDT. Last timestamp: 2023-10-22 23:00:00\n",
            "Fetched 300 candles for BTC/USDT. Last timestamp: 2023-11-04 11:00:00\n",
            "Fetched 300 candles for BTC/USDT. Last timestamp: 2023-11-16 23:00:00\n",
            "Fetched 300 candles for BTC/USDT. Last timestamp: 2023-11-29 11:00:00\n",
            "Fetched 300 candles for BTC/USDT. Last timestamp: 2023-12-11 23:00:00\n",
            "Fetched 300 candles for BTC/USDT. Last timestamp: 2023-12-24 11:00:00\n",
            "Fetched 300 candles for BTC/USDT. Last timestamp: 2024-01-05 23:00:00\n",
            "Fetched 300 candles for BTC/USDT. Last timestamp: 2024-01-18 11:00:00\n",
            "Fetched 300 candles for BTC/USDT. Last timestamp: 2024-01-30 23:00:00\n",
            "Fetched 300 candles for BTC/USDT. Last timestamp: 2024-02-12 11:00:00\n",
            "Fetched 300 candles for BTC/USDT. Last timestamp: 2024-02-24 23:00:00\n",
            "Fetched 300 candles for BTC/USDT. Last timestamp: 2024-03-08 11:00:00\n",
            "Fetched 300 candles for BTC/USDT. Last timestamp: 2024-03-20 23:00:00\n",
            "Fetched 300 candles for BTC/USDT. Last timestamp: 2024-04-02 11:00:00\n",
            "Fetched 300 candles for BTC/USDT. Last timestamp: 2024-04-14 23:00:00\n",
            "Fetched 300 candles for BTC/USDT. Last timestamp: 2024-04-27 11:00:00\n",
            "Fetched 300 candles for BTC/USDT. Last timestamp: 2024-05-09 23:00:00\n",
            "Fetched 300 candles for BTC/USDT. Last timestamp: 2024-05-22 11:00:00\n",
            "Fetched 300 candles for BTC/USDT. Last timestamp: 2024-06-03 23:00:00\n",
            "Fetched 300 candles for BTC/USDT. Last timestamp: 2024-06-16 11:00:00\n",
            "Fetched 300 candles for BTC/USDT. Last timestamp: 2024-06-28 23:00:00\n",
            "Fetched 300 candles for BTC/USDT. Last timestamp: 2024-07-11 11:00:00\n",
            "Fetched 300 candles for BTC/USDT. Last timestamp: 2024-07-23 23:00:00\n",
            "Fetched 300 candles for BTC/USDT. Last timestamp: 2024-08-05 11:00:00\n",
            "Fetched 300 candles for BTC/USDT. Last timestamp: 2024-08-17 23:00:00\n",
            "Fetched 300 candles for BTC/USDT. Last timestamp: 2024-08-30 11:00:00\n",
            "Fetched 300 candles for BTC/USDT. Last timestamp: 2024-09-11 23:00:00\n",
            "Fetched 300 candles for BTC/USDT. Last timestamp: 2024-09-24 11:00:00\n",
            "Fetched 300 candles for BTC/USDT. Last timestamp: 2024-10-06 23:00:00\n",
            "Fetched 300 candles for BTC/USDT. Last timestamp: 2024-10-19 11:00:00\n",
            "Fetched 300 candles for BTC/USDT. Last timestamp: 2024-10-31 23:00:00\n",
            "Fetched 300 candles for BTC/USDT. Last timestamp: 2024-11-13 11:00:00\n",
            "Fetched 300 candles for BTC/USDT. Last timestamp: 2024-11-25 23:00:00\n",
            "Fetched 300 candles for BTC/USDT. Last timestamp: 2024-12-08 11:00:00\n",
            "Fetched 300 candles for BTC/USDT. Last timestamp: 2024-12-20 23:00:00\n",
            "Fetched 300 candles for BTC/USDT. Last timestamp: 2025-01-02 11:00:00\n",
            "Fetched 300 candles for BTC/USDT. Last timestamp: 2025-01-14 23:00:00\n",
            "Fetched 300 candles for BTC/USDT. Last timestamp: 2025-01-27 11:00:00\n",
            "Fetched 300 candles for BTC/USDT. Last timestamp: 2025-02-08 23:00:00\n",
            "Fetched 300 candles for BTC/USDT. Last timestamp: 2025-02-21 11:00:00\n",
            "Fetched 300 candles for BTC/USDT. Last timestamp: 2025-03-05 23:00:00\n",
            "Fetched 300 candles for BTC/USDT. Last timestamp: 2025-03-18 11:00:00\n",
            "Fetched 300 candles for BTC/USDT. Last timestamp: 2025-03-30 23:00:00\n",
            "Fetched 300 candles for BTC/USDT. Last timestamp: 2025-04-12 11:00:00\n",
            "Fetched 300 candles for BTC/USDT. Last timestamp: 2025-04-24 23:00:00\n",
            "Fetched 300 candles for BTC/USDT. Last timestamp: 2025-05-07 11:00:00\n",
            "Fetched 300 candles for BTC/USDT. Last timestamp: 2025-05-19 23:00:00\n",
            "Fetched 300 candles for BTC/USDT. Last timestamp: 2025-06-01 11:00:00\n",
            "Fetched 99 candles for BTC/USDT. Last timestamp: 2025-06-05 14:00:00\n",
            "Successfully fetched 34595 candles for BTC/USDT from 2021-06-25 00:00:00 to 2025-06-05 14:00:00\n",
            "Fetching US_CPI data from FRED...\n",
            "Successfully fetched US_CPI data: 47 observations\n",
            "Fetching US_core_CPI data from FRED...\n",
            "Successfully fetched US_core_CPI data: 47 observations\n",
            "Fetching US_fed_funds_rate data from FRED...\n",
            "Successfully fetched US_fed_funds_rate data: 48 observations\n",
            "Fetching US_inflation data from FRED...\n",
            "Successfully fetched US_inflation data: 1029 observations\n",
            "Fetching US_unemployment data from FRED...\n",
            "Successfully fetched US_unemployment data: 47 observations\n",
            "Fetching US_GDP data from FRED...\n",
            "Successfully fetched US_GDP data: 16 observations\n",
            "Fetching US_consumer_sentiment data from FRED...\n",
            "Successfully fetched US_consumer_sentiment data: 47 observations\n",
            "Fetching UK_CPI data from FRED...\n",
            "Successfully fetched UK_CPI data: 46 observations\n",
            "Fetching UK_PPI data from FRED...\n",
            "Error fetching UK_PPI data: Bad Request.  The series does not exist.\n",
            "Fetching UK_funds_rate data from FRED...\n",
            "Error fetching UK_funds_rate data: Bad Request.  The series does not exist.\n",
            "Fetching UK_GDP data from FRED...\n",
            "Error fetching UK_GDP data: Bad Request.  The series does not exist.\n",
            "Fetching UK_unemployment data from FRED...\n",
            "Successfully fetched UK_unemployment data: 3 observations\n",
            "Fetching UK_inflation data from FRED...\n",
            "Successfully fetched UK_inflation data: 4 observations\n",
            "Fetching DE_CPI data from FRED...\n",
            "Successfully fetched DE_CPI data: 46 observations\n",
            "Fetching DE_PPI data from FRED...\n",
            "Error fetching DE_PPI data: Bad Request.  The series does not exist.\n",
            "Fetching DE_fund_rate data from FRED...\n",
            "Error fetching DE_fund_rate data: Bad Request.  The series does not exist.\n",
            "Fetching DE_GDP data from FRED...\n",
            "Successfully fetched DE_GDP data: 16 observations\n",
            "Fetching DE_unemployment data from FRED...\n",
            "Successfully fetched DE_unemployment data: 32 observations\n",
            "Fetching DE_inflation data from FRED...\n",
            "Successfully fetched DE_inflation data: 4 observations\n",
            "Fetching FR_CPI data from FRED...\n",
            "Successfully fetched FR_CPI data: 46 observations\n",
            "Fetching FR_PPI data from FRED...\n",
            "Error fetching FR_PPI data: Bad Request.  The series does not exist.\n",
            "Fetching FR_fund_rate data from FRED...\n",
            "Error fetching FR_fund_rate data: Bad Request.  The series does not exist.\n",
            "Fetching FR_GDP data from FRED...\n",
            "Successfully fetched FR_GDP data: 16 observations\n",
            "Fetching FR_unemployment data from FRED...\n",
            "Error fetching FR_unemployment data: Bad Request.  The series does not exist.\n",
            "Fetching FR_inflation data from FRED...\n",
            "Successfully fetched FR_inflation data: 4 observations\n",
            "Fetching CN_CPI data from FRED...\n",
            "Successfully fetched CN_CPI data: 47 observations\n",
            "Fetching CN_PPI data from FRED...\n",
            "Error fetching CN_PPI data: Bad Request.  The series does not exist.\n",
            "Fetching CN_fund_rate data from FRED...\n",
            "Error fetching CN_fund_rate data: Bad Request.  The series does not exist.\n",
            "Fetching CN_GDP data from FRED...\n",
            "Error fetching CN_GDP data: Bad Request.  The series does not exist.\n",
            "Fetching CN_unemployment data from FRED...\n",
            "Error fetching CN_unemployment data: Bad Request.  The series does not exist.\n",
            "Fetching CN_Inflation data from FRED...\n",
            "Successfully fetched CN_Inflation data: 4 observations\n",
            "Fetching KR_CPI data from FRED...\n",
            "Successfully fetched KR_CPI data: 30 observations\n",
            "Fetching KR_PPI data from FRED...\n",
            "Error fetching KR_PPI data: Bad Request.  The series does not exist.\n",
            "Fetching KR_fund_rate data from FRED...\n",
            "Error fetching KR_fund_rate data: Bad Request.  The series does not exist.\n",
            "Fetching KR_GDP data from FRED...\n",
            "Error fetching KR_GDP data: Bad Request.  The series does not exist.\n",
            "Fetching KR_Tunemployment data from FRED...\n",
            "Error fetching KR_Tunemployment data: Bad Request.  The series does not exist.\n",
            "Fetching KR_Inflation data from FRED...\n",
            "Successfully fetched KR_Inflation data: 4 observations\n",
            "Fetching JP_CPI data from FRED...\n",
            "Successfully fetched JP_CPI data: 1 observations\n",
            "Fetching JP_PPI data from FRED...\n",
            "Error fetching JP_PPI data: Bad Request.  The series does not exist.\n",
            "Fetching JP_fund_rate data from FRED...\n",
            "Successfully fetched JP_fund_rate data: 46 observations\n",
            "Fetching JP_GDP data from FRED...\n",
            "Successfully fetched JP_GDP data: 15 observations\n",
            "Fetching JP_unemployment data from FRED...\n",
            "Successfully fetched JP_unemployment data: 46 observations\n",
            "Fetching JP_Inflation data from FRED...\n",
            "Successfully fetched JP_Inflation data: 4 observations\n",
            "Added US_CPI economic data and sentiment analysis\n",
            "Added US_core_CPI economic data and sentiment analysis\n",
            "Added US_fed_funds_rate economic data and sentiment analysis\n",
            "Added US_inflation economic data and sentiment analysis\n",
            "Added US_unemployment economic data and sentiment analysis\n",
            "Added US_GDP economic data and sentiment analysis\n",
            "Added US_consumer_sentiment economic data and sentiment analysis\n",
            "Added UK_CPI economic data and sentiment analysis\n",
            "Added UK_unemployment economic data and sentiment analysis\n",
            "Added UK_inflation economic data and sentiment analysis\n",
            "Added DE_CPI economic data and sentiment analysis\n",
            "Added DE_GDP economic data and sentiment analysis\n",
            "Added DE_unemployment economic data and sentiment analysis\n",
            "Added DE_inflation economic data and sentiment analysis\n",
            "Added FR_CPI economic data and sentiment analysis\n",
            "Added FR_GDP economic data and sentiment analysis\n",
            "Added FR_inflation economic data and sentiment analysis\n",
            "Added CN_CPI economic data and sentiment analysis\n",
            "Added CN_Inflation economic data and sentiment analysis\n",
            "Added KR_CPI economic data and sentiment analysis\n",
            "Added KR_Inflation economic data and sentiment analysis\n",
            "Added JP_CPI economic data and sentiment analysis\n",
            "Added JP_fund_rate economic data and sentiment analysis\n",
            "Added JP_GDP economic data and sentiment analysis\n",
            "Added JP_unemployment economic data and sentiment analysis\n",
            "Added JP_Inflation economic data and sentiment analysis\n",
            "\n",
            "Data Info:\n",
            "<class 'pandas.core.frame.DataFrame'>\n",
            "RangeIndex: 747303 entries, 0 to 747302\n",
            "Columns: 107 entries, timestamp to JP_Inflation_sentiment\n",
            "dtypes: category(26), datetime64[ns](1), float64(74), int32(5), int64(1)\n",
            "memory usage: 466.1 MB\n",
            "None\n",
            "\n",
            "Data Sample:\n",
            "            timestamp  open_SOL_USDT  high_SOL_USDT  low_SOL_USDT  \\\n",
            "0 2021-06-25 00:00:00         31.169         32.116        31.169   \n",
            "1 2021-06-25 00:00:00         31.169         32.116        31.169   \n",
            "2 2021-06-25 00:00:00         31.169         32.116        31.169   \n",
            "3 2021-06-25 00:00:00         31.169         32.116        31.169   \n",
            "4 2021-06-25 01:00:00         31.346         31.938        31.130   \n",
            "\n",
            "   close_SOL_USDT  volume_SOL_USDT  open_BTC_USDT  high_BTC_USDT  \\\n",
            "0          31.513          747.188       34726.88       35136.38   \n",
            "1          31.513          747.188       34726.88       35136.38   \n",
            "2          31.513          747.188       34726.88       35136.38   \n",
            "3          31.513          747.188       34726.88       35136.38   \n",
            "4          31.938           96.118       34551.33       34817.71   \n",
            "\n",
            "   low_BTC_USDT  close_BTC_USDT  ...  JP_fund_rate_sentiment  JP_GDP  \\\n",
            "0      34618.42        34618.42  ...                       0     NaN   \n",
            "1      34618.42        34618.42  ...                       0     NaN   \n",
            "2      34618.42        34618.42  ...                       0     NaN   \n",
            "3      34618.42        34618.42  ...                       0     NaN   \n",
            "4      34264.88        34809.23  ...                       0     NaN   \n",
            "\n",
            "   JP_GDP_zscore  JP_GDP_sentiment  JP_unemployment  JP_unemployment_zscore  \\\n",
            "0            NaN               NaN              2.9                3.244915   \n",
            "1            NaN               NaN              2.9                3.244915   \n",
            "2            NaN               NaN              2.9                3.244915   \n",
            "3            NaN               NaN              2.9                3.244915   \n",
            "4            NaN               NaN              2.9                3.244915   \n",
            "\n",
            "   JP_unemployment_sentiment  JP_Inflation  JP_Inflation_zscore  \\\n",
            "0                          1           NaN                  NaN   \n",
            "1                          1           NaN                  NaN   \n",
            "2                          1           NaN                  NaN   \n",
            "3                          1           NaN                  NaN   \n",
            "4                          1           NaN                  NaN   \n",
            "\n",
            "   JP_Inflation_sentiment  \n",
            "0                     NaN  \n",
            "1                     NaN  \n",
            "2                     NaN  \n",
            "3                     NaN  \n",
            "4                     NaN  \n",
            "\n",
            "[5 rows x 107 columns]\n",
            "Data saved to SOL_USDT_1h_20250605.csv\n",
            "Batch 1: Processed 1000 records\n",
            "Batch 2: Processed 1000 records\n",
            "Batch 3: Processed 1000 records\n",
            "Batch 4: Processed 1000 records\n",
            "Batch 5: Processed 1000 records\n",
            "Batch 6: Processed 1000 records\n",
            "Batch 7: Processed 1000 records\n",
            "Batch 8: Processed 1000 records\n",
            "Batch 9: Processed 1000 records\n",
            "Batch 10: Processed 1000 records\n",
            "Batch 11: Processed 1000 records\n",
            "Batch 12: Processed 1000 records\n",
            "Batch 13: Processed 1000 records\n",
            "Batch 14: Processed 1000 records\n",
            "Batch 15: Processed 1000 records\n",
            "Batch 16: Processed 1000 records\n",
            "Batch 17: Processed 1000 records\n",
            "Batch 18: Processed 1000 records\n",
            "Batch 19: Processed 1000 records\n",
            "Batch 20: Processed 1000 records\n",
            "Batch 21: Processed 1000 records\n",
            "Batch 22: Processed 1000 records\n",
            "Batch 23: Processed 1000 records\n",
            "Batch 24: Processed 1000 records\n",
            "Batch 25: Processed 1000 records\n",
            "Batch 26: Processed 1000 records\n",
            "Batch 27: Processed 1000 records\n",
            "Batch 28: Processed 1000 records\n",
            "Batch 29: Processed 1000 records\n",
            "Batch 30: Processed 1000 records\n",
            "Batch 31: Processed 1000 records\n",
            "Batch 32: Processed 1000 records\n",
            "Batch 33: Processed 1000 records\n",
            "Batch 34: Processed 1000 records\n",
            "Batch 35: Processed 1000 records\n",
            "Batch 36: Processed 1000 records\n",
            "Batch 37: Processed 1000 records\n",
            "Batch 38: Processed 1000 records\n",
            "Batch 39: Processed 1000 records\n",
            "Batch 40: Processed 1000 records\n",
            "Batch 41: Processed 1000 records\n",
            "Batch 42: Processed 1000 records\n",
            "Batch 43: Processed 1000 records\n",
            "Batch 44: Processed 1000 records\n",
            "Batch 45: Processed 1000 records\n",
            "Batch 46: Processed 1000 records\n",
            "Batch 47: Processed 1000 records\n",
            "Batch 48: Processed 1000 records\n",
            "Batch 49: Processed 1000 records\n",
            "Batch 50: Processed 1000 records\n",
            "Batch 51: Processed 1000 records\n",
            "Batch 52: Processed 1000 records\n",
            "Batch 53: Processed 1000 records\n",
            "Batch 54: Processed 1000 records\n",
            "Batch 55: Processed 1000 records\n",
            "Batch 56: Processed 1000 records\n",
            "Batch 57: Processed 1000 records\n",
            "Batch 58: Processed 1000 records\n",
            "Batch 59: Processed 1000 records\n",
            "Batch 60: Processed 1000 records\n",
            "Batch 61: Processed 1000 records\n",
            "Batch 62: Processed 1000 records\n",
            "Batch 63: Processed 1000 records\n",
            "Batch 64: Processed 1000 records\n",
            "Batch 65: Processed 1000 records\n",
            "Batch 66: Processed 1000 records\n",
            "Batch 67: Processed 1000 records\n",
            "Batch 68: Processed 1000 records\n",
            "Batch 69: Processed 1000 records\n",
            "Batch 70: Processed 1000 records\n",
            "Batch 71: Processed 1000 records\n",
            "Batch 72: Processed 1000 records\n",
            "Batch 73: Processed 1000 records\n",
            "Batch 74: Processed 1000 records\n",
            "Batch 75: Processed 1000 records\n",
            "Batch 76: Processed 1000 records\n",
            "Batch 77: Processed 1000 records\n",
            "Batch 78: Processed 1000 records\n",
            "Batch 79: Processed 1000 records\n",
            "Batch 80: Processed 1000 records\n",
            "Batch 81: Processed 1000 records\n",
            "Batch 82: Processed 1000 records\n",
            "Batch 83: Processed 1000 records\n",
            "Batch 84: Processed 1000 records\n",
            "Batch 85: Processed 1000 records\n",
            "Batch 86: Processed 1000 records\n",
            "Batch 87: Processed 1000 records\n",
            "Batch 88: Processed 1000 records\n",
            "Batch 89: Processed 1000 records\n",
            "Batch 90: Processed 1000 records\n",
            "Batch 91: Processed 1000 records\n",
            "Batch 92: Processed 1000 records\n",
            "Batch 93: Processed 1000 records\n",
            "Batch 94: Processed 1000 records\n",
            "Batch 95: Processed 1000 records\n",
            "Batch 96: Processed 1000 records\n",
            "Batch 97: Processed 1000 records\n",
            "Batch 98: Processed 1000 records\n",
            "Batch 99: Processed 1000 records\n",
            "Batch 100: Processed 1000 records\n",
            "Batch 101: Processed 1000 records\n",
            "Batch 102: Processed 1000 records\n",
            "Batch 103: Processed 1000 records\n",
            "Batch 104: Processed 1000 records\n",
            "Batch 105: Processed 1000 records\n",
            "Batch 106: Processed 1000 records\n",
            "Batch 107: Processed 1000 records\n",
            "Batch 108: Processed 1000 records\n",
            "Batch 109: Processed 1000 records\n",
            "Batch 110: Processed 1000 records\n",
            "Batch 111: Processed 1000 records\n",
            "Batch 112: Processed 1000 records\n",
            "Batch 113: Processed 1000 records\n",
            "Batch 114: Processed 1000 records\n",
            "Batch 115: Processed 1000 records\n",
            "Batch 116: Processed 1000 records\n",
            "Batch 117: Processed 1000 records\n",
            "Batch 118: Processed 1000 records\n",
            "Batch 119: Processed 1000 records\n",
            "Batch 120: Processed 1000 records\n",
            "Batch 121: Processed 1000 records\n",
            "Batch 122: Processed 1000 records\n",
            "Batch 123: Processed 1000 records\n",
            "Batch 124: Processed 1000 records\n",
            "Batch 125: Processed 1000 records\n",
            "Batch 126: Processed 1000 records\n",
            "Batch 127: Processed 1000 records\n",
            "Batch 128: Processed 1000 records\n",
            "Batch 129: Processed 1000 records\n",
            "Batch 130: Processed 1000 records\n",
            "Batch 131: Processed 1000 records\n",
            "Batch 132: Processed 1000 records\n",
            "Batch 133: Processed 1000 records\n",
            "Batch 134: Processed 1000 records\n",
            "Batch 135: Processed 1000 records\n",
            "Batch 136: Processed 1000 records\n",
            "Batch 137: Processed 1000 records\n",
            "Batch 138: Processed 1000 records\n",
            "Batch 139: Processed 1000 records\n",
            "Batch 140: Processed 1000 records\n",
            "Batch 141: Processed 1000 records\n",
            "Batch 142: Processed 1000 records\n",
            "Batch 143: Processed 1000 records\n",
            "Batch 144: Processed 1000 records\n",
            "Batch 145: Processed 1000 records\n",
            "Batch 146: Processed 1000 records\n",
            "Batch 147: Processed 1000 records\n",
            "Batch 148: Processed 1000 records\n",
            "Batch 149: Processed 1000 records\n",
            "Batch 150: Processed 1000 records\n",
            "Batch 151: Processed 1000 records\n",
            "Batch 152: Processed 1000 records\n",
            "Batch 153: Processed 1000 records\n",
            "Batch 154: Processed 1000 records\n",
            "Batch 155: Processed 1000 records\n",
            "Batch 156: Processed 1000 records\n",
            "Batch 157: Processed 1000 records\n",
            "Batch 158: Processed 1000 records\n",
            "Batch 159: Processed 1000 records\n",
            "Batch 160: Processed 1000 records\n",
            "Batch 161: Processed 1000 records\n",
            "Batch 162: Processed 1000 records\n",
            "Batch 163: Processed 1000 records\n",
            "Batch 164: Processed 1000 records\n",
            "Batch 165: Processed 1000 records\n",
            "Batch 166: Processed 1000 records\n",
            "Batch 167: Processed 1000 records\n",
            "Batch 168: Processed 1000 records\n",
            "Batch 169: Processed 1000 records\n",
            "Batch 170: Processed 1000 records\n",
            "Batch 171: Processed 1000 records\n",
            "Batch 172: Processed 1000 records\n",
            "Batch 173: Processed 1000 records\n",
            "Batch 174: Processed 1000 records\n",
            "Batch 175: Processed 1000 records\n",
            "Batch 176: Processed 1000 records\n",
            "Batch 177: Processed 1000 records\n",
            "Batch 178: Processed 1000 records\n",
            "Batch 179: Processed 1000 records\n",
            "Batch 180: Processed 1000 records\n",
            "Batch 181: Processed 1000 records\n",
            "Batch 182: Processed 1000 records\n",
            "Batch 183: Processed 1000 records\n",
            "Batch 184: Processed 1000 records\n",
            "Batch 185: Processed 1000 records\n",
            "Batch 186: Processed 1000 records\n",
            "Batch 187: Processed 1000 records\n",
            "Batch 188: Processed 1000 records\n",
            "Batch 189: Processed 1000 records\n",
            "Batch 190: Processed 1000 records\n",
            "Batch 191: Processed 1000 records\n",
            "Batch 192: Processed 1000 records\n",
            "Batch 193: Processed 1000 records\n",
            "Batch 194: Processed 1000 records\n",
            "Batch 195: Processed 1000 records\n",
            "Batch 196: Processed 1000 records\n",
            "Batch 197: Processed 1000 records\n",
            "Batch 198: Processed 1000 records\n",
            "Batch 199: Processed 1000 records\n",
            "Batch 200: Processed 1000 records\n",
            "Batch 201: Processed 1000 records\n",
            "Batch 202: Processed 1000 records\n",
            "Batch 203: Processed 1000 records\n",
            "Batch 204: Processed 1000 records\n",
            "Batch 205: Processed 1000 records\n",
            "Batch 206: Processed 1000 records\n",
            "Batch 207: Processed 1000 records\n",
            "Batch 208: Processed 1000 records\n",
            "Batch 209: Processed 1000 records\n",
            "Batch 210: Processed 1000 records\n",
            "Batch 211: Processed 1000 records\n",
            "Batch 212: Processed 1000 records\n",
            "Batch 213: Processed 1000 records\n",
            "Batch 214: Processed 1000 records\n",
            "Batch 215: Processed 1000 records\n",
            "Batch 216: Processed 1000 records\n",
            "Batch 217: Processed 1000 records\n",
            "Batch 218: Processed 1000 records\n",
            "Batch 219: Processed 1000 records\n",
            "Batch 220: Processed 1000 records\n",
            "Batch 221: Processed 1000 records\n",
            "Batch 222: Processed 1000 records\n",
            "Batch 223: Processed 1000 records\n",
            "Batch 224: Processed 1000 records\n",
            "Batch 225: Processed 1000 records\n",
            "Batch 226: Processed 1000 records\n",
            "Batch 227: Processed 1000 records\n",
            "Batch 228: Processed 1000 records\n",
            "Batch 229: Processed 1000 records\n",
            "Batch 230: Processed 1000 records\n",
            "Batch 231: Processed 1000 records\n",
            "Batch 232: Processed 1000 records\n",
            "Batch 233: Processed 1000 records\n",
            "Batch 234: Processed 1000 records\n",
            "Batch 235: Processed 1000 records\n",
            "Batch 236: Processed 1000 records\n",
            "Batch 237: Processed 1000 records\n",
            "Batch 238: Processed 1000 records\n",
            "Batch 239: Processed 1000 records\n",
            "Batch 240: Processed 1000 records\n",
            "Batch 241: Processed 1000 records\n",
            "Batch 242: Processed 1000 records\n",
            "Batch 243: Processed 1000 records\n",
            "Batch 244: Processed 1000 records\n",
            "Batch 245: Processed 1000 records\n",
            "Batch 246: Processed 1000 records\n",
            "Batch 247: Processed 1000 records\n",
            "Batch 248: Processed 1000 records\n",
            "Batch 249: Processed 1000 records\n",
            "Batch 250: Processed 1000 records\n",
            "Batch 251: Processed 1000 records\n",
            "Batch 252: Processed 1000 records\n",
            "Batch 253: Processed 1000 records\n",
            "Batch 254: Processed 1000 records\n",
            "Batch 255: Processed 1000 records\n",
            "Batch 256: Processed 1000 records\n",
            "Batch 257: Processed 1000 records\n",
            "Batch 258: Processed 1000 records\n",
            "Batch 259: Processed 1000 records\n",
            "Batch 260: Processed 1000 records\n",
            "Batch 261: Processed 1000 records\n",
            "Batch 262: Processed 1000 records\n",
            "Batch 263: Processed 1000 records\n",
            "Batch 264: Processed 1000 records\n",
            "Batch 265: Processed 1000 records\n",
            "Batch 266: Processed 1000 records\n",
            "Batch 267: Processed 1000 records\n",
            "Batch 268: Processed 1000 records\n",
            "Batch 269: Processed 1000 records\n",
            "Batch 270: Processed 1000 records\n",
            "Batch 271: Processed 1000 records\n",
            "Batch 272: Processed 1000 records\n",
            "Batch 273: Processed 1000 records\n",
            "Batch 274: Processed 1000 records\n",
            "Batch 275: Processed 1000 records\n",
            "Batch 276: Processed 1000 records\n",
            "Batch 277: Processed 1000 records\n",
            "Batch 278: Processed 1000 records\n",
            "Batch 279: Processed 1000 records\n",
            "Batch 280: Processed 1000 records\n",
            "Batch 281: Processed 1000 records\n",
            "Batch 282: Processed 1000 records\n",
            "Batch 283: Processed 1000 records\n",
            "Batch 284: Processed 1000 records\n",
            "Batch 285: Processed 1000 records\n",
            "Batch 286: Processed 1000 records\n",
            "Batch 287: Processed 1000 records\n",
            "Batch 288: Processed 1000 records\n",
            "Batch 289: Processed 1000 records\n",
            "Batch 290: Processed 1000 records\n",
            "Batch 291: Processed 1000 records\n",
            "Batch 292: Processed 1000 records\n",
            "Batch 293: Processed 1000 records\n",
            "Batch 294: Processed 1000 records\n",
            "Batch 295: Processed 1000 records\n",
            "Batch 296: Processed 1000 records\n",
            "Batch 297: Processed 1000 records\n",
            "Batch 298: Processed 1000 records\n",
            "Batch 299: Processed 1000 records\n",
            "Batch 300: Processed 1000 records\n",
            "Batch 301: Processed 1000 records\n",
            "Batch 302: Processed 1000 records\n",
            "Batch 303: Processed 1000 records\n",
            "Batch 304: Processed 1000 records\n",
            "Batch 305: Processed 1000 records\n",
            "Batch 306: Processed 1000 records\n",
            "Batch 307: Processed 1000 records\n",
            "Batch 308: Processed 1000 records\n",
            "Batch 309: Processed 1000 records\n",
            "Batch 310: Processed 1000 records\n",
            "Batch 311: Processed 1000 records\n",
            "Batch 312: Processed 1000 records\n",
            "Batch 313: Processed 1000 records\n",
            "Batch 314: Processed 1000 records\n",
            "Batch 315: Processed 1000 records\n",
            "Batch 316: Processed 1000 records\n",
            "Batch 317: Processed 1000 records\n",
            "Batch 318: Processed 1000 records\n",
            "Batch 319: Processed 1000 records\n",
            "Batch 320: Processed 1000 records\n",
            "Batch 321: Processed 1000 records\n",
            "Batch 322: Processed 1000 records\n",
            "Batch 323: Processed 1000 records\n",
            "Batch 324: Processed 1000 records\n",
            "Batch 325: Processed 1000 records\n",
            "Batch 326: Processed 1000 records\n",
            "Batch 327: Processed 1000 records\n",
            "Batch 328: Processed 1000 records\n",
            "Batch 329: Processed 1000 records\n",
            "Batch 330: Processed 1000 records\n",
            "Batch 331: Processed 1000 records\n",
            "Batch 332: Processed 1000 records\n",
            "Batch 333: Processed 1000 records\n",
            "Batch 334: Processed 1000 records\n",
            "Batch 335: Processed 1000 records\n",
            "Batch 336: Processed 1000 records\n",
            "Batch 337: Processed 1000 records\n",
            "Batch 338: Processed 1000 records\n",
            "Batch 339: Processed 1000 records\n",
            "Batch 340: Processed 1000 records\n",
            "Batch 341: Processed 1000 records\n",
            "Batch 342: Processed 1000 records\n",
            "Batch 343: Processed 1000 records\n",
            "Batch 344: Processed 1000 records\n",
            "Batch 345: Processed 1000 records\n",
            "Batch 346: Processed 1000 records\n",
            "Batch 347: Processed 1000 records\n",
            "Batch 348: Processed 1000 records\n",
            "Batch 349: Processed 1000 records\n",
            "Batch 350: Processed 1000 records\n",
            "Batch 351: Processed 1000 records\n",
            "Batch 352: Processed 1000 records\n",
            "Batch 353: Processed 1000 records\n",
            "Batch 354: Processed 1000 records\n",
            "Batch 355: Processed 1000 records\n",
            "Batch 356: Processed 1000 records\n",
            "Batch 357: Processed 1000 records\n",
            "Batch 358: Processed 1000 records\n",
            "Batch 359: Processed 1000 records\n",
            "Batch 360: Processed 1000 records\n",
            "Batch 361: Processed 1000 records\n",
            "Batch 362: Processed 1000 records\n",
            "Batch 363: Processed 1000 records\n",
            "Batch 364: Processed 1000 records\n",
            "Batch 365: Processed 1000 records\n",
            "Batch 366: Processed 1000 records\n",
            "Batch 367: Processed 1000 records\n",
            "Batch 368: Processed 1000 records\n",
            "Batch 369: Processed 1000 records\n",
            "Batch 370: Processed 1000 records\n",
            "Batch 371: Processed 1000 records\n",
            "Batch 372: Processed 1000 records\n",
            "Batch 373: Processed 1000 records\n",
            "Batch 374: Processed 1000 records\n",
            "Batch 375: Processed 1000 records\n",
            "Batch 376: Processed 1000 records\n",
            "Batch 377: Processed 1000 records\n",
            "Batch 378: Processed 1000 records\n",
            "Batch 379: Processed 1000 records\n",
            "Batch 380: Processed 1000 records\n",
            "Batch 381: Processed 1000 records\n",
            "Batch 382: Processed 1000 records\n",
            "Batch 383: Processed 1000 records\n",
            "Batch 384: Processed 1000 records\n",
            "Batch 385: Processed 1000 records\n",
            "Batch 386: Processed 1000 records\n",
            "Batch 387: Processed 1000 records\n",
            "Batch 388: Processed 1000 records\n",
            "Batch 389: Processed 1000 records\n",
            "Batch 390: Processed 1000 records\n",
            "Batch 391: Processed 1000 records\n",
            "Batch 392: Processed 1000 records\n",
            "Batch 393: Processed 1000 records\n",
            "Batch 394: Processed 1000 records\n",
            "Batch 395: Processed 1000 records\n",
            "Batch 396: Processed 1000 records\n",
            "Batch 397: Processed 1000 records\n",
            "Batch 398: Processed 1000 records\n",
            "Batch 399: Processed 1000 records\n",
            "Batch 400: Processed 1000 records\n",
            "Batch 401: Processed 1000 records\n",
            "Batch 402: Processed 1000 records\n",
            "Batch 403: Processed 1000 records\n",
            "Batch 404: Processed 1000 records\n",
            "Batch 405: Processed 1000 records\n",
            "Batch 406: Processed 1000 records\n",
            "Batch 407: Processed 1000 records\n",
            "Batch 408: Processed 1000 records\n",
            "Batch 409: Processed 1000 records\n",
            "Batch 410: Processed 1000 records\n",
            "Batch 411: Processed 1000 records\n",
            "Batch 412: Processed 1000 records\n",
            "Batch 413: Processed 1000 records\n",
            "Batch 414: Processed 1000 records\n",
            "Batch 415: Processed 1000 records\n",
            "Batch 416: Processed 1000 records\n",
            "Batch 417: Processed 1000 records\n",
            "Batch 418: Processed 1000 records\n",
            "Batch 419: Processed 1000 records\n",
            "Batch 420: Processed 1000 records\n",
            "Batch 421: Processed 1000 records\n",
            "Batch 422: Processed 1000 records\n",
            "Batch 423: Processed 1000 records\n",
            "Batch 424: Processed 1000 records\n",
            "Batch 425: Processed 1000 records\n",
            "Batch 426: Processed 1000 records\n",
            "Batch 427: Processed 1000 records\n",
            "Batch 428: Processed 1000 records\n",
            "Batch 429: Processed 1000 records\n",
            "Batch 430: Processed 1000 records\n",
            "Batch 431: Processed 1000 records\n",
            "Batch 432: Processed 1000 records\n",
            "Batch 433: Processed 1000 records\n",
            "Batch 434: Processed 1000 records\n",
            "Batch 435: Processed 1000 records\n",
            "Batch 436: Processed 1000 records\n",
            "Batch 437: Processed 1000 records\n",
            "Batch 438: Processed 1000 records\n",
            "Batch 439: Processed 1000 records\n",
            "Batch 440: Processed 1000 records\n",
            "Batch 441: Processed 1000 records\n",
            "Batch 442: Processed 1000 records\n",
            "Batch 443: Processed 1000 records\n",
            "Batch 444: Processed 1000 records\n",
            "Batch 445: Processed 1000 records\n",
            "Batch 446: Processed 1000 records\n",
            "Batch 447: Processed 1000 records\n",
            "Batch 448: Processed 1000 records\n",
            "Batch 449: Processed 1000 records\n",
            "Batch 450: Processed 1000 records\n",
            "Batch 451: Processed 1000 records\n",
            "Batch 452: Processed 1000 records\n",
            "Batch 453: Processed 1000 records\n",
            "Batch 454: Processed 1000 records\n",
            "Batch 455: Processed 1000 records\n",
            "Batch 456: Processed 1000 records\n",
            "Batch 457: Processed 1000 records\n",
            "Batch 458: Processed 1000 records\n",
            "Batch 459: Processed 1000 records\n",
            "Batch 460: Processed 1000 records\n",
            "Batch 461: Processed 1000 records\n",
            "Batch 462: Processed 1000 records\n",
            "Batch 463: Processed 1000 records\n",
            "Batch 464: Processed 1000 records\n",
            "Batch 465: Processed 1000 records\n",
            "Batch 466: Processed 1000 records\n",
            "Batch 467: Processed 1000 records\n",
            "Batch 468: Processed 1000 records\n",
            "Batch 469: Processed 1000 records\n",
            "Batch 470: Processed 1000 records\n",
            "Batch 471: Processed 1000 records\n",
            "Batch 472: Processed 1000 records\n",
            "Batch 473: Processed 1000 records\n",
            "Batch 474: Processed 1000 records\n",
            "Batch 475: Processed 1000 records\n",
            "Batch 476: Processed 1000 records\n",
            "Batch 477: Processed 1000 records\n",
            "Batch 478: Processed 1000 records\n",
            "Batch 479: Processed 1000 records\n",
            "Batch 480: Processed 1000 records\n",
            "Batch 481: Processed 1000 records\n",
            "Batch 482: Processed 1000 records\n",
            "Batch 483: Processed 1000 records\n",
            "Batch 484: Processed 1000 records\n",
            "Batch 485: Processed 1000 records\n",
            "Batch 486: Processed 1000 records\n",
            "Batch 487: Processed 1000 records\n",
            "Batch 488: Processed 1000 records\n",
            "Batch 489: Processed 1000 records\n",
            "Batch 490: Processed 1000 records\n",
            "Batch 491: Processed 1000 records\n",
            "Batch 492: Processed 1000 records\n",
            "Batch 493: Processed 1000 records\n",
            "Batch 494: Processed 1000 records\n",
            "Batch 495: Processed 1000 records\n",
            "Batch 496: Processed 1000 records\n",
            "Batch 497: Processed 1000 records\n",
            "Batch 498: Processed 1000 records\n",
            "Batch 499: Processed 1000 records\n",
            "Batch 500: Processed 1000 records\n",
            "Batch 501: Processed 1000 records\n",
            "Batch 502: Processed 1000 records\n",
            "Batch 503: Processed 1000 records\n",
            "Batch 504: Processed 1000 records\n",
            "Batch 505: Processed 1000 records\n",
            "Batch 506: Processed 1000 records\n",
            "Batch 507: Processed 1000 records\n",
            "Batch 508: Processed 1000 records\n",
            "Batch 509: Processed 1000 records\n",
            "Batch 510: Processed 1000 records\n",
            "Batch 511: Processed 1000 records\n",
            "Batch 512: Processed 1000 records\n",
            "Batch 513: Processed 1000 records\n",
            "Batch 514: Processed 1000 records\n",
            "Batch 515: Processed 1000 records\n",
            "Batch 516: Processed 1000 records\n",
            "Batch 517: Processed 1000 records\n",
            "Batch 518: Processed 1000 records\n",
            "Batch 519: Processed 1000 records\n",
            "Batch 520: Processed 1000 records\n",
            "Batch 521: Processed 1000 records\n",
            "Batch 522: Processed 1000 records\n",
            "Batch 523: Processed 1000 records\n",
            "Batch 524: Processed 1000 records\n",
            "Batch 525: Processed 1000 records\n",
            "Batch 526: Processed 1000 records\n",
            "Batch 527: Processed 1000 records\n",
            "Batch 528: Processed 1000 records\n",
            "Batch 529: Processed 1000 records\n",
            "Batch 530: Processed 1000 records\n",
            "Batch 531: Processed 1000 records\n",
            "Batch 532: Processed 1000 records\n",
            "Batch 533: Processed 1000 records\n",
            "Batch 534: Processed 1000 records\n",
            "Batch 535: Processed 1000 records\n",
            "Batch 536: Processed 1000 records\n",
            "Batch 537: Processed 1000 records\n",
            "Batch 538: Processed 1000 records\n",
            "Batch 539: Processed 1000 records\n",
            "Batch 540: Processed 1000 records\n",
            "Batch 541: Processed 1000 records\n",
            "Batch 542: Processed 1000 records\n",
            "Batch 543: Processed 1000 records\n",
            "Batch 544: Processed 1000 records\n",
            "Batch 545: Processed 1000 records\n",
            "Batch 546: Processed 1000 records\n",
            "Batch 547: Processed 1000 records\n",
            "Batch 548: Processed 1000 records\n",
            "Batch 549: Processed 1000 records\n",
            "Batch 550: Processed 1000 records\n",
            "Batch 551: Processed 1000 records\n",
            "Batch 552: Processed 1000 records\n",
            "Batch 553: Processed 1000 records\n",
            "Batch 554: Processed 1000 records\n",
            "Batch 555: Processed 1000 records\n",
            "Batch 556: Processed 1000 records\n",
            "Batch 557: Processed 1000 records\n",
            "Batch 558: Processed 1000 records\n",
            "Batch 559: Processed 1000 records\n",
            "Batch 560: Processed 1000 records\n",
            "Batch 561: Processed 1000 records\n",
            "Batch 562: Processed 1000 records\n",
            "Batch 563: Processed 1000 records\n",
            "Batch 564: Processed 1000 records\n",
            "Batch 565: Processed 1000 records\n",
            "Batch 566: Processed 1000 records\n",
            "Batch 567: Processed 1000 records\n",
            "Batch 568: Processed 1000 records\n",
            "Batch 569: Processed 1000 records\n",
            "Batch 570: Processed 1000 records\n",
            "Batch 571: Processed 1000 records\n",
            "Batch 572: Processed 1000 records\n",
            "Batch 573: Processed 1000 records\n",
            "Batch 574: Processed 1000 records\n",
            "Batch 575: Processed 1000 records\n",
            "Batch 576: Processed 1000 records\n",
            "Batch 577: Processed 1000 records\n",
            "Batch 578: Processed 1000 records\n",
            "Batch 579: Processed 1000 records\n",
            "Batch 580: Processed 1000 records\n",
            "Batch 581: Processed 1000 records\n",
            "Batch 582: Processed 1000 records\n",
            "Batch 583: Processed 1000 records\n",
            "Batch 584: Processed 1000 records\n",
            "Batch 585: Processed 1000 records\n",
            "Batch 586: Processed 1000 records\n",
            "Batch 587: Processed 1000 records\n",
            "Batch 588: Processed 1000 records\n",
            "Batch 589: Processed 1000 records\n",
            "Batch 590: Processed 1000 records\n",
            "Batch 591: Processed 1000 records\n",
            "Batch 592: Processed 1000 records\n",
            "Batch 593: Processed 1000 records\n",
            "Batch 594: Processed 1000 records\n",
            "Batch 595: Processed 1000 records\n",
            "Batch 596: Processed 1000 records\n",
            "Batch 597: Processed 1000 records\n",
            "Batch 598: Processed 1000 records\n",
            "Batch 599: Processed 1000 records\n",
            "Batch 600: Processed 1000 records\n",
            "Batch 601: Processed 1000 records\n",
            "Batch 602: Processed 1000 records\n",
            "Batch 603: Processed 1000 records\n",
            "Batch 604: Processed 1000 records\n",
            "Batch 605: Processed 1000 records\n",
            "Batch 606: Processed 1000 records\n",
            "Batch 607: Processed 1000 records\n",
            "Batch 608: Processed 1000 records\n",
            "Batch 609: Processed 1000 records\n",
            "Batch 610: Processed 1000 records\n",
            "Batch 611: Processed 1000 records\n",
            "Batch 612: Processed 1000 records\n",
            "Batch 613: Processed 1000 records\n",
            "Batch 614: Processed 1000 records\n",
            "Batch 615: Processed 1000 records\n",
            "Batch 616: Processed 1000 records\n",
            "Batch 617: Processed 1000 records\n",
            "Batch 618: Processed 1000 records\n",
            "Batch 619: Processed 1000 records\n",
            "Batch 620: Processed 1000 records\n",
            "Batch 621: Processed 1000 records\n",
            "Batch 622: Processed 1000 records\n",
            "Batch 623: Processed 1000 records\n",
            "Batch 624: Processed 1000 records\n",
            "Batch 625: Processed 1000 records\n",
            "Batch 626: Processed 1000 records\n",
            "Batch 627: Processed 1000 records\n",
            "Batch 628: Processed 1000 records\n",
            "Batch 629: Processed 1000 records\n",
            "Batch 630: Processed 1000 records\n",
            "Batch 631: Processed 1000 records\n",
            "Batch 632: Processed 1000 records\n",
            "Batch 633: Processed 1000 records\n",
            "Batch 634: Processed 1000 records\n",
            "Batch 635: Processed 1000 records\n",
            "Batch 636: Processed 1000 records\n",
            "Batch 637: Processed 1000 records\n",
            "Batch 638: Processed 1000 records\n",
            "Batch 639: Processed 1000 records\n",
            "Batch 640: Processed 1000 records\n",
            "Batch 641: Processed 1000 records\n",
            "Batch 642: Processed 1000 records\n",
            "Batch 643: Processed 1000 records\n",
            "Batch 644: Processed 1000 records\n",
            "Batch 645: Processed 1000 records\n",
            "Batch 646: Processed 1000 records\n",
            "Batch 647: Processed 1000 records\n",
            "Batch 648: Processed 1000 records\n",
            "Batch 649: Processed 1000 records\n",
            "Batch 650: Processed 1000 records\n",
            "Batch 651: Processed 1000 records\n",
            "Batch 652: Processed 1000 records\n",
            "Batch 653: Processed 1000 records\n",
            "Batch 654: Processed 1000 records\n",
            "Batch 655: Processed 1000 records\n",
            "Batch 656: Processed 1000 records\n",
            "Batch 657: Processed 1000 records\n",
            "Batch 658: Processed 1000 records\n",
            "Batch 659: Processed 1000 records\n",
            "Batch 660: Processed 1000 records\n",
            "Batch 661: Processed 1000 records\n",
            "Batch 662: Processed 1000 records\n",
            "Batch 663: Processed 1000 records\n",
            "Batch 664: Processed 1000 records\n",
            "Batch 665: Processed 1000 records\n",
            "Batch 666: Processed 1000 records\n",
            "Batch 667: Processed 1000 records\n",
            "Batch 668: Processed 1000 records\n",
            "Batch 669: Processed 1000 records\n",
            "Batch 670: Processed 1000 records\n",
            "Batch 671: Processed 1000 records\n",
            "Batch 672: Processed 1000 records\n",
            "Batch 673: Processed 1000 records\n",
            "Batch 674: Processed 1000 records\n",
            "Batch 675: Processed 1000 records\n",
            "Batch 676: Processed 1000 records\n",
            "Batch 677: Processed 1000 records\n",
            "Batch 678: Processed 1000 records\n",
            "Batch 679: Processed 1000 records\n",
            "Batch 680: Processed 1000 records\n",
            "Batch 681: Processed 1000 records\n",
            "Batch 682: Processed 1000 records\n",
            "Batch 683: Processed 1000 records\n",
            "Batch 684: Processed 1000 records\n",
            "Batch 685: Processed 1000 records\n",
            "Batch 686: Processed 1000 records\n",
            "Batch 687: Processed 1000 records\n",
            "Batch 688: Processed 1000 records\n",
            "Batch 689: Processed 1000 records\n",
            "Batch 690: Processed 1000 records\n",
            "Batch 691: Processed 1000 records\n",
            "Batch 692: Processed 1000 records\n",
            "Batch 693: Processed 1000 records\n",
            "Batch 694: Processed 1000 records\n",
            "Batch 695: Processed 1000 records\n",
            "Batch 696: Processed 1000 records\n",
            "Batch 697: Processed 1000 records\n",
            "Batch 698: Processed 1000 records\n",
            "Batch 699: Processed 1000 records\n",
            "Batch 700: Processed 1000 records\n",
            "Batch 701: Processed 1000 records\n",
            "Batch 702: Processed 1000 records\n",
            "Batch 703: Processed 1000 records\n",
            "Batch 704: Processed 1000 records\n",
            "Batch 705: Processed 1000 records\n",
            "Batch 706: Processed 1000 records\n",
            "Batch 707: Processed 1000 records\n",
            "Batch 708: Processed 1000 records\n",
            "Batch 709: Processed 1000 records\n",
            "Batch 710: Processed 1000 records\n",
            "Batch 711: Processed 1000 records\n",
            "Batch 712: Processed 1000 records\n",
            "Batch 713: Processed 1000 records\n",
            "Batch 714: Processed 1000 records\n",
            "Batch 715: Processed 1000 records\n",
            "Batch 716: Processed 1000 records\n",
            "Batch 717: Processed 1000 records\n",
            "Batch 718: Processed 1000 records\n",
            "Batch 719: Processed 1000 records\n",
            "Batch 720: Processed 1000 records\n",
            "Batch 721: Processed 1000 records\n",
            "Batch 722: Processed 1000 records\n",
            "Batch 723: Processed 1000 records\n",
            "Batch 724: Processed 1000 records\n",
            "Batch 725: Processed 1000 records\n",
            "Batch 726: Processed 1000 records\n",
            "Batch 727: Processed 1000 records\n",
            "Batch 728: Processed 1000 records\n",
            "Batch 729: Processed 1000 records\n",
            "Batch 730: Processed 1000 records\n",
            "Batch 731: Processed 1000 records\n",
            "Batch 732: Processed 1000 records\n",
            "Batch 733: Processed 1000 records\n",
            "Batch 734: Processed 1000 records\n",
            "Batch 735: Processed 1000 records\n",
            "Batch 736: Processed 1000 records\n",
            "Batch 737: Processed 1000 records\n",
            "Batch 738: Processed 1000 records\n",
            "Batch 739: Processed 1000 records\n",
            "Batch 740: Processed 1000 records\n",
            "Batch 741: Processed 1000 records\n",
            "Batch 742: Processed 1000 records\n",
            "Batch 743: Processed 1000 records\n",
            "Batch 744: Processed 1000 records\n",
            "Batch 745: Processed 1000 records\n",
            "Batch 746: Processed 1000 records\n",
            "Batch 747: Processed 1000 records\n",
            "Batch 748: Processed 303 records\n",
            "MongoDB save completed: 34557 inserted, 0 duplicates, -12210837 errors\n",
            "\n",
            "MongoDB Save Statistics: {'inserted': 34557, 'duplicates': 0, 'errors': -12210837}\n",
            "\n",
            "Data extraction and enhancement with economic indicators completed successfully!\n"
          ]
        }
      ],
      "source": [
        "class CryptoDataExtractor:\n",
        "    def __init__(self, exchange_id='kucoin', symbols=['SOL/USDT','BTC/USDT'], timeframe='1h', mongo_uri=None, db_name='crypto_data', fred_api_key='eec17c9421eb1c65597dc75bdbc60b67'):\n",
        "        self.exchange_id = exchange_id\n",
        "        self.symbols = symbols\n",
        "        self.timeframe = timeframe\n",
        "        self.mongo_uri = mongo_uri\n",
        "        self.db_name = db_name\n",
        "        self.mongo_client = None\n",
        "        self.db = None\n",
        "        self.fred_api_key = fred_api_key\n",
        "        self.fred = None\n",
        "\n",
        "        if fred_api_key:\n",
        "            try:\n",
        "                self.fred = Fred(api_key=fred_api_key)\n",
        "                print(\"Connected to FRED API\")\n",
        "            except Exception as e:\n",
        "                print(f\"Error connecting to FRED API: {e}\")\n",
        "                warnings.warn(\"FRED API connection failed. Economic indicators will not be available.\")\n",
        "\n",
        "        try:\n",
        "            exchange_class = getattr(ccxt, exchange_id)\n",
        "            self.exchange = exchange_class({\n",
        "                'enableRateLimit': True,\n",
        "                'timeout': 30000,\n",
        "                'adjustForTimeDifference': True,\n",
        "            })\n",
        "            print(f\"Connected to {exchange_id} exchange\")\n",
        "        except Exception as e:\n",
        "            print(f\"Error connecting to exchange: {e}\")\n",
        "            raise\n",
        "\n",
        "        if mongo_uri:\n",
        "            try:\n",
        "                self.mongo_client = MongoClient(mongo_uri)\n",
        "                self.db = self.mongo_client[db_name]\n",
        "                print(f\"Connected to MongoDB database: {db_name}\")\n",
        "\n",
        "                collection_name = f\"{self.symbols[0].replace('/', '_')}_{self.timeframe}\"\n",
        "                self.collection = self.db[collection_name]\n",
        "\n",
        "                self.collection.create_index([(\"timestamp\", ASCENDING)], unique=True)\n",
        "                print(f\"Created/verified index on timestamp for collection: {collection_name}\")\n",
        "            except Exception as e:\n",
        "                print(f\"Error connecting to MongoDB: {e}\")\n",
        "                raise\n",
        "\n",
        "    def _fetch_ohlcv_for_symbol(self, symbol, limit=1000, since=None, end_date=None):\n",
        "        try:\n",
        "            if not self.exchange.has['fetchOHLCV']:\n",
        "                raise Exception(f\"{self.exchange_id} does not support fetching OHLCV data\")\n",
        "\n",
        "            self.exchange.load_markets()\n",
        "\n",
        "            if since is None:\n",
        "                since = int(datetime(2020, 1, 1).timestamp() * 1000)\n",
        "            elif isinstance(since, datetime):\n",
        "                since = int(since.timestamp() * 1000)\n",
        "\n",
        "            if end_date is None:\n",
        "                end_date = int(datetime.now().timestamp() * 1000)\n",
        "            elif isinstance(end_date, datetime):\n",
        "                end_date = int(end_date.timestamp() * 1000)\n",
        "\n",
        "            print(f\"Fetching {self.timeframe} OHLCV data for {symbol} from {datetime.fromtimestamp(since/1000)} to {datetime.fromtimestamp(end_date/1000)}...\")\n",
        "\n",
        "            all_ohlcv = []\n",
        "            current_since = since\n",
        "\n",
        "            while current_since < end_date:\n",
        "                ohlcv_chunk = self.exchange.fetch_ohlcv(\n",
        "                    symbol=symbol,\n",
        "                    timeframe=self.timeframe,\n",
        "                    limit=limit,\n",
        "                    since=current_since\n",
        "                )\n",
        "\n",
        "                if len(ohlcv_chunk) == 0:\n",
        "                    break\n",
        "\n",
        "                all_ohlcv.extend(ohlcv_chunk)\n",
        "\n",
        "                last_timestamp = ohlcv_chunk[-1][0]\n",
        "                current_since = last_timestamp + 1\n",
        "\n",
        "                if last_timestamp >= end_date:\n",
        "                    break\n",
        "\n",
        "                time.sleep(self.exchange.rateLimit / 1000)\n",
        "\n",
        "                print(f\"Fetched {len(ohlcv_chunk)} candles for {symbol}. Last timestamp: {datetime.fromtimestamp(last_timestamp/1000)}\")\n",
        "\n",
        "            df = pd.DataFrame(all_ohlcv, columns=['timestamp', 'open', 'high', 'low', 'close', 'volume'])\n",
        "            df = df.drop_duplicates(subset=['timestamp'])\n",
        "            df['timestamp'] = pd.to_datetime(df['timestamp'], unit='ms')\n",
        "\n",
        "            start_date_dt = pd.to_datetime(since, unit='ms')\n",
        "            end_date_dt = pd.to_datetime(end_date, unit='ms')\n",
        "            df = df[(df['timestamp'] >= start_date_dt) & (df['timestamp'] <= end_date_dt)]\n",
        "\n",
        "            print(f\"Successfully fetched {len(df)} candles for {symbol} from {df['timestamp'].min()} to {df['timestamp'].max()}\")\n",
        "\n",
        "            return df\n",
        "\n",
        "        except Exception as e:\n",
        "            print(f\"Error fetching OHLCV data for {symbol}: {e}\")\n",
        "            raise\n",
        "\n",
        "    def fetch_ohlcv_data(self, limit=1000, since=None, end_date=None):\n",
        "        dataframes = []\n",
        "\n",
        "        for symbol in self.symbols:\n",
        "            df = self._fetch_ohlcv_for_symbol(symbol, limit, since, end_date)\n",
        "            symbol_suffix = symbol.replace('/', '_')\n",
        "            df = df.rename(columns={\n",
        "                'open': f'open_{symbol_suffix}',\n",
        "                'high': f'high_{symbol_suffix}',\n",
        "                'low': f'low_{symbol_suffix}',\n",
        "                'close': f'close_{symbol_suffix}',\n",
        "                'volume': f'volume_{symbol_suffix}'\n",
        "            })\n",
        "            dataframes.append(df)\n",
        "\n",
        "        if len(dataframes) > 1:\n",
        "            df_merged = reduce(lambda left, right: pd.merge(left, right, on='timestamp', how='inner'), dataframes)\n",
        "        else:\n",
        "            df_merged = dataframes[0]\n",
        "\n",
        "        df_merged = df_merged.sort_values('timestamp')\n",
        "\n",
        "        return self.enhance_data(df_merged)\n",
        "\n",
        "    def fetch_economic_indicators(self, start_date, end_date):\n",
        "        if self.fred is None:\n",
        "            print(\"FRED API not initialized. Cannot fetch economic indicators.\")\n",
        "            return None\n",
        "\n",
        "        try:\n",
        "            indicators = {\n",
        "                'US_CPI': 'CPIAUCSL',\n",
        "                'US_core_CPI': 'CPILFESL',\n",
        "                'US_fed_funds_rate': 'FEDFUNDS',\n",
        "                'US_inflation': 'T10YIE',\n",
        "                'US_unemployment': 'UNRATE',\n",
        "                'US_GDP': 'GDPC1',\n",
        "                'US_consumer_sentiment': 'UMCSENT',\n",
        "\n",
        "                'UK_CPI': 'CPALTT01GBM659N',\n",
        "                'UK_PPI': 'PRAMUKM',\n",
        "                'UK_funds_rate': 'BOEINTBGR',\n",
        "                'UK_GDP': 'CLVMNACSCAB1GQGB',\n",
        "                'UK_unemployment': 'LMUNRRTTGBM156S',\n",
        "                'UK_inflation': 'FPCPITOTLZGGBR',\n",
        "\n",
        "                'DE_CPI': 'CPALTT01DEM659N',\n",
        "                'DE_PPI': 'DEUPPI',\n",
        "                'DE_fund_rate': 'ECBMRR',\n",
        "                'DE_GDP': 'CLVMNACSCAB1GQDE',\n",
        "                'DE_unemployment': 'LMUNRRTTDEM156S',\n",
        "                'DE_inflation': 'FPCPITOTLZGDEU',\n",
        "\n",
        "                'FR_CPI': 'CPALTT01FRM659N',\n",
        "                'FR_PPI': 'FRAPPI',\n",
        "                'FR_fund_rate': 'ECBMRR',\n",
        "                'FR_GDP': 'CLVMNACSCAB1GQFR',\n",
        "                'FR_unemployment': 'LMUNRRTTFRM156S',\n",
        "                'FR_inflation': 'FPCPITOTLZGFRA',\n",
        "\n",
        "                'CN_CPI': 'CPALTT01CNM659N',\n",
        "                'CN_PPI': 'CHNPROINDMISMEI',\n",
        "                'CN_fund_rate': 'DR007',\n",
        "                'CN_GDP': 'RGDPNACNCNQ',\n",
        "                'CN_unemployment': 'CHNURTSA',\n",
        "                'CN_Inflation': 'FPCPITOTLZGCHN',\n",
        "\n",
        "                'KR_CPI': 'CPALTT01KRM659N',\n",
        "                'KR_PPI': 'KORPPIALL',\n",
        "                'KR_fund_rate': 'BOKLDR1D',\n",
        "                'KR_GDP': 'RGDPNAKRQ',\n",
        "                'KR_Tunemployment': 'LMUNRRTTKRM156S',\n",
        "                'KR_Inflation': 'FPCPITOTLZGKOR',\n",
        "\n",
        "                'JP_CPI': 'JPNCPALTT01CTGYM',\n",
        "                'JP_PPI': 'JPNPRAM',\n",
        "                'JP_fund_rate': 'IR3TIB01JPM156N',\n",
        "                'JP_GDP': 'JPNRGDPEXP',\n",
        "                'JP_unemployment': 'LRUNTTTTJPM156S',\n",
        "                'JP_Inflation': 'FPCPITOTLZGJPN',\n",
        "            }\n",
        "\n",
        "            data = {}\n",
        "\n",
        "            for name, series_id in indicators.items():\n",
        "                print(f\"Fetching {name} data from FRED...\")\n",
        "                try:\n",
        "                    series = self.fred.get_series(\n",
        "                        series_id,\n",
        "                        observation_start=start_date,\n",
        "                        observation_end=end_date\n",
        "                    )\n",
        "                    df = pd.DataFrame(series).reset_index()\n",
        "                    df.columns = ['date', name]\n",
        "\n",
        "                    data[name] = df\n",
        "                    print(f\"Successfully fetched {name} data: {len(df)} observations\")\n",
        "                except Exception as e:\n",
        "                    print(f\"Error fetching {name} data: {e}\")\n",
        "\n",
        "            return data\n",
        "\n",
        "        except Exception as e:\n",
        "            print(f\"Error fetching economic indicators: {e}\")\n",
        "            return None\n",
        "\n",
        "    def merge_economic_data(self, crypto_df, economic_data):\n",
        "        if economic_data is None:\n",
        "            print(\"No economic data to merge. Returning original crypto data.\")\n",
        "            return crypto_df\n",
        "\n",
        "        try:\n",
        "            result_df = crypto_df.copy()\n",
        "\n",
        "            result_df['year'] = result_df['timestamp'].dt.year\n",
        "            result_df['month'] = result_df['timestamp'].dt.month\n",
        "\n",
        "            for indicator_name, indicator_df in economic_data.items():\n",
        "                indicator_df['date'] = pd.to_datetime(indicator_df['date'])\n",
        "\n",
        "                indicator_df['year'] = indicator_df['date'].dt.year\n",
        "                indicator_df['month'] = indicator_df['date'].dt.month\n",
        "\n",
        "                monthly_data = indicator_df[['year', 'month', indicator_name]].copy()\n",
        "\n",
        "                result_df = pd.merge(\n",
        "                    result_df,\n",
        "                    monthly_data,\n",
        "                    on=['year', 'month'],\n",
        "                    how='left'\n",
        "                )\n",
        "\n",
        "                result_df[indicator_name] = result_df[indicator_name].ffill()\n",
        "\n",
        "                mean = result_df[indicator_name].mean()\n",
        "                std = result_df[indicator_name].std()\n",
        "                result_df[f'{indicator_name}_zscore'] = (result_df[indicator_name] - mean) / std\n",
        "\n",
        "                result_df[f'{indicator_name}_sentiment'] = pd.cut(\n",
        "                    result_df[f'{indicator_name}_zscore'],\n",
        "                    bins=[-float('inf'), -1.0, 1.0, float('inf')],\n",
        "                    labels=[-1, 0, 1]\n",
        "                )\n",
        "\n",
        "                print(f\"Added {indicator_name} economic data and sentiment analysis\")\n",
        "\n",
        "            return result_df\n",
        "\n",
        "        except Exception as e:\n",
        "            print(f\"Error merging economic data: {e}\")\n",
        "            return crypto_df\n",
        "\n",
        "    def calculate_economic_correlations(self, df):\n",
        "        try:\n",
        "            economic_columns = [col for col in df.columns if any(\n",
        "                indicator in col for indicator in ['CPI', 'fed_funds_rate', 'inflation', 'unemployment', 'real_gdp', 'consumer_sentiment']\n",
        "            ) and 'sentiment' not in col]\n",
        "\n",
        "            price_columns = ['close', 'high', 'low', 'open', 'typical_price', 'range', 'close_pct_change']\n",
        "\n",
        "            corr_columns = price_columns + economic_columns\n",
        "            correlations = df[corr_columns].corr()\n",
        "\n",
        "            print(\"Calculated correlations between crypto prices and economic indicators\")\n",
        "            return correlations\n",
        "\n",
        "        except Exception as e:\n",
        "            print(f\"Error calculating economic correlations: {e}\")\n",
        "            return None\n",
        "\n",
        "    def enhance_data(self, df):\n",
        "        try:\n",
        "            enhanced_df = df.copy()\n",
        "\n",
        "            enhanced_df.set_index('timestamp', inplace=True)\n",
        "\n",
        "            enhanced_df['year'] = enhanced_df.index.year\n",
        "            enhanced_df['month'] = enhanced_df.index.month\n",
        "            enhanced_df['day'] = enhanced_df.index.day\n",
        "            enhanced_df['hour'] = enhanced_df.index.hour\n",
        "            enhanced_df['day_of_week'] = enhanced_df.index.dayofweek  # 0=Monday, 6=Sunday\n",
        "            enhanced_df['is_weekend'] = enhanced_df['day_of_week'].apply(lambda x: 1 if x >= 5 else 0)\n",
        "\n",
        "            for symbol in self.symbols:\n",
        "                symbol_suffix = symbol.replace('/', '_')\n",
        "\n",
        "                enhanced_df[f'typical_price_{symbol_suffix}'] = (enhanced_df[f'high_{symbol_suffix}'] + enhanced_df[f'low_{symbol_suffix}'] + enhanced_df[f'close_{symbol_suffix}']) / 3\n",
        "                enhanced_df[f'avg_price_{symbol_suffix}'] = (enhanced_df[f'open_{symbol_suffix}'] + enhanced_df[f'high_{symbol_suffix}'] + enhanced_df[f'low_{symbol_suffix}'] + enhanced_df[f'close_{symbol_suffix}']) / 4\n",
        "                enhanced_df[f'range_{symbol_suffix}'] = enhanced_df[f'high_{symbol_suffix}'] - enhanced_df[f'low_{symbol_suffix}']\n",
        "                enhanced_df[f'range_pct_{symbol_suffix}'] = (enhanced_df[f'range_{symbol_suffix}'] / enhanced_df[f'open_{symbol_suffix}']) * 100\n",
        "                enhanced_df[f'close_change_{symbol_suffix}'] = enhanced_df[f'close_{symbol_suffix}'] - enhanced_df[f'open_{symbol_suffix}']\n",
        "                enhanced_df[f'close_pct_change_{symbol_suffix}'] = (enhanced_df[f'close_change_{symbol_suffix}'] / enhanced_df[f'open_{symbol_suffix}']) * 100\n",
        "\n",
        "            enhanced_df.reset_index(inplace=True)\n",
        "\n",
        "            return enhanced_df\n",
        "\n",
        "        except Exception as e:\n",
        "            print(f\"Error enhancing data: {e}\")\n",
        "            raise\n",
        "\n",
        "    def save_to_csv(self, df, filename=None):\n",
        "        if filename is None:\n",
        "            symbol_name = self.symbols[0].replace('/', '_')\n",
        "            filename = f\"{symbol_name}_{self.timeframe}_{datetime.now().strftime('%Y%m%d')}.csv\"\n",
        "\n",
        "        df.to_csv(filename, index=False)\n",
        "        print(f\"Data saved to {filename}\")\n",
        "\n",
        "    def save_to_mongodb(self, df):\n",
        "        if self.mongo_client is None or self.db is None:\n",
        "            raise Exception(\"MongoDB connection not initialized. Provide mongo_uri in constructor.\")\n",
        "\n",
        "        stats = {\"inserted\": 0, \"duplicates\": 0, \"errors\": 0}\n",
        "\n",
        "        try:\n",
        "            records = df.to_dict('records')\n",
        "\n",
        "            existing_timestamps = set()\n",
        "            existing_cursor = self.collection.find({}, {\"timestamp\": 1})\n",
        "            for doc in existing_cursor:\n",
        "                if 'timestamp' in doc:\n",
        "                    if isinstance(doc['timestamp'], datetime):\n",
        "                        existing_timestamps.add(doc['timestamp'])\n",
        "                    else:\n",
        "                        try:\n",
        "                            existing_timestamps.add(pd.to_datetime(doc['timestamp']))\n",
        "                        except:\n",
        "                            pass\n",
        "\n",
        "            batch_size = 1000\n",
        "            for i in range(0, len(records), batch_size):\n",
        "                batch = records[i:i+batch_size]\n",
        "\n",
        "                new_records = []\n",
        "                for record in batch:\n",
        "                    if record['timestamp'] not in existing_timestamps:\n",
        "                        record['timestamp'] = pd.to_datetime(record['timestamp'])\n",
        "                        new_records.append(record)\n",
        "                    else:\n",
        "                        stats[\"duplicates\"] += 1\n",
        "\n",
        "                if new_records:\n",
        "                    try:\n",
        "                        result = self.collection.insert_many(new_records, ordered=False)\n",
        "                        stats[\"inserted\"] += len(result.inserted_ids)\n",
        "                    except BulkWriteError as bwe:\n",
        "                        if hasattr(bwe, 'details') and 'nInserted' in bwe.details:\n",
        "                            stats[\"inserted\"] += bwe.details['nInserted']\n",
        "                        stats[\"errors\"] += len(new_records) - stats[\"inserted\"]\n",
        "\n",
        "                print(f\"Batch {i//batch_size + 1}: Processed {len(batch)} records\")\n",
        "\n",
        "            print(f\"MongoDB save completed: {stats['inserted']} inserted, {stats['duplicates']} duplicates, {stats['errors']} errors\")\n",
        "            return stats\n",
        "\n",
        "        except Exception as e:\n",
        "            print(f\"Error saving to MongoDB: {e}\")\n",
        "            raise\n",
        "\n",
        "\n",
        "exchange_id = 'coinbase'\n",
        "symbols = ['SOL/USDT', 'BTC/USDT']\n",
        "timeframe = '1h'\n",
        "\n",
        "mongo_uri = str(db_credential)\n",
        "db_name = \"Solana_Forecasting\"\n",
        "\n",
        "fred_api_key = str(fred_key)\n",
        "\n",
        "# extractor = CryptoDataExtractor(\n",
        "#     exchange_id=exchange_id,\n",
        "#     symbols=symbols,\n",
        "#     timeframe=timeframe,\n",
        "#     mongo_uri=mongo_uri,\n",
        "#     db_name=db_name,\n",
        "#     fred_api_key=fred_api_key\n",
        "# )\n",
        "\n",
        "# start_date = datetime(2021, 6, 25) # (y, mo, d)\n",
        "# end_date = datetime.now()\n",
        "\n",
        "# crypto_data = extractor.fetch_ohlcv_data(\n",
        "#     limit=1000,\n",
        "#     since=start_date,\n",
        "#     end_date=end_date\n",
        "# )\n",
        "\n",
        "# economic_data = extractor.fetch_economic_indicators(start_date, end_date)\n",
        "\n",
        "# if economic_data:\n",
        "#     enhanced_data = extractor.merge_economic_data(crypto_data, economic_data)\n",
        "\n",
        "#     # correlations = extractor.calculate_economic_correlations(enhanced_data)\n",
        "#     # if correlations is not None:\n",
        "#     #     print(\"\\nCorrelations between crypto and economic indicators:\")\n",
        "#     #     print(correlations['close'][correlations.index.str.contains('CPI|fed|inflation|unemployment|gdp|sentiment')])\n",
        "# else:\n",
        "#     enhanced_data = crypto_data\n",
        "#     print(\"\\nNo economic data available to merge.\")\n",
        "\n",
        "# print(\"\\nData Info:\")\n",
        "# print(enhanced_data.info())\n",
        "\n",
        "# print(\"\\nData Sample:\")\n",
        "# print(enhanced_data.head())\n",
        "\n",
        "# extractor.save_to_csv(enhanced_data)\n",
        "\n",
        "# mongo_stats = extractor.save_to_mongodb(enhanced_data)\n",
        "# print(f\"\\nMongoDB Save Statistics: {mongo_stats}\")\n",
        "\n",
        "# print(\"\\nData extraction and enhancement with economic indicators completed successfully!\")"
      ]
    },
    {
      "cell_type": "markdown",
      "metadata": {
        "id": "iQCL-i_7JpoJ"
      },
      "source": [
        "## **Exploratory Data Analysis (EDA)** and **Pre-processing**\n"
      ]
    },
    {
      "cell_type": "markdown",
      "metadata": {
        "id": "apk4PLZyeJC7"
      },
      "source": [
        "### **Restore Data**"
      ]
    },
    {
      "cell_type": "code",
      "execution_count": 10,
      "metadata": {
        "id": "EgdsDr2FeHnS"
      },
      "outputs": [],
      "source": [
        "client = MongoClient(str(db_credential))\n",
        "if not client:\n",
        "    raise ConnectionError(\"Failed to connect to MongoDB. Check your credentials and network connection.\")\n",
        "collection = client[\"Solana_Forecasting\"][\"SOL_USDT_1h\"]\n",
        "\n",
        "data = list(collection.find({}, {'_id': False}))\n",
        "client.close()\n",
        "df = pd.DataFrame(data)"
      ]
    },
    {
      "cell_type": "code",
      "execution_count": 11,
      "metadata": {
        "colab": {
          "base_uri": "https://localhost:8080/"
        },
        "id": "tHGUP4xpiP7x",
        "outputId": "8b34bcb0-59ea-4e44-9c60-b0587dffef7f"
      },
      "outputs": [
        {
          "data": {
            "application/vnd.microsoft.datawrangler.viewer.v0+json": {
              "columns": [
                {
                  "name": "index",
                  "rawType": "int64",
                  "type": "integer"
                },
                {
                  "name": "timestamp",
                  "rawType": "datetime64[ns]",
                  "type": "datetime"
                },
                {
                  "name": "open_SOL_USDT",
                  "rawType": "float64",
                  "type": "float"
                },
                {
                  "name": "high_SOL_USDT",
                  "rawType": "float64",
                  "type": "float"
                },
                {
                  "name": "low_SOL_USDT",
                  "rawType": "float64",
                  "type": "float"
                },
                {
                  "name": "close_SOL_USDT",
                  "rawType": "float64",
                  "type": "float"
                },
                {
                  "name": "volume_SOL_USDT",
                  "rawType": "float64",
                  "type": "float"
                },
                {
                  "name": "open_BTC_USDT",
                  "rawType": "float64",
                  "type": "float"
                },
                {
                  "name": "high_BTC_USDT",
                  "rawType": "float64",
                  "type": "float"
                },
                {
                  "name": "low_BTC_USDT",
                  "rawType": "float64",
                  "type": "float"
                },
                {
                  "name": "close_BTC_USDT",
                  "rawType": "float64",
                  "type": "float"
                },
                {
                  "name": "volume_BTC_USDT",
                  "rawType": "float64",
                  "type": "float"
                },
                {
                  "name": "year",
                  "rawType": "int64",
                  "type": "integer"
                },
                {
                  "name": "month",
                  "rawType": "int64",
                  "type": "integer"
                },
                {
                  "name": "day",
                  "rawType": "int64",
                  "type": "integer"
                },
                {
                  "name": "hour",
                  "rawType": "int64",
                  "type": "integer"
                },
                {
                  "name": "day_of_week",
                  "rawType": "int64",
                  "type": "integer"
                },
                {
                  "name": "is_weekend",
                  "rawType": "int64",
                  "type": "integer"
                },
                {
                  "name": "typical_price_SOL_USDT",
                  "rawType": "float64",
                  "type": "float"
                },
                {
                  "name": "avg_price_SOL_USDT",
                  "rawType": "float64",
                  "type": "float"
                },
                {
                  "name": "range_SOL_USDT",
                  "rawType": "float64",
                  "type": "float"
                },
                {
                  "name": "range_pct_SOL_USDT",
                  "rawType": "float64",
                  "type": "float"
                },
                {
                  "name": "close_change_SOL_USDT",
                  "rawType": "float64",
                  "type": "float"
                },
                {
                  "name": "close_pct_change_SOL_USDT",
                  "rawType": "float64",
                  "type": "float"
                },
                {
                  "name": "typical_price_BTC_USDT",
                  "rawType": "float64",
                  "type": "float"
                },
                {
                  "name": "avg_price_BTC_USDT",
                  "rawType": "float64",
                  "type": "float"
                },
                {
                  "name": "range_BTC_USDT",
                  "rawType": "float64",
                  "type": "float"
                },
                {
                  "name": "range_pct_BTC_USDT",
                  "rawType": "float64",
                  "type": "float"
                },
                {
                  "name": "close_change_BTC_USDT",
                  "rawType": "float64",
                  "type": "float"
                },
                {
                  "name": "close_pct_change_BTC_USDT",
                  "rawType": "float64",
                  "type": "float"
                },
                {
                  "name": "US_CPI",
                  "rawType": "float64",
                  "type": "float"
                },
                {
                  "name": "US_CPI_zscore",
                  "rawType": "float64",
                  "type": "float"
                },
                {
                  "name": "US_CPI_sentiment",
                  "rawType": "int64",
                  "type": "integer"
                },
                {
                  "name": "US_core_CPI",
                  "rawType": "float64",
                  "type": "float"
                },
                {
                  "name": "US_core_CPI_zscore",
                  "rawType": "float64",
                  "type": "float"
                },
                {
                  "name": "US_core_CPI_sentiment",
                  "rawType": "int64",
                  "type": "integer"
                },
                {
                  "name": "US_fed_funds_rate",
                  "rawType": "float64",
                  "type": "float"
                },
                {
                  "name": "US_fed_funds_rate_zscore",
                  "rawType": "float64",
                  "type": "float"
                },
                {
                  "name": "US_fed_funds_rate_sentiment",
                  "rawType": "int64",
                  "type": "integer"
                },
                {
                  "name": "US_inflation",
                  "rawType": "float64",
                  "type": "float"
                },
                {
                  "name": "US_inflation_zscore",
                  "rawType": "float64",
                  "type": "float"
                },
                {
                  "name": "US_inflation_sentiment",
                  "rawType": "int64",
                  "type": "integer"
                },
                {
                  "name": "US_unemployment",
                  "rawType": "float64",
                  "type": "float"
                },
                {
                  "name": "US_unemployment_zscore",
                  "rawType": "float64",
                  "type": "float"
                },
                {
                  "name": "US_unemployment_sentiment",
                  "rawType": "int64",
                  "type": "integer"
                },
                {
                  "name": "US_GDP",
                  "rawType": "float64",
                  "type": "float"
                },
                {
                  "name": "US_GDP_zscore",
                  "rawType": "float64",
                  "type": "float"
                },
                {
                  "name": "US_GDP_sentiment",
                  "rawType": "float64",
                  "type": "float"
                },
                {
                  "name": "US_consumer_sentiment",
                  "rawType": "float64",
                  "type": "float"
                },
                {
                  "name": "US_consumer_sentiment_zscore",
                  "rawType": "float64",
                  "type": "float"
                },
                {
                  "name": "US_consumer_sentiment_sentiment",
                  "rawType": "int64",
                  "type": "integer"
                },
                {
                  "name": "UK_CPI",
                  "rawType": "float64",
                  "type": "float"
                },
                {
                  "name": "UK_CPI_zscore",
                  "rawType": "float64",
                  "type": "float"
                },
                {
                  "name": "UK_CPI_sentiment",
                  "rawType": "int64",
                  "type": "integer"
                },
                {
                  "name": "UK_unemployment",
                  "rawType": "float64",
                  "type": "float"
                },
                {
                  "name": "UK_unemployment_zscore",
                  "rawType": "float64",
                  "type": "float"
                },
                {
                  "name": "UK_unemployment_sentiment",
                  "rawType": "int64",
                  "type": "integer"
                },
                {
                  "name": "UK_inflation",
                  "rawType": "float64",
                  "type": "float"
                },
                {
                  "name": "UK_inflation_zscore",
                  "rawType": "float64",
                  "type": "float"
                },
                {
                  "name": "UK_inflation_sentiment",
                  "rawType": "float64",
                  "type": "float"
                },
                {
                  "name": "DE_CPI",
                  "rawType": "float64",
                  "type": "float"
                },
                {
                  "name": "DE_CPI_zscore",
                  "rawType": "float64",
                  "type": "float"
                },
                {
                  "name": "DE_CPI_sentiment",
                  "rawType": "int64",
                  "type": "integer"
                },
                {
                  "name": "DE_GDP",
                  "rawType": "float64",
                  "type": "float"
                },
                {
                  "name": "DE_GDP_zscore",
                  "rawType": "float64",
                  "type": "float"
                },
                {
                  "name": "DE_GDP_sentiment",
                  "rawType": "float64",
                  "type": "float"
                },
                {
                  "name": "DE_unemployment",
                  "rawType": "float64",
                  "type": "float"
                },
                {
                  "name": "DE_unemployment_zscore",
                  "rawType": "float64",
                  "type": "float"
                },
                {
                  "name": "DE_unemployment_sentiment",
                  "rawType": "int64",
                  "type": "integer"
                },
                {
                  "name": "DE_inflation",
                  "rawType": "float64",
                  "type": "float"
                },
                {
                  "name": "DE_inflation_zscore",
                  "rawType": "float64",
                  "type": "float"
                },
                {
                  "name": "DE_inflation_sentiment",
                  "rawType": "float64",
                  "type": "float"
                },
                {
                  "name": "FR_CPI",
                  "rawType": "float64",
                  "type": "float"
                },
                {
                  "name": "FR_CPI_zscore",
                  "rawType": "float64",
                  "type": "float"
                },
                {
                  "name": "FR_CPI_sentiment",
                  "rawType": "int64",
                  "type": "integer"
                },
                {
                  "name": "FR_GDP",
                  "rawType": "float64",
                  "type": "float"
                },
                {
                  "name": "FR_GDP_zscore",
                  "rawType": "float64",
                  "type": "float"
                },
                {
                  "name": "FR_GDP_sentiment",
                  "rawType": "float64",
                  "type": "float"
                },
                {
                  "name": "FR_inflation",
                  "rawType": "float64",
                  "type": "float"
                },
                {
                  "name": "FR_inflation_zscore",
                  "rawType": "float64",
                  "type": "float"
                },
                {
                  "name": "FR_inflation_sentiment",
                  "rawType": "float64",
                  "type": "float"
                },
                {
                  "name": "CN_CPI",
                  "rawType": "float64",
                  "type": "float"
                },
                {
                  "name": "CN_CPI_zscore",
                  "rawType": "float64",
                  "type": "float"
                },
                {
                  "name": "CN_CPI_sentiment",
                  "rawType": "int64",
                  "type": "integer"
                },
                {
                  "name": "CN_Inflation",
                  "rawType": "float64",
                  "type": "float"
                },
                {
                  "name": "CN_Inflation_zscore",
                  "rawType": "float64",
                  "type": "float"
                },
                {
                  "name": "CN_Inflation_sentiment",
                  "rawType": "float64",
                  "type": "float"
                },
                {
                  "name": "KR_CPI",
                  "rawType": "float64",
                  "type": "float"
                },
                {
                  "name": "KR_CPI_zscore",
                  "rawType": "float64",
                  "type": "float"
                },
                {
                  "name": "KR_CPI_sentiment",
                  "rawType": "int64",
                  "type": "integer"
                },
                {
                  "name": "KR_Inflation",
                  "rawType": "float64",
                  "type": "float"
                },
                {
                  "name": "KR_Inflation_zscore",
                  "rawType": "float64",
                  "type": "float"
                },
                {
                  "name": "KR_Inflation_sentiment",
                  "rawType": "float64",
                  "type": "float"
                },
                {
                  "name": "JP_CPI",
                  "rawType": "float64",
                  "type": "float"
                },
                {
                  "name": "JP_CPI_zscore",
                  "rawType": "float64",
                  "type": "float"
                },
                {
                  "name": "JP_CPI_sentiment",
                  "rawType": "int64",
                  "type": "integer"
                },
                {
                  "name": "JP_fund_rate",
                  "rawType": "float64",
                  "type": "float"
                },
                {
                  "name": "JP_fund_rate_zscore",
                  "rawType": "float64",
                  "type": "float"
                },
                {
                  "name": "JP_fund_rate_sentiment",
                  "rawType": "int64",
                  "type": "integer"
                },
                {
                  "name": "JP_GDP",
                  "rawType": "float64",
                  "type": "float"
                },
                {
                  "name": "JP_GDP_zscore",
                  "rawType": "float64",
                  "type": "float"
                },
                {
                  "name": "JP_GDP_sentiment",
                  "rawType": "float64",
                  "type": "float"
                },
                {
                  "name": "JP_unemployment",
                  "rawType": "float64",
                  "type": "float"
                },
                {
                  "name": "JP_unemployment_zscore",
                  "rawType": "float64",
                  "type": "float"
                },
                {
                  "name": "JP_unemployment_sentiment",
                  "rawType": "int64",
                  "type": "integer"
                },
                {
                  "name": "JP_Inflation",
                  "rawType": "float64",
                  "type": "float"
                },
                {
                  "name": "JP_Inflation_zscore",
                  "rawType": "float64",
                  "type": "float"
                },
                {
                  "name": "JP_Inflation_sentiment",
                  "rawType": "float64",
                  "type": "float"
                }
              ],
              "ref": "a8c76291-9e44-4951-8383-009ee2517a1a",
              "rows": [
                [
                  "0",
                  "2021-06-25 00:00:00",
                  "31.169",
                  "32.116",
                  "31.169",
                  "31.513",
                  "747.188",
                  "34726.88",
                  "35136.38",
                  "34618.42",
                  "34618.42",
                  "8.33734223",
                  "2021",
                  "6",
                  "25",
                  "0",
                  "4",
                  "0",
                  "31.599333333333334",
                  "31.49175",
                  "0.9469999999999992",
                  "3.0382752093426135",
                  "0.3440000000000012",
                  "1.1036606885046076",
                  "34791.07333333333",
                  "34775.024999999994",
                  "517.9599999999991",
                  "1.4915247209078362",
                  "-108.45999999999913",
                  "-0.312322903756396",
                  "270.71",
                  "-2.2134706570436564",
                  "-1",
                  "277.608",
                  "-1.9304747837873109",
                  "-1",
                  "0.08",
                  "-1.6484861913246698",
                  "-1",
                  "2.34",
                  "-0.15521061912816894",
                  "0",
                  "5.9",
                  "4.816202507604332",
                  "1",
                  null,
                  null,
                  null,
                  "85.5",
                  "2.617663465525907",
                  "1",
                  "2.4",
                  "-1.281224590509045",
                  "-1",
                  "5.7",
                  "9.716440959028084",
                  "1",
                  null,
                  null,
                  null,
                  "2.38806",
                  "-0.9853444170401051",
                  "0",
                  null,
                  null,
                  null,
                  "5.8",
                  "0.8651260655681599",
                  "0",
                  null,
                  null,
                  null,
                  "1.479149",
                  "-1.0904950760515144",
                  "-1",
                  null,
                  null,
                  null,
                  null,
                  null,
                  null,
                  "1.1",
                  "0.3281920515971141",
                  "0",
                  null,
                  null,
                  null,
                  "2.34680573663624",
                  "-1.5069564991817015",
                  "-1",
                  null,
                  null,
                  null,
                  "0.08210894",
                  "-0.00018741397647628415",
                  "0",
                  "-0.07200000000000001",
                  "-0.7265538882292863",
                  "0",
                  null,
                  null,
                  null,
                  "2.9",
                  "3.2449152445985687",
                  "1",
                  null,
                  null,
                  null
                ],
                [
                  "1",
                  "2021-06-25 01:00:00",
                  "31.346",
                  "31.938",
                  "31.13",
                  "31.938",
                  "96.118",
                  "34551.33",
                  "34817.71",
                  "34264.88",
                  "34809.23",
                  "14.35180072",
                  "2021",
                  "6",
                  "25",
                  "1",
                  "4",
                  "0",
                  "31.668666666666667",
                  "31.588",
                  "0.8079999999999998",
                  "2.577681362853314",
                  "0.5919999999999987",
                  "1.8885982262489591",
                  "34630.60666666667",
                  "34610.787500000006",
                  "552.8300000000017",
                  "1.6000252378128477",
                  "257.90000000000146",
                  "0.7464256802849599",
                  "270.71",
                  "-2.2134706570436564",
                  "-1",
                  "277.608",
                  "-1.9304747837873109",
                  "-1",
                  "0.08",
                  "-1.6484861913246698",
                  "-1",
                  "2.34",
                  "-0.15521061912816894",
                  "0",
                  "5.9",
                  "4.816202507604332",
                  "1",
                  null,
                  null,
                  null,
                  "85.5",
                  "2.617663465525907",
                  "1",
                  "2.4",
                  "-1.281224590509045",
                  "-1",
                  "5.7",
                  "9.716440959028084",
                  "1",
                  null,
                  null,
                  null,
                  "2.38806",
                  "-0.9853444170401051",
                  "0",
                  null,
                  null,
                  null,
                  "5.8",
                  "0.8651260655681599",
                  "0",
                  null,
                  null,
                  null,
                  "1.479149",
                  "-1.0904950760515144",
                  "-1",
                  null,
                  null,
                  null,
                  null,
                  null,
                  null,
                  "1.1",
                  "0.3281920515971141",
                  "0",
                  null,
                  null,
                  null,
                  "2.34680573663624",
                  "-1.5069564991817015",
                  "-1",
                  null,
                  null,
                  null,
                  "0.08210894",
                  "-0.00018741397647628415",
                  "0",
                  "-0.07200000000000001",
                  "-0.7265538882292863",
                  "0",
                  null,
                  null,
                  null,
                  "2.9",
                  "3.2449152445985687",
                  "1",
                  null,
                  null,
                  null
                ],
                [
                  "2",
                  "2021-06-25 02:00:00",
                  "32.291",
                  "32.635",
                  "32.134",
                  "32.338",
                  "5844.192",
                  "34837.27",
                  "35499.98",
                  "34837.27",
                  "35116.93",
                  "15.31200157",
                  "2021",
                  "6",
                  "25",
                  "2",
                  "4",
                  "0",
                  "32.369",
                  "32.3495",
                  "0.5009999999999977",
                  "1.5515159022637817",
                  "0.04700000000000415",
                  "0.14555139202875153",
                  "35151.39333333333",
                  "35072.862499999996",
                  "662.7100000000064",
                  "1.902301759006967",
                  "279.6600000000035",
                  "0.8027609511307962",
                  "270.71",
                  "-2.2134706570436564",
                  "-1",
                  "277.608",
                  "-1.9304747837873109",
                  "-1",
                  "0.08",
                  "-1.6484861913246698",
                  "-1",
                  "2.34",
                  "-0.15521061912816894",
                  "0",
                  "5.9",
                  "4.816202507604332",
                  "1",
                  null,
                  null,
                  null,
                  "85.5",
                  "2.617663465525907",
                  "1",
                  "2.4",
                  "-1.281224590509045",
                  "-1",
                  "5.7",
                  "9.716440959028084",
                  "1",
                  null,
                  null,
                  null,
                  "2.38806",
                  "-0.9853444170401051",
                  "0",
                  null,
                  null,
                  null,
                  "5.8",
                  "0.8651260655681599",
                  "0",
                  null,
                  null,
                  null,
                  "1.479149",
                  "-1.0904950760515144",
                  "-1",
                  null,
                  null,
                  null,
                  null,
                  null,
                  null,
                  "1.1",
                  "0.3281920515971141",
                  "0",
                  null,
                  null,
                  null,
                  "2.34680573663624",
                  "-1.5069564991817015",
                  "-1",
                  null,
                  null,
                  null,
                  "0.08210894",
                  "-0.00018741397647628415",
                  "0",
                  "-0.07200000000000001",
                  "-0.7265538882292863",
                  "0",
                  null,
                  null,
                  null,
                  "2.9",
                  "3.2449152445985687",
                  "1",
                  null,
                  null,
                  null
                ],
                [
                  "3",
                  "2021-06-25 03:00:00",
                  "32.285",
                  "32.754",
                  "32.156",
                  "32.397",
                  "218.124",
                  "35131.48",
                  "35205.16",
                  "34844.28",
                  "35077.77",
                  "3.32233143",
                  "2021",
                  "6",
                  "25",
                  "3",
                  "4",
                  "0",
                  "32.43566666666666",
                  "32.397999999999996",
                  "0.597999999999999",
                  "1.8522533684373517",
                  "0.11200000000000188",
                  "0.3469103298745606",
                  "35042.40333333333",
                  "35064.6725",
                  "360.88000000000466",
                  "1.0272268632007664",
                  "-53.7100000000064",
                  "-0.15288282759509816",
                  "270.71",
                  "-2.2134706570436564",
                  "-1",
                  "277.608",
                  "-1.9304747837873109",
                  "-1",
                  "0.08",
                  "-1.6484861913246698",
                  "-1",
                  "2.34",
                  "-0.15521061912816894",
                  "0",
                  "5.9",
                  "4.816202507604332",
                  "1",
                  null,
                  null,
                  null,
                  "85.5",
                  "2.617663465525907",
                  "1",
                  "2.4",
                  "-1.281224590509045",
                  "-1",
                  "5.7",
                  "9.716440959028084",
                  "1",
                  null,
                  null,
                  null,
                  "2.38806",
                  "-0.9853444170401051",
                  "0",
                  null,
                  null,
                  null,
                  "5.8",
                  "0.8651260655681599",
                  "0",
                  null,
                  null,
                  null,
                  "1.479149",
                  "-1.0904950760515144",
                  "-1",
                  null,
                  null,
                  null,
                  null,
                  null,
                  null,
                  "1.1",
                  "0.3281920515971141",
                  "0",
                  null,
                  null,
                  null,
                  "2.34680573663624",
                  "-1.5069564991817015",
                  "-1",
                  null,
                  null,
                  null,
                  "0.08210894",
                  "-0.00018741397647628415",
                  "0",
                  "-0.07200000000000001",
                  "-0.7265538882292863",
                  "0",
                  null,
                  null,
                  null,
                  "2.9",
                  "3.2449152445985687",
                  "1",
                  null,
                  null,
                  null
                ],
                [
                  "4",
                  "2021-06-25 04:00:00",
                  "32.567",
                  "32.969",
                  "32.018",
                  "32.218",
                  "129.289",
                  "35044.47",
                  "35102.21",
                  "34639.05",
                  "34754.17",
                  "9.12828235",
                  "2021",
                  "6",
                  "25",
                  "4",
                  "4",
                  "0",
                  "32.401666666666664",
                  "32.443",
                  "0.9510000000000005",
                  "2.9201338778518147",
                  "-0.34899999999999665",
                  "-1.0716369330917697",
                  "34831.810000000005",
                  "34884.975",
                  "463.1599999999962",
                  "1.321635053975695",
                  "-290.3000000000029",
                  "-0.8283760604740289",
                  "270.71",
                  "-2.2134706570436564",
                  "-1",
                  "277.608",
                  "-1.9304747837873109",
                  "-1",
                  "0.08",
                  "-1.6484861913246698",
                  "-1",
                  "2.34",
                  "-0.15521061912816894",
                  "0",
                  "5.9",
                  "4.816202507604332",
                  "1",
                  null,
                  null,
                  null,
                  "85.5",
                  "2.617663465525907",
                  "1",
                  "2.4",
                  "-1.281224590509045",
                  "-1",
                  "5.7",
                  "9.716440959028084",
                  "1",
                  null,
                  null,
                  null,
                  "2.38806",
                  "-0.9853444170401051",
                  "0",
                  null,
                  null,
                  null,
                  "5.8",
                  "0.8651260655681599",
                  "0",
                  null,
                  null,
                  null,
                  "1.479149",
                  "-1.0904950760515144",
                  "-1",
                  null,
                  null,
                  null,
                  null,
                  null,
                  null,
                  "1.1",
                  "0.3281920515971141",
                  "0",
                  null,
                  null,
                  null,
                  "2.34680573663624",
                  "-1.5069564991817015",
                  "-1",
                  null,
                  null,
                  null,
                  "0.08210894",
                  "-0.00018741397647628415",
                  "0",
                  "-0.07200000000000001",
                  "-0.7265538882292863",
                  "0",
                  null,
                  null,
                  null,
                  "2.9",
                  "3.2449152445985687",
                  "1",
                  null,
                  null,
                  null
                ]
              ],
              "shape": {
                "columns": 107,
                "rows": 5
              }
            },
            "text/html": [
              "<div>\n",
              "<style scoped>\n",
              "    .dataframe tbody tr th:only-of-type {\n",
              "        vertical-align: middle;\n",
              "    }\n",
              "\n",
              "    .dataframe tbody tr th {\n",
              "        vertical-align: top;\n",
              "    }\n",
              "\n",
              "    .dataframe thead th {\n",
              "        text-align: right;\n",
              "    }\n",
              "</style>\n",
              "<table border=\"1\" class=\"dataframe\">\n",
              "  <thead>\n",
              "    <tr style=\"text-align: right;\">\n",
              "      <th></th>\n",
              "      <th>timestamp</th>\n",
              "      <th>open_SOL_USDT</th>\n",
              "      <th>high_SOL_USDT</th>\n",
              "      <th>low_SOL_USDT</th>\n",
              "      <th>close_SOL_USDT</th>\n",
              "      <th>volume_SOL_USDT</th>\n",
              "      <th>open_BTC_USDT</th>\n",
              "      <th>high_BTC_USDT</th>\n",
              "      <th>low_BTC_USDT</th>\n",
              "      <th>close_BTC_USDT</th>\n",
              "      <th>...</th>\n",
              "      <th>JP_fund_rate_sentiment</th>\n",
              "      <th>JP_GDP</th>\n",
              "      <th>JP_GDP_zscore</th>\n",
              "      <th>JP_GDP_sentiment</th>\n",
              "      <th>JP_unemployment</th>\n",
              "      <th>JP_unemployment_zscore</th>\n",
              "      <th>JP_unemployment_sentiment</th>\n",
              "      <th>JP_Inflation</th>\n",
              "      <th>JP_Inflation_zscore</th>\n",
              "      <th>JP_Inflation_sentiment</th>\n",
              "    </tr>\n",
              "  </thead>\n",
              "  <tbody>\n",
              "    <tr>\n",
              "      <th>0</th>\n",
              "      <td>2021-06-25 00:00:00</td>\n",
              "      <td>31.169</td>\n",
              "      <td>32.116</td>\n",
              "      <td>31.169</td>\n",
              "      <td>31.513</td>\n",
              "      <td>747.188</td>\n",
              "      <td>34726.88</td>\n",
              "      <td>35136.38</td>\n",
              "      <td>34618.42</td>\n",
              "      <td>34618.42</td>\n",
              "      <td>...</td>\n",
              "      <td>0</td>\n",
              "      <td>NaN</td>\n",
              "      <td>NaN</td>\n",
              "      <td>NaN</td>\n",
              "      <td>2.9</td>\n",
              "      <td>3.244915</td>\n",
              "      <td>1</td>\n",
              "      <td>NaN</td>\n",
              "      <td>NaN</td>\n",
              "      <td>NaN</td>\n",
              "    </tr>\n",
              "    <tr>\n",
              "      <th>1</th>\n",
              "      <td>2021-06-25 01:00:00</td>\n",
              "      <td>31.346</td>\n",
              "      <td>31.938</td>\n",
              "      <td>31.130</td>\n",
              "      <td>31.938</td>\n",
              "      <td>96.118</td>\n",
              "      <td>34551.33</td>\n",
              "      <td>34817.71</td>\n",
              "      <td>34264.88</td>\n",
              "      <td>34809.23</td>\n",
              "      <td>...</td>\n",
              "      <td>0</td>\n",
              "      <td>NaN</td>\n",
              "      <td>NaN</td>\n",
              "      <td>NaN</td>\n",
              "      <td>2.9</td>\n",
              "      <td>3.244915</td>\n",
              "      <td>1</td>\n",
              "      <td>NaN</td>\n",
              "      <td>NaN</td>\n",
              "      <td>NaN</td>\n",
              "    </tr>\n",
              "    <tr>\n",
              "      <th>2</th>\n",
              "      <td>2021-06-25 02:00:00</td>\n",
              "      <td>32.291</td>\n",
              "      <td>32.635</td>\n",
              "      <td>32.134</td>\n",
              "      <td>32.338</td>\n",
              "      <td>5844.192</td>\n",
              "      <td>34837.27</td>\n",
              "      <td>35499.98</td>\n",
              "      <td>34837.27</td>\n",
              "      <td>35116.93</td>\n",
              "      <td>...</td>\n",
              "      <td>0</td>\n",
              "      <td>NaN</td>\n",
              "      <td>NaN</td>\n",
              "      <td>NaN</td>\n",
              "      <td>2.9</td>\n",
              "      <td>3.244915</td>\n",
              "      <td>1</td>\n",
              "      <td>NaN</td>\n",
              "      <td>NaN</td>\n",
              "      <td>NaN</td>\n",
              "    </tr>\n",
              "    <tr>\n",
              "      <th>3</th>\n",
              "      <td>2021-06-25 03:00:00</td>\n",
              "      <td>32.285</td>\n",
              "      <td>32.754</td>\n",
              "      <td>32.156</td>\n",
              "      <td>32.397</td>\n",
              "      <td>218.124</td>\n",
              "      <td>35131.48</td>\n",
              "      <td>35205.16</td>\n",
              "      <td>34844.28</td>\n",
              "      <td>35077.77</td>\n",
              "      <td>...</td>\n",
              "      <td>0</td>\n",
              "      <td>NaN</td>\n",
              "      <td>NaN</td>\n",
              "      <td>NaN</td>\n",
              "      <td>2.9</td>\n",
              "      <td>3.244915</td>\n",
              "      <td>1</td>\n",
              "      <td>NaN</td>\n",
              "      <td>NaN</td>\n",
              "      <td>NaN</td>\n",
              "    </tr>\n",
              "    <tr>\n",
              "      <th>4</th>\n",
              "      <td>2021-06-25 04:00:00</td>\n",
              "      <td>32.567</td>\n",
              "      <td>32.969</td>\n",
              "      <td>32.018</td>\n",
              "      <td>32.218</td>\n",
              "      <td>129.289</td>\n",
              "      <td>35044.47</td>\n",
              "      <td>35102.21</td>\n",
              "      <td>34639.05</td>\n",
              "      <td>34754.17</td>\n",
              "      <td>...</td>\n",
              "      <td>0</td>\n",
              "      <td>NaN</td>\n",
              "      <td>NaN</td>\n",
              "      <td>NaN</td>\n",
              "      <td>2.9</td>\n",
              "      <td>3.244915</td>\n",
              "      <td>1</td>\n",
              "      <td>NaN</td>\n",
              "      <td>NaN</td>\n",
              "      <td>NaN</td>\n",
              "    </tr>\n",
              "  </tbody>\n",
              "</table>\n",
              "<p>5 rows × 107 columns</p>\n",
              "</div>"
            ],
            "text/plain": [
              "            timestamp  open_SOL_USDT  high_SOL_USDT  low_SOL_USDT  \\\n",
              "0 2021-06-25 00:00:00         31.169         32.116        31.169   \n",
              "1 2021-06-25 01:00:00         31.346         31.938        31.130   \n",
              "2 2021-06-25 02:00:00         32.291         32.635        32.134   \n",
              "3 2021-06-25 03:00:00         32.285         32.754        32.156   \n",
              "4 2021-06-25 04:00:00         32.567         32.969        32.018   \n",
              "\n",
              "   close_SOL_USDT  volume_SOL_USDT  open_BTC_USDT  high_BTC_USDT  \\\n",
              "0          31.513          747.188       34726.88       35136.38   \n",
              "1          31.938           96.118       34551.33       34817.71   \n",
              "2          32.338         5844.192       34837.27       35499.98   \n",
              "3          32.397          218.124       35131.48       35205.16   \n",
              "4          32.218          129.289       35044.47       35102.21   \n",
              "\n",
              "   low_BTC_USDT  close_BTC_USDT  ...  JP_fund_rate_sentiment  JP_GDP  \\\n",
              "0      34618.42        34618.42  ...                       0     NaN   \n",
              "1      34264.88        34809.23  ...                       0     NaN   \n",
              "2      34837.27        35116.93  ...                       0     NaN   \n",
              "3      34844.28        35077.77  ...                       0     NaN   \n",
              "4      34639.05        34754.17  ...                       0     NaN   \n",
              "\n",
              "   JP_GDP_zscore  JP_GDP_sentiment  JP_unemployment  JP_unemployment_zscore  \\\n",
              "0            NaN               NaN              2.9                3.244915   \n",
              "1            NaN               NaN              2.9                3.244915   \n",
              "2            NaN               NaN              2.9                3.244915   \n",
              "3            NaN               NaN              2.9                3.244915   \n",
              "4            NaN               NaN              2.9                3.244915   \n",
              "\n",
              "   JP_unemployment_sentiment  JP_Inflation  JP_Inflation_zscore  \\\n",
              "0                          1           NaN                  NaN   \n",
              "1                          1           NaN                  NaN   \n",
              "2                          1           NaN                  NaN   \n",
              "3                          1           NaN                  NaN   \n",
              "4                          1           NaN                  NaN   \n",
              "\n",
              "   JP_Inflation_sentiment  \n",
              "0                     NaN  \n",
              "1                     NaN  \n",
              "2                     NaN  \n",
              "3                     NaN  \n",
              "4                     NaN  \n",
              "\n",
              "[5 rows x 107 columns]"
            ]
          },
          "execution_count": 11,
          "metadata": {},
          "output_type": "execute_result"
        }
      ],
      "source": [
        "df.head()"
      ]
    },
    {
      "cell_type": "code",
      "execution_count": 12,
      "metadata": {
        "colab": {
          "base_uri": "https://localhost:8080/"
        },
        "id": "ZKhvEAcS9-Uq",
        "outputId": "aca34e4d-1972-43f2-9144-477d5a1eae41"
      },
      "outputs": [
        {
          "name": "stdout",
          "output_type": "stream",
          "text": [
            "<class 'pandas.core.frame.DataFrame'>\n",
            "RangeIndex: 34557 entries, 0 to 34556\n",
            "Columns: 107 entries, timestamp to JP_Inflation_sentiment\n",
            "dtypes: datetime64[ns](1), float64(84), int64(22)\n",
            "memory usage: 28.2 MB\n"
          ]
        }
      ],
      "source": [
        "df.info()"
      ]
    },
    {
      "cell_type": "code",
      "execution_count": 13,
      "metadata": {
        "colab": {
          "base_uri": "https://localhost:8080/"
        },
        "id": "pBxaDrPk-Dno",
        "outputId": "629aefbd-91cf-46ac-ca72-810cc3b9af24"
      },
      "outputs": [
        {
          "data": {
            "application/vnd.microsoft.datawrangler.viewer.v0+json": {
              "columns": [
                {
                  "name": "index",
                  "rawType": "object",
                  "type": "string"
                },
                {
                  "name": "timestamp",
                  "rawType": "object",
                  "type": "unknown"
                },
                {
                  "name": "open_SOL_USDT",
                  "rawType": "float64",
                  "type": "float"
                },
                {
                  "name": "high_SOL_USDT",
                  "rawType": "float64",
                  "type": "float"
                },
                {
                  "name": "low_SOL_USDT",
                  "rawType": "float64",
                  "type": "float"
                },
                {
                  "name": "close_SOL_USDT",
                  "rawType": "float64",
                  "type": "float"
                },
                {
                  "name": "volume_SOL_USDT",
                  "rawType": "float64",
                  "type": "float"
                },
                {
                  "name": "open_BTC_USDT",
                  "rawType": "float64",
                  "type": "float"
                },
                {
                  "name": "high_BTC_USDT",
                  "rawType": "float64",
                  "type": "float"
                },
                {
                  "name": "low_BTC_USDT",
                  "rawType": "float64",
                  "type": "float"
                },
                {
                  "name": "close_BTC_USDT",
                  "rawType": "float64",
                  "type": "float"
                },
                {
                  "name": "volume_BTC_USDT",
                  "rawType": "float64",
                  "type": "float"
                },
                {
                  "name": "year",
                  "rawType": "float64",
                  "type": "float"
                },
                {
                  "name": "month",
                  "rawType": "float64",
                  "type": "float"
                },
                {
                  "name": "day",
                  "rawType": "float64",
                  "type": "float"
                },
                {
                  "name": "hour",
                  "rawType": "float64",
                  "type": "float"
                },
                {
                  "name": "day_of_week",
                  "rawType": "float64",
                  "type": "float"
                },
                {
                  "name": "is_weekend",
                  "rawType": "float64",
                  "type": "float"
                },
                {
                  "name": "typical_price_SOL_USDT",
                  "rawType": "float64",
                  "type": "float"
                },
                {
                  "name": "avg_price_SOL_USDT",
                  "rawType": "float64",
                  "type": "float"
                },
                {
                  "name": "range_SOL_USDT",
                  "rawType": "float64",
                  "type": "float"
                },
                {
                  "name": "range_pct_SOL_USDT",
                  "rawType": "float64",
                  "type": "float"
                },
                {
                  "name": "close_change_SOL_USDT",
                  "rawType": "float64",
                  "type": "float"
                },
                {
                  "name": "close_pct_change_SOL_USDT",
                  "rawType": "float64",
                  "type": "float"
                },
                {
                  "name": "typical_price_BTC_USDT",
                  "rawType": "float64",
                  "type": "float"
                },
                {
                  "name": "avg_price_BTC_USDT",
                  "rawType": "float64",
                  "type": "float"
                },
                {
                  "name": "range_BTC_USDT",
                  "rawType": "float64",
                  "type": "float"
                },
                {
                  "name": "range_pct_BTC_USDT",
                  "rawType": "float64",
                  "type": "float"
                },
                {
                  "name": "close_change_BTC_USDT",
                  "rawType": "float64",
                  "type": "float"
                },
                {
                  "name": "close_pct_change_BTC_USDT",
                  "rawType": "float64",
                  "type": "float"
                },
                {
                  "name": "US_CPI",
                  "rawType": "float64",
                  "type": "float"
                },
                {
                  "name": "US_CPI_zscore",
                  "rawType": "float64",
                  "type": "float"
                },
                {
                  "name": "US_CPI_sentiment",
                  "rawType": "float64",
                  "type": "float"
                },
                {
                  "name": "US_core_CPI",
                  "rawType": "float64",
                  "type": "float"
                },
                {
                  "name": "US_core_CPI_zscore",
                  "rawType": "float64",
                  "type": "float"
                },
                {
                  "name": "US_core_CPI_sentiment",
                  "rawType": "float64",
                  "type": "float"
                },
                {
                  "name": "US_fed_funds_rate",
                  "rawType": "float64",
                  "type": "float"
                },
                {
                  "name": "US_fed_funds_rate_zscore",
                  "rawType": "float64",
                  "type": "float"
                },
                {
                  "name": "US_fed_funds_rate_sentiment",
                  "rawType": "float64",
                  "type": "float"
                },
                {
                  "name": "US_inflation",
                  "rawType": "float64",
                  "type": "float"
                },
                {
                  "name": "US_inflation_zscore",
                  "rawType": "float64",
                  "type": "float"
                },
                {
                  "name": "US_inflation_sentiment",
                  "rawType": "float64",
                  "type": "float"
                },
                {
                  "name": "US_unemployment",
                  "rawType": "float64",
                  "type": "float"
                },
                {
                  "name": "US_unemployment_zscore",
                  "rawType": "float64",
                  "type": "float"
                },
                {
                  "name": "US_unemployment_sentiment",
                  "rawType": "float64",
                  "type": "float"
                },
                {
                  "name": "US_GDP",
                  "rawType": "float64",
                  "type": "float"
                },
                {
                  "name": "US_GDP_zscore",
                  "rawType": "float64",
                  "type": "float"
                },
                {
                  "name": "US_GDP_sentiment",
                  "rawType": "float64",
                  "type": "float"
                },
                {
                  "name": "US_consumer_sentiment",
                  "rawType": "float64",
                  "type": "float"
                },
                {
                  "name": "US_consumer_sentiment_zscore",
                  "rawType": "float64",
                  "type": "float"
                },
                {
                  "name": "US_consumer_sentiment_sentiment",
                  "rawType": "float64",
                  "type": "float"
                },
                {
                  "name": "UK_CPI",
                  "rawType": "float64",
                  "type": "float"
                },
                {
                  "name": "UK_CPI_zscore",
                  "rawType": "float64",
                  "type": "float"
                },
                {
                  "name": "UK_CPI_sentiment",
                  "rawType": "float64",
                  "type": "float"
                },
                {
                  "name": "UK_unemployment",
                  "rawType": "float64",
                  "type": "float"
                },
                {
                  "name": "UK_unemployment_zscore",
                  "rawType": "float64",
                  "type": "float"
                },
                {
                  "name": "UK_unemployment_sentiment",
                  "rawType": "float64",
                  "type": "float"
                },
                {
                  "name": "UK_inflation",
                  "rawType": "float64",
                  "type": "float"
                },
                {
                  "name": "UK_inflation_zscore",
                  "rawType": "float64",
                  "type": "float"
                },
                {
                  "name": "UK_inflation_sentiment",
                  "rawType": "float64",
                  "type": "float"
                },
                {
                  "name": "DE_CPI",
                  "rawType": "float64",
                  "type": "float"
                },
                {
                  "name": "DE_CPI_zscore",
                  "rawType": "float64",
                  "type": "float"
                },
                {
                  "name": "DE_CPI_sentiment",
                  "rawType": "float64",
                  "type": "float"
                },
                {
                  "name": "DE_GDP",
                  "rawType": "float64",
                  "type": "float"
                },
                {
                  "name": "DE_GDP_zscore",
                  "rawType": "float64",
                  "type": "float"
                },
                {
                  "name": "DE_GDP_sentiment",
                  "rawType": "float64",
                  "type": "float"
                },
                {
                  "name": "DE_unemployment",
                  "rawType": "float64",
                  "type": "float"
                },
                {
                  "name": "DE_unemployment_zscore",
                  "rawType": "float64",
                  "type": "float"
                },
                {
                  "name": "DE_unemployment_sentiment",
                  "rawType": "float64",
                  "type": "float"
                },
                {
                  "name": "DE_inflation",
                  "rawType": "float64",
                  "type": "float"
                },
                {
                  "name": "DE_inflation_zscore",
                  "rawType": "float64",
                  "type": "float"
                },
                {
                  "name": "DE_inflation_sentiment",
                  "rawType": "float64",
                  "type": "float"
                },
                {
                  "name": "FR_CPI",
                  "rawType": "float64",
                  "type": "float"
                },
                {
                  "name": "FR_CPI_zscore",
                  "rawType": "float64",
                  "type": "float"
                },
                {
                  "name": "FR_CPI_sentiment",
                  "rawType": "float64",
                  "type": "float"
                },
                {
                  "name": "FR_GDP",
                  "rawType": "float64",
                  "type": "float"
                },
                {
                  "name": "FR_GDP_zscore",
                  "rawType": "float64",
                  "type": "float"
                },
                {
                  "name": "FR_GDP_sentiment",
                  "rawType": "float64",
                  "type": "float"
                },
                {
                  "name": "FR_inflation",
                  "rawType": "float64",
                  "type": "float"
                },
                {
                  "name": "FR_inflation_zscore",
                  "rawType": "float64",
                  "type": "float"
                },
                {
                  "name": "FR_inflation_sentiment",
                  "rawType": "float64",
                  "type": "float"
                },
                {
                  "name": "CN_CPI",
                  "rawType": "float64",
                  "type": "float"
                },
                {
                  "name": "CN_CPI_zscore",
                  "rawType": "float64",
                  "type": "float"
                },
                {
                  "name": "CN_CPI_sentiment",
                  "rawType": "float64",
                  "type": "float"
                },
                {
                  "name": "CN_Inflation",
                  "rawType": "float64",
                  "type": "float"
                },
                {
                  "name": "CN_Inflation_zscore",
                  "rawType": "float64",
                  "type": "float"
                },
                {
                  "name": "CN_Inflation_sentiment",
                  "rawType": "float64",
                  "type": "float"
                },
                {
                  "name": "KR_CPI",
                  "rawType": "float64",
                  "type": "float"
                },
                {
                  "name": "KR_CPI_zscore",
                  "rawType": "float64",
                  "type": "float"
                },
                {
                  "name": "KR_CPI_sentiment",
                  "rawType": "float64",
                  "type": "float"
                },
                {
                  "name": "KR_Inflation",
                  "rawType": "float64",
                  "type": "float"
                },
                {
                  "name": "KR_Inflation_zscore",
                  "rawType": "float64",
                  "type": "float"
                },
                {
                  "name": "KR_Inflation_sentiment",
                  "rawType": "float64",
                  "type": "float"
                },
                {
                  "name": "JP_CPI",
                  "rawType": "float64",
                  "type": "float"
                },
                {
                  "name": "JP_CPI_zscore",
                  "rawType": "float64",
                  "type": "float"
                },
                {
                  "name": "JP_CPI_sentiment",
                  "rawType": "float64",
                  "type": "float"
                },
                {
                  "name": "JP_fund_rate",
                  "rawType": "float64",
                  "type": "float"
                },
                {
                  "name": "JP_fund_rate_zscore",
                  "rawType": "float64",
                  "type": "float"
                },
                {
                  "name": "JP_fund_rate_sentiment",
                  "rawType": "float64",
                  "type": "float"
                },
                {
                  "name": "JP_GDP",
                  "rawType": "float64",
                  "type": "float"
                },
                {
                  "name": "JP_GDP_zscore",
                  "rawType": "float64",
                  "type": "float"
                },
                {
                  "name": "JP_GDP_sentiment",
                  "rawType": "float64",
                  "type": "float"
                },
                {
                  "name": "JP_unemployment",
                  "rawType": "float64",
                  "type": "float"
                },
                {
                  "name": "JP_unemployment_zscore",
                  "rawType": "float64",
                  "type": "float"
                },
                {
                  "name": "JP_unemployment_sentiment",
                  "rawType": "float64",
                  "type": "float"
                },
                {
                  "name": "JP_Inflation",
                  "rawType": "float64",
                  "type": "float"
                },
                {
                  "name": "JP_Inflation_zscore",
                  "rawType": "float64",
                  "type": "float"
                },
                {
                  "name": "JP_Inflation_sentiment",
                  "rawType": "float64",
                  "type": "float"
                }
              ],
              "ref": "5f438068-07e7-4662-a284-ac371a4d955c",
              "rows": [
                [
                  "count",
                  "34557",
                  "34557.0",
                  "34557.0",
                  "34557.0",
                  "34557.0",
                  "34557.0",
                  "34557.0",
                  "34557.0",
                  "34557.0",
                  "34557.0",
                  "34557.0",
                  "34557.0",
                  "34557.0",
                  "34557.0",
                  "34557.0",
                  "34557.0",
                  "34557.0",
                  "34557.0",
                  "34557.0",
                  "34557.0",
                  "34557.0",
                  "34557.0",
                  "34557.0",
                  "34557.0",
                  "34557.0",
                  "34557.0",
                  "34557.0",
                  "34557.0",
                  "34557.0",
                  "34557.0",
                  "34557.0",
                  "34557.0",
                  "34557.0",
                  "34557.0",
                  "34557.0",
                  "34557.0",
                  "34557.0",
                  "34557.0",
                  "34557.0",
                  "34557.0",
                  "34557.0",
                  "34557.0",
                  "34557.0",
                  "34557.0",
                  "34413.0",
                  "34413.0",
                  "34413.0",
                  "34557.0",
                  "34557.0",
                  "34557.0",
                  "34557.0",
                  "34557.0",
                  "34557.0",
                  "34557.0",
                  "34557.0",
                  "34557.0",
                  "29997.0",
                  "29997.0",
                  "29997.0",
                  "34557.0",
                  "34557.0",
                  "34557.0",
                  "34413.0",
                  "34413.0",
                  "34413.0",
                  "34557.0",
                  "34557.0",
                  "34557.0",
                  "29997.0",
                  "29997.0",
                  "29997.0",
                  "34557.0",
                  "34557.0",
                  "34557.0",
                  "34413.0",
                  "34413.0",
                  "34413.0",
                  "29997.0",
                  "29997.0",
                  "29997.0",
                  "34557.0",
                  "34557.0",
                  "34557.0",
                  "29997.0",
                  "29997.0",
                  "29997.0",
                  "34557.0",
                  "34557.0",
                  "34557.0",
                  "29997.0",
                  "29997.0",
                  "29997.0",
                  "34557.0",
                  "34557.0",
                  "34557.0",
                  "34557.0",
                  "34557.0",
                  "34557.0",
                  "34413.0",
                  "34413.0",
                  "34413.0",
                  "34557.0",
                  "34557.0",
                  "34557.0",
                  "29997.0",
                  "29997.0",
                  "29997.0"
                ],
                [
                  "mean",
                  "2023-06-15 17:31:48.603177472",
                  "97.20963367769193",
                  "97.93756908875193",
                  "96.45991553086203",
                  "97.21315551118444",
                  "2745.083347107678",
                  "47763.02316723095",
                  "47944.89309343983",
                  "47575.35007263362",
                  "47764.401329397806",
                  "31.82965963133027",
                  "2022.9529183667564",
                  "6.528923228289493",
                  "15.743322626385392",
                  "11.496310443614897",
                  "2.9986109905373732",
                  "0.28535463147842693",
                  "97.20354671026614",
                  "97.20506845212257",
                  "1.4776535578898633",
                  "1.5140316858003178",
                  "0.00352183349249064",
                  "0.01047541937017387",
                  "47761.54816515709",
                  "47761.91691567555",
                  "369.54302080620425",
                  "0.7730934429987403",
                  "1.3781621668547783",
                  "0.0036794864335294585",
                  "301.7439588795324",
                  "-1.5001648870288773e-15",
                  "-0.044014237346991926",
                  "305.813397575021",
                  "-5.790110090286894e-16",
                  "-0.022513528373412042",
                  "3.48364296669271",
                  "2.566071517286237e-16",
                  "-0.25766125531730183",
                  "2.3676540208930175",
                  "0.009710581467704848",
                  "0.023005469224759094",
                  "3.9294614694562604",
                  "0.017593434226720273",
                  "-0.05949590531585496",
                  "22648.708424229208",
                  "0.004046174900165473",
                  "-0.0177258594135937",
                  "65.8775298781723",
                  "0.004710911711513043",
                  "-0.020574702665161905",
                  "5.406183985878404",
                  "-0.006035391487107207",
                  "0.1434441647133721",
                  "5.405556037850509",
                  "0.031060098312544675",
                  "0.025696675058598836",
                  "5.653555058305976",
                  "-0.0014364605472716812",
                  "-0.12527919458612527",
                  "4.623204709031455",
                  "-0.006408639006761096",
                  "-0.06661457881181816",
                  "765903.4535814954",
                  "0.0016050975013239056",
                  "0.0",
                  "5.580614636687211",
                  "0.003732293198211215",
                  "-0.1895997916485806",
                  "4.6771457334347515",
                  "-0.0014510697651990434",
                  "-0.12527919458612527",
                  "3.457248513137715",
                  "-0.007703342825614423",
                  "0.03478311195995023",
                  "576544.9027199023",
                  "0.0037747494608981243",
                  "-0.0177258594135937",
                  "3.7773434718514736",
                  "-0.0014744917958475006",
                  "-0.4172750608394173",
                  "0.7798217437856295",
                  "-0.004870546544626006",
                  "0.08614752438000983",
                  "0.7355695641031756",
                  "-0.000745003796662013",
                  "0.291995866253292",
                  "3.8176106146463886",
                  "-0.006332584555748591",
                  "0.10076106143473103",
                  "3.500807638795428",
                  "-0.0012480120172669942",
                  "-0.12527919458612527",
                  "0.08210893999999999",
                  "-0.0001874139764762842",
                  "0.0",
                  "0.1188160491362097",
                  "0.0070912609601699525",
                  "0.12961194548137858",
                  "554129.5957196408",
                  "0.004077130223174745",
                  "0.10894138842879145",
                  "2.5820499464652604",
                  "0.007194389738912085",
                  "0.15403536186590272",
                  "2.8221834729613655",
                  "-0.00043394128316180664",
                  "-0.0012667933460012667"
                ],
                [
                  "min",
                  "2021-06-25 00:00:00",
                  "8.27",
                  "8.47",
                  "7.95",
                  "8.29",
                  "0.02",
                  "15644.17",
                  "15761.3",
                  "15477.17",
                  "15653.24",
                  "0.00955329",
                  "2021.0",
                  "1.0",
                  "1.0",
                  "0.0",
                  "0.0",
                  "0.0",
                  "8.36",
                  "8.3375",
                  "0.0",
                  "0.0",
                  "-27.51600000000002",
                  "-19.280247516691087",
                  "15659.043333333333",
                  "15689.894999999999",
                  "4.849999999998545",
                  "0.018808243170896223",
                  "-4433.929999999993",
                  "-7.013160599147916",
                  "270.71",
                  "-2.2134706570436564",
                  "-1.0",
                  "277.608",
                  "-1.9304747837873109",
                  "-1.0",
                  "0.08",
                  "-1.6484861913246698",
                  "-1.0",
                  "2.15",
                  "-1.2883199139550916",
                  "-1.0",
                  "3.4",
                  "-1.2717386808045932",
                  "-1.0",
                  "21571.421",
                  "-1.6581832314970828",
                  "-1.0",
                  "50.0",
                  "-2.1095607363459328",
                  "-1.0",
                  "2.1",
                  "-1.4084811927342074",
                  "-1.0",
                  "5.4",
                  "-0.1516991006395422",
                  "0.0",
                  "3.2715729463592",
                  "-1.1573627595038158",
                  "-1.0",
                  "1.612903",
                  "-1.3248432055645458",
                  "-1.0",
                  "760124.3",
                  "-2.664436006606025",
                  "-1.0",
                  "5.0",
                  "-2.2759905863821195",
                  "-1.0",
                  "2.2564981433876",
                  "-1.1662506538159685",
                  "-1.0",
                  "0.7616975",
                  "-1.483220794869503",
                  "-1.0",
                  "564550.6",
                  "-1.718238790824178",
                  "-1.0",
                  "1.99904942291463",
                  "-1.1790319118975563",
                  "-1.0",
                  "-0.8",
                  "-1.6482661375111802",
                  "-1.0",
                  "0.218128938439177",
                  "-0.6513360014730292",
                  "0.0",
                  "2.26227699098769",
                  "-1.5931989770861519",
                  "-1.0",
                  "2.32174328643542",
                  "-1.0276362343083736",
                  "-1.0",
                  "0.08210894",
                  "-0.00018741397647628415",
                  "0.0",
                  "-0.07200000000000001",
                  "-0.7265538882292863",
                  "0.0",
                  "542052.6",
                  "-2.0061105205107785",
                  "-1.0",
                  "2.4",
                  "-1.8466405184293173",
                  "-1.0",
                  "2.49770278172255",
                  "-1.0726037614080934",
                  "-1.0"
                ],
                [
                  "25%",
                  "2022-06-19 23:00:00",
                  "28.28",
                  "28.518",
                  "28.035",
                  "28.284",
                  "510.998",
                  "27193.67",
                  "27270.89",
                  "27126.25",
                  "27194.46",
                  "8.3993191",
                  "2022.0",
                  "3.0",
                  "8.0",
                  "5.0",
                  "1.0",
                  "0.0",
                  "28.294",
                  "28.272",
                  "0.3500000000000014",
                  "0.7696007696007703",
                  "-0.3500000000000014",
                  "-0.5151515151515202",
                  "27194.77",
                  "27198.079999999998",
                  "137.12000000000262",
                  "0.3772917350650373",
                  "-94.11999999999534",
                  "-0.22652514683265476",
                  "294.94",
                  "-0.48528656592083147",
                  "0.0",
                  "294.009",
                  "-0.8079337224645065",
                  "0.0",
                  "1.21",
                  "-1.1011933599596537",
                  "-1.0",
                  "2.25",
                  "-0.6919466008882895",
                  "0.0",
                  "3.6",
                  "-0.7847033857318788",
                  "0.0",
                  "21960.388",
                  "-1.0580162092367813",
                  "-1.0",
                  "59.8",
                  "-0.804580534139059",
                  "0.0",
                  "3.4",
                  "-0.8570359164251702",
                  "0.0",
                  "5.4",
                  "-0.1516991006395422",
                  "0.0",
                  "3.2715729463592",
                  "-1.1573627595038158",
                  "-1.0",
                  "2.295918",
                  "-1.0257002383411047",
                  "-1.0",
                  "764805.6",
                  "-0.5048570916902057",
                  "0.0",
                  "5.5",
                  "-0.31279267891319457",
                  "0.0",
                  "2.2564981433876",
                  "-1.1662506538159685",
                  "-1.0",
                  "1.865068",
                  "-0.8792469057145381",
                  "0.0",
                  "569486.7",
                  "-1.0095664123876347",
                  "-1.0",
                  "1.99904942291463",
                  "-1.1790319118975563",
                  "-1.0",
                  "0.1",
                  "-0.7120491005651461",
                  "0.0",
                  "0.218128938439177",
                  "-0.6513360014730292",
                  "0.0",
                  "3.33638863428048",
                  "-0.49731083923608127",
                  "0.0",
                  "2.32174328643542",
                  "-1.0276362343083736",
                  "-1.0",
                  "0.08210894",
                  "-0.00018741397647628415",
                  "0.0",
                  "-0.031",
                  "-0.5689180328967186",
                  "0.0",
                  "549013.0",
                  "-0.8475682431947493",
                  "0.0",
                  "2.5",
                  "-0.8283293658237393",
                  "0.0",
                  "2.49770278172255",
                  "-1.0726037614080934",
                  "-1.0"
                ],
                [
                  "50%",
                  "2023-06-15 13:00:00",
                  "95.35",
                  "96.1",
                  "94.56",
                  "95.36",
                  "1317.917",
                  "42240.35",
                  "42403.78",
                  "42082.41",
                  "42235.57",
                  "18.03914249",
                  "2023.0",
                  "7.0",
                  "16.0",
                  "11.0",
                  "3.0",
                  "0.0",
                  "95.37",
                  "95.3675",
                  "0.9900000000000091",
                  "1.1847582452769736",
                  "0.0",
                  "0.0",
                  "42237.22333333333",
                  "42233.9275",
                  "269.77999999999884",
                  "0.5981588729653333",
                  "1.389999999999418",
                  "0.004136048952264232",
                  "304.099",
                  "0.1679712999724384",
                  "0.0",
                  "308.291",
                  "0.16957566341515098",
                  "0.0",
                  "4.33",
                  "0.40991605053490454",
                  "0.0",
                  "2.35",
                  "-0.09557328782148738",
                  "0.0",
                  "3.9",
                  "-0.05415044312280827",
                  "0.0",
                  "22539.418",
                  "-0.1645864043963103",
                  "0.0",
                  "66.9",
                  "0.14086430623531013",
                  "0.0",
                  "4.6",
                  "-0.3480095075245206",
                  "0.0",
                  "5.4",
                  "-0.1516991006395422",
                  "0.0",
                  "6.79396706793963",
                  "0.5519817313735917",
                  "0.0",
                  "4.158416000000001",
                  "-0.2099741149503668",
                  "0.0",
                  "766049.3",
                  "0.06888701710030026",
                  "0.0",
                  "5.7",
                  "0.4724864840743762",
                  "0.0",
                  "5.94643667725823",
                  "0.6093233236177715",
                  "0.0",
                  "3.132635",
                  "-0.18539350764517565",
                  "0.0",
                  "576969.8",
                  "0.0647769508097454",
                  "0.0",
                  "4.87835726508441",
                  "0.7275989494783286",
                  "0.0",
                  "0.5",
                  "-0.29595263970024205",
                  "0.0",
                  "0.234836828893051",
                  "-0.6303287543023909",
                  "0.0",
                  "3.33638863428048",
                  "-0.49731083923608127",
                  "0.0",
                  "3.5974562502901",
                  "0.08288564560741189",
                  "0.0",
                  "0.08210894",
                  "-0.00018741397647628415",
                  "0.0",
                  "-0.003",
                  "-0.4612642780354528",
                  "0.0",
                  "555217.0",
                  "0.18507302576516996",
                  "0.0",
                  "2.6",
                  "0.18998178678183883",
                  "0.0",
                  "2.73853681635241",
                  "-0.27682456541576816",
                  "0.0"
                ],
                [
                  "75%",
                  "2024-06-10 14:00:00",
                  "152.61",
                  "153.78",
                  "151.49",
                  "152.58",
                  "3142.449",
                  "63690.08",
                  "63910.94",
                  "63435.23",
                  "63688.0",
                  "38.37932806",
                  "2024.0",
                  "10.0",
                  "23.0",
                  "17.0",
                  "5.0",
                  "1.0",
                  "152.59333333333333",
                  "152.5575",
                  "1.980000000000004",
                  "1.8585505800174564",
                  "0.35900000000000887",
                  "0.5156300354495654",
                  "63686.75",
                  "63688.87",
                  "470.1900000000023",
                  "0.9514878097876899",
                  "99.62999999999738",
                  "0.2386867348077258",
                  "313.14",
                  "0.8128129164743553",
                  "0.0",
                  "318.343",
                  "0.8575692460269945",
                  "0.0",
                  "5.33",
                  "0.8942459897959809",
                  "0.0",
                  "2.44",
                  "0.4411626939386332",
                  "0.0",
                  "4.1",
                  "0.43288485194990506",
                  "0.0",
                  "23223.906",
                  "0.8915626384091393",
                  "0.0",
                  "70.6",
                  "0.6335609131909652",
                  "0.0",
                  "7.9",
                  "1.0518131169522664",
                  "1.0",
                  "5.4",
                  "-0.1516991006395422",
                  "0.0",
                  "7.92204883147902",
                  "1.0994163117209335",
                  "1.0",
                  "6.673114",
                  "0.8913987998331339",
                  "0.0",
                  "767000.1",
                  "0.5075103978496307",
                  "0.0",
                  "5.8",
                  "0.8651260655681599",
                  "0.0",
                  "6.87257438551097",
                  "1.054974653361938",
                  "1.0",
                  "5.1977400000000005",
                  "0.9450241520288541",
                  "0.0",
                  "582739.9",
                  "0.8931861181314571",
                  "0.0",
                  "5.22236748369735",
                  "0.9553969257245313",
                  "0.0",
                  "1.5",
                  "0.7442885124620181",
                  "0.0",
                  "1.97357555739051",
                  "1.555830793220755",
                  "1.0",
                  "4.24288138789366",
                  "0.42756011057163607",
                  "0.0",
                  "5.08951365062842",
                  "1.3817376884363188",
                  "1.0",
                  "0.08210894",
                  "-0.00018741397647628415",
                  "0.0",
                  "0.149",
                  "0.12314181978284737",
                  "0.0",
                  "558868.7",
                  "0.7928899377350103",
                  "0.0",
                  "2.6",
                  "0.18998178678183883",
                  "0.0",
                  "3.26813365933163",
                  "1.4731031412466058",
                  "1.0"
                ],
                [
                  "max",
                  "2025-06-05 14:00:00",
                  "285.95",
                  "295.46",
                  "284.45",
                  "286.17",
                  "141953.416",
                  "111761.17",
                  "111991.77",
                  "111400.0",
                  "111755.82",
                  "1023.32966196",
                  "2025.0",
                  "12.0",
                  "31.0",
                  "23.0",
                  "6.0",
                  "1.0",
                  "288.6933333333333",
                  "287.6325",
                  "54.0",
                  "35.41169372819558",
                  "19.53800000000001",
                  "16.493194555644518",
                  "111698.28000000001",
                  "111649.3125",
                  "8519.100000000006",
                  "16.96194925332661",
                  "5120.150000000009",
                  "6.424499297349162",
                  "320.321",
                  "1.3249916188413824",
                  "1.0",
                  "326.43",
                  "1.411071444851304",
                  "1.0",
                  "5.33",
                  "0.8942459897959809",
                  "0.0",
                  "2.81",
                  "2.6477439522857997",
                  "1.0",
                  "5.9",
                  "4.816202507604332",
                  "1.0",
                  "23542.349",
                  "1.382912771118692",
                  "1.0",
                  "85.5",
                  "2.617663465525907",
                  "1.0",
                  "9.6",
                  "1.7729338628948534",
                  "1.0",
                  "5.7",
                  "9.716440959028084",
                  "1.0",
                  "7.92204883147902",
                  "1.0994163117209335",
                  "1.0",
                  "8.820708999999999",
                  "1.831990061656411",
                  "1.0",
                  "770584.3",
                  "2.1609747660468295",
                  "1.0",
                  "5.8",
                  "0.8651260655681599",
                  "0.0",
                  "6.87257438551097",
                  "1.054974653361938",
                  "1.0",
                  "6.278686",
                  "1.5367230959343716",
                  "1.0",
                  "585678.2",
                  "1.3150357665502606",
                  "1.0",
                  "5.22236748369735",
                  "0.9553969257245313",
                  "0.0",
                  "2.8",
                  "2.096602010272956",
                  "1.0",
                  "1.97357555739051",
                  "1.555830793220755",
                  "1.0",
                  "6.33678857813414",
                  "2.563919087659839",
                  "1.0",
                  "5.08951365062842",
                  "1.3817376884363188",
                  "1.0",
                  "0.08210894",
                  "-0.00018741397647628415",
                  "0.0",
                  "0.82091",
                  "2.706485906526887",
                  "1.0",
                  "561976.8",
                  "1.3102259029275345",
                  "1.0",
                  "2.9",
                  "3.2449152445985687",
                  "1.0",
                  "3.26813365933163",
                  "1.4731031412466058",
                  "1.0"
                ],
                [
                  "std",
                  null,
                  "69.21736978194528",
                  "69.72198549781484",
                  "68.69598102185789",
                  "69.21906352002038",
                  "4715.570000131315",
                  "24820.70921019148",
                  "24909.47098268611",
                  "24730.647672445735",
                  "24822.005608643132",
                  "42.313459302059734",
                  "1.2106092130438217",
                  "3.4722801445902194",
                  "8.83375492409857",
                  "6.922103873755025",
                  "2.000288882131525",
                  "0.45158971105568674",
                  "69.20920472707985",
                  "69.2100275533246",
                  "1.717064982907495",
                  "1.2934383888731524",
                  "1.3349018016411505",
                  "1.160098182007685",
                  "24820.226722284402",
                  "24820.161601585074",
                  "374.05405409460445",
                  "0.6586372481615941",
                  "307.3519292534303",
                  "0.5904310050727515",
                  "14.020497078095824",
                  "0.9999999999999685",
                  "0.585645869260647",
                  "14.61060139811005",
                  "0.9999999999999326",
                  "0.638423324004797",
                  "2.0647082059923076",
                  "1.0000000000001004",
                  "0.43735279575538455",
                  "0.14594972704004594",
                  "0.8704052225606755",
                  "0.43472887626085654",
                  "0.4248541853026108",
                  "1.0345949175086728",
                  "0.4849176917839043",
                  "648.1207940901968",
                  "1.0000352910506416",
                  "0.7007739537042827",
                  "7.590908246477226",
                  "1.0108147937164977",
                  "0.531678806130367",
                  "2.3598987796777697",
                  "1.0010423343236672",
                  "0.6534642225011326",
                  "0.03471863687087236",
                  "1.1420279044083639",
                  "0.15823109828659895",
                  "2.061171299167217",
                  "1.0002434944461285",
                  "0.8328260159128169",
                  "2.2877174132498097",
                  "1.001961267568477",
                  "0.6956917102092506",
                  "2155.4562768513456",
                  "0.9943558258413666",
                  "0.3582280386519067",
                  "0.254742251248271",
                  "1.0002189091890576",
                  "0.39198999618706254",
                  "2.0786938548190417",
                  "1.0002537120304027",
                  "0.8328260159128169",
                  "1.8345486529821367",
                  "1.0042134394436169",
                  "0.6538237919906504",
                  "6965.934624924341",
                  "1.0000942968494613",
                  "0.7007739537042827",
                  "1.5105572581159825",
                  "1.0002664682179008",
                  "0.49311731944964093",
                  "0.9595219445220523",
                  "0.9981342130945923",
                  "0.5756906203468889",
                  "0.7950910638606429",
                  "0.9996878150355296",
                  "0.4546879945697943",
                  "0.9820087783002707",
                  "1.001917983222676",
                  "0.5579392050233013",
                  "1.14884557667077",
                  "1.0000824524682734",
                  "0.8328260159128169",
                  "1.387798860778275e-17",
                  "5.421089299915137e-20",
                  "0.0",
                  "0.26278179869957424",
                  "1.0103374049716594",
                  "0.3358808623661243",
                  "6009.453201748922",
                  "1.000259410059519",
                  "0.5924026621009508",
                  "0.09999357280427891",
                  "1.0182457037547499",
                  "0.4592135889663408",
                  "0.30246313834592026",
                  "0.9994180158969502",
                  "0.7633758976392788"
                ]
              ],
              "shape": {
                "columns": 107,
                "rows": 8
              }
            },
            "text/html": [
              "<div>\n",
              "<style scoped>\n",
              "    .dataframe tbody tr th:only-of-type {\n",
              "        vertical-align: middle;\n",
              "    }\n",
              "\n",
              "    .dataframe tbody tr th {\n",
              "        vertical-align: top;\n",
              "    }\n",
              "\n",
              "    .dataframe thead th {\n",
              "        text-align: right;\n",
              "    }\n",
              "</style>\n",
              "<table border=\"1\" class=\"dataframe\">\n",
              "  <thead>\n",
              "    <tr style=\"text-align: right;\">\n",
              "      <th></th>\n",
              "      <th>timestamp</th>\n",
              "      <th>open_SOL_USDT</th>\n",
              "      <th>high_SOL_USDT</th>\n",
              "      <th>low_SOL_USDT</th>\n",
              "      <th>close_SOL_USDT</th>\n",
              "      <th>volume_SOL_USDT</th>\n",
              "      <th>open_BTC_USDT</th>\n",
              "      <th>high_BTC_USDT</th>\n",
              "      <th>low_BTC_USDT</th>\n",
              "      <th>close_BTC_USDT</th>\n",
              "      <th>...</th>\n",
              "      <th>JP_fund_rate_sentiment</th>\n",
              "      <th>JP_GDP</th>\n",
              "      <th>JP_GDP_zscore</th>\n",
              "      <th>JP_GDP_sentiment</th>\n",
              "      <th>JP_unemployment</th>\n",
              "      <th>JP_unemployment_zscore</th>\n",
              "      <th>JP_unemployment_sentiment</th>\n",
              "      <th>JP_Inflation</th>\n",
              "      <th>JP_Inflation_zscore</th>\n",
              "      <th>JP_Inflation_sentiment</th>\n",
              "    </tr>\n",
              "  </thead>\n",
              "  <tbody>\n",
              "    <tr>\n",
              "      <th>count</th>\n",
              "      <td>34557</td>\n",
              "      <td>34557.000000</td>\n",
              "      <td>34557.000000</td>\n",
              "      <td>34557.000000</td>\n",
              "      <td>34557.000000</td>\n",
              "      <td>34557.000000</td>\n",
              "      <td>34557.000000</td>\n",
              "      <td>34557.000000</td>\n",
              "      <td>34557.000000</td>\n",
              "      <td>34557.000000</td>\n",
              "      <td>...</td>\n",
              "      <td>34557.000000</td>\n",
              "      <td>34413.000000</td>\n",
              "      <td>34413.000000</td>\n",
              "      <td>34413.000000</td>\n",
              "      <td>34557.000000</td>\n",
              "      <td>34557.000000</td>\n",
              "      <td>34557.000000</td>\n",
              "      <td>29997.000000</td>\n",
              "      <td>29997.000000</td>\n",
              "      <td>29997.000000</td>\n",
              "    </tr>\n",
              "    <tr>\n",
              "      <th>mean</th>\n",
              "      <td>2023-06-15 17:31:48.603177472</td>\n",
              "      <td>97.209634</td>\n",
              "      <td>97.937569</td>\n",
              "      <td>96.459916</td>\n",
              "      <td>97.213156</td>\n",
              "      <td>2745.083347</td>\n",
              "      <td>47763.023167</td>\n",
              "      <td>47944.893093</td>\n",
              "      <td>47575.350073</td>\n",
              "      <td>47764.401329</td>\n",
              "      <td>...</td>\n",
              "      <td>0.129612</td>\n",
              "      <td>554129.595720</td>\n",
              "      <td>0.004077</td>\n",
              "      <td>0.108941</td>\n",
              "      <td>2.582050</td>\n",
              "      <td>0.007194</td>\n",
              "      <td>0.154035</td>\n",
              "      <td>2.822183</td>\n",
              "      <td>-0.000434</td>\n",
              "      <td>-0.001267</td>\n",
              "    </tr>\n",
              "    <tr>\n",
              "      <th>min</th>\n",
              "      <td>2021-06-25 00:00:00</td>\n",
              "      <td>8.270000</td>\n",
              "      <td>8.470000</td>\n",
              "      <td>7.950000</td>\n",
              "      <td>8.290000</td>\n",
              "      <td>0.020000</td>\n",
              "      <td>15644.170000</td>\n",
              "      <td>15761.300000</td>\n",
              "      <td>15477.170000</td>\n",
              "      <td>15653.240000</td>\n",
              "      <td>...</td>\n",
              "      <td>0.000000</td>\n",
              "      <td>542052.600000</td>\n",
              "      <td>-2.006111</td>\n",
              "      <td>-1.000000</td>\n",
              "      <td>2.400000</td>\n",
              "      <td>-1.846641</td>\n",
              "      <td>-1.000000</td>\n",
              "      <td>2.497703</td>\n",
              "      <td>-1.072604</td>\n",
              "      <td>-1.000000</td>\n",
              "    </tr>\n",
              "    <tr>\n",
              "      <th>25%</th>\n",
              "      <td>2022-06-19 23:00:00</td>\n",
              "      <td>28.280000</td>\n",
              "      <td>28.518000</td>\n",
              "      <td>28.035000</td>\n",
              "      <td>28.284000</td>\n",
              "      <td>510.998000</td>\n",
              "      <td>27193.670000</td>\n",
              "      <td>27270.890000</td>\n",
              "      <td>27126.250000</td>\n",
              "      <td>27194.460000</td>\n",
              "      <td>...</td>\n",
              "      <td>0.000000</td>\n",
              "      <td>549013.000000</td>\n",
              "      <td>-0.847568</td>\n",
              "      <td>0.000000</td>\n",
              "      <td>2.500000</td>\n",
              "      <td>-0.828329</td>\n",
              "      <td>0.000000</td>\n",
              "      <td>2.497703</td>\n",
              "      <td>-1.072604</td>\n",
              "      <td>-1.000000</td>\n",
              "    </tr>\n",
              "    <tr>\n",
              "      <th>50%</th>\n",
              "      <td>2023-06-15 13:00:00</td>\n",
              "      <td>95.350000</td>\n",
              "      <td>96.100000</td>\n",
              "      <td>94.560000</td>\n",
              "      <td>95.360000</td>\n",
              "      <td>1317.917000</td>\n",
              "      <td>42240.350000</td>\n",
              "      <td>42403.780000</td>\n",
              "      <td>42082.410000</td>\n",
              "      <td>42235.570000</td>\n",
              "      <td>...</td>\n",
              "      <td>0.000000</td>\n",
              "      <td>555217.000000</td>\n",
              "      <td>0.185073</td>\n",
              "      <td>0.000000</td>\n",
              "      <td>2.600000</td>\n",
              "      <td>0.189982</td>\n",
              "      <td>0.000000</td>\n",
              "      <td>2.738537</td>\n",
              "      <td>-0.276825</td>\n",
              "      <td>0.000000</td>\n",
              "    </tr>\n",
              "    <tr>\n",
              "      <th>75%</th>\n",
              "      <td>2024-06-10 14:00:00</td>\n",
              "      <td>152.610000</td>\n",
              "      <td>153.780000</td>\n",
              "      <td>151.490000</td>\n",
              "      <td>152.580000</td>\n",
              "      <td>3142.449000</td>\n",
              "      <td>63690.080000</td>\n",
              "      <td>63910.940000</td>\n",
              "      <td>63435.230000</td>\n",
              "      <td>63688.000000</td>\n",
              "      <td>...</td>\n",
              "      <td>0.000000</td>\n",
              "      <td>558868.700000</td>\n",
              "      <td>0.792890</td>\n",
              "      <td>0.000000</td>\n",
              "      <td>2.600000</td>\n",
              "      <td>0.189982</td>\n",
              "      <td>0.000000</td>\n",
              "      <td>3.268134</td>\n",
              "      <td>1.473103</td>\n",
              "      <td>1.000000</td>\n",
              "    </tr>\n",
              "    <tr>\n",
              "      <th>max</th>\n",
              "      <td>2025-06-05 14:00:00</td>\n",
              "      <td>285.950000</td>\n",
              "      <td>295.460000</td>\n",
              "      <td>284.450000</td>\n",
              "      <td>286.170000</td>\n",
              "      <td>141953.416000</td>\n",
              "      <td>111761.170000</td>\n",
              "      <td>111991.770000</td>\n",
              "      <td>111400.000000</td>\n",
              "      <td>111755.820000</td>\n",
              "      <td>...</td>\n",
              "      <td>1.000000</td>\n",
              "      <td>561976.800000</td>\n",
              "      <td>1.310226</td>\n",
              "      <td>1.000000</td>\n",
              "      <td>2.900000</td>\n",
              "      <td>3.244915</td>\n",
              "      <td>1.000000</td>\n",
              "      <td>3.268134</td>\n",
              "      <td>1.473103</td>\n",
              "      <td>1.000000</td>\n",
              "    </tr>\n",
              "    <tr>\n",
              "      <th>std</th>\n",
              "      <td>NaN</td>\n",
              "      <td>69.217370</td>\n",
              "      <td>69.721985</td>\n",
              "      <td>68.695981</td>\n",
              "      <td>69.219064</td>\n",
              "      <td>4715.570000</td>\n",
              "      <td>24820.709210</td>\n",
              "      <td>24909.470983</td>\n",
              "      <td>24730.647672</td>\n",
              "      <td>24822.005609</td>\n",
              "      <td>...</td>\n",
              "      <td>0.335881</td>\n",
              "      <td>6009.453202</td>\n",
              "      <td>1.000259</td>\n",
              "      <td>0.592403</td>\n",
              "      <td>0.099994</td>\n",
              "      <td>1.018246</td>\n",
              "      <td>0.459214</td>\n",
              "      <td>0.302463</td>\n",
              "      <td>0.999418</td>\n",
              "      <td>0.763376</td>\n",
              "    </tr>\n",
              "  </tbody>\n",
              "</table>\n",
              "<p>8 rows × 107 columns</p>\n",
              "</div>"
            ],
            "text/plain": [
              "                           timestamp  open_SOL_USDT  high_SOL_USDT  \\\n",
              "count                          34557   34557.000000   34557.000000   \n",
              "mean   2023-06-15 17:31:48.603177472      97.209634      97.937569   \n",
              "min              2021-06-25 00:00:00       8.270000       8.470000   \n",
              "25%              2022-06-19 23:00:00      28.280000      28.518000   \n",
              "50%              2023-06-15 13:00:00      95.350000      96.100000   \n",
              "75%              2024-06-10 14:00:00     152.610000     153.780000   \n",
              "max              2025-06-05 14:00:00     285.950000     295.460000   \n",
              "std                              NaN      69.217370      69.721985   \n",
              "\n",
              "       low_SOL_USDT  close_SOL_USDT  volume_SOL_USDT  open_BTC_USDT  \\\n",
              "count  34557.000000    34557.000000     34557.000000   34557.000000   \n",
              "mean      96.459916       97.213156      2745.083347   47763.023167   \n",
              "min        7.950000        8.290000         0.020000   15644.170000   \n",
              "25%       28.035000       28.284000       510.998000   27193.670000   \n",
              "50%       94.560000       95.360000      1317.917000   42240.350000   \n",
              "75%      151.490000      152.580000      3142.449000   63690.080000   \n",
              "max      284.450000      286.170000    141953.416000  111761.170000   \n",
              "std       68.695981       69.219064      4715.570000   24820.709210   \n",
              "\n",
              "       high_BTC_USDT   low_BTC_USDT  close_BTC_USDT  ...  \\\n",
              "count   34557.000000   34557.000000    34557.000000  ...   \n",
              "mean    47944.893093   47575.350073    47764.401329  ...   \n",
              "min     15761.300000   15477.170000    15653.240000  ...   \n",
              "25%     27270.890000   27126.250000    27194.460000  ...   \n",
              "50%     42403.780000   42082.410000    42235.570000  ...   \n",
              "75%     63910.940000   63435.230000    63688.000000  ...   \n",
              "max    111991.770000  111400.000000   111755.820000  ...   \n",
              "std     24909.470983   24730.647672    24822.005609  ...   \n",
              "\n",
              "       JP_fund_rate_sentiment         JP_GDP  JP_GDP_zscore  JP_GDP_sentiment  \\\n",
              "count            34557.000000   34413.000000   34413.000000      34413.000000   \n",
              "mean                 0.129612  554129.595720       0.004077          0.108941   \n",
              "min                  0.000000  542052.600000      -2.006111         -1.000000   \n",
              "25%                  0.000000  549013.000000      -0.847568          0.000000   \n",
              "50%                  0.000000  555217.000000       0.185073          0.000000   \n",
              "75%                  0.000000  558868.700000       0.792890          0.000000   \n",
              "max                  1.000000  561976.800000       1.310226          1.000000   \n",
              "std                  0.335881    6009.453202       1.000259          0.592403   \n",
              "\n",
              "       JP_unemployment  JP_unemployment_zscore  JP_unemployment_sentiment  \\\n",
              "count     34557.000000            34557.000000               34557.000000   \n",
              "mean          2.582050                0.007194                   0.154035   \n",
              "min           2.400000               -1.846641                  -1.000000   \n",
              "25%           2.500000               -0.828329                   0.000000   \n",
              "50%           2.600000                0.189982                   0.000000   \n",
              "75%           2.600000                0.189982                   0.000000   \n",
              "max           2.900000                3.244915                   1.000000   \n",
              "std           0.099994                1.018246                   0.459214   \n",
              "\n",
              "       JP_Inflation  JP_Inflation_zscore  JP_Inflation_sentiment  \n",
              "count  29997.000000         29997.000000            29997.000000  \n",
              "mean       2.822183            -0.000434               -0.001267  \n",
              "min        2.497703            -1.072604               -1.000000  \n",
              "25%        2.497703            -1.072604               -1.000000  \n",
              "50%        2.738537            -0.276825                0.000000  \n",
              "75%        3.268134             1.473103                1.000000  \n",
              "max        3.268134             1.473103                1.000000  \n",
              "std        0.302463             0.999418                0.763376  \n",
              "\n",
              "[8 rows x 107 columns]"
            ]
          },
          "execution_count": 13,
          "metadata": {},
          "output_type": "execute_result"
        }
      ],
      "source": [
        "df.describe()"
      ]
    },
    {
      "cell_type": "markdown",
      "metadata": {
        "id": "qbrH9kC6ovYy"
      },
      "source": [
        "### **Solana scraping vs Solana Real**"
      ]
    },
    {
      "cell_type": "code",
      "execution_count": 14,
      "metadata": {
        "colab": {
          "base_uri": "https://localhost:8080/"
        },
        "id": "CP6-nzXlrIi1",
        "outputId": "fc12e958-776b-4e09-fc13-64136bcf2416"
      },
      "outputs": [
        {
          "data": {
            "text/plain": [
              "<Axes: >"
            ]
          },
          "execution_count": 14,
          "metadata": {},
          "output_type": "execute_result"
        },
        {
          "data": {
            "image/png": "[encoded data removed]",
            "text/plain": [
              "<Figure size 1500x600 with 1 Axes>"
            ]
          },
          "metadata": {},
          "output_type": "display_data"
        }
      ],
      "source": [
        "df['close_SOL_USDT'].plot(figsize=(15, 6))"
      ]
    },
    {
      "cell_type": "markdown",
      "metadata": {
        "id": "XGi_3aAw7Ypa"
      },
      "source": [
        "![Screenshot 2025-05-13 205607.png](data:image/png;base64,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)"
      ]
    },
    {
      "cell_type": "markdown",
      "metadata": {
        "id": "ztpUP8O75NnB"
      },
      "source": [
        "### **Bitcoin scraping vs Bitcoin Real**"
      ]
    },
    {
      "cell_type": "code",
      "execution_count": 15,
      "metadata": {
        "colab": {
          "base_uri": "https://localhost:8080/"
        },
        "id": "e0vPApia5RMh",
        "outputId": "e801f873-da5a-4c91-e36c-762fe083e1bd"
      },
      "outputs": [
        {
          "data": {
            "text/plain": [
              "<Axes: >"
            ]
          },
          "execution_count": 15,
          "metadata": {},
          "output_type": "execute_result"
        },
        {
          "data": {
            "image/png": "[encoded data removed]",
            "text/plain": [
              "<Figure size 1500x600 with 1 Axes>"
            ]
          },
          "metadata": {},
          "output_type": "display_data"
        }
      ],
      "source": [
        "df['close_BTC_USDT'].plot(figsize=(15, 6))"
      ]
    },
    {
      "cell_type": "markdown",
      "metadata": {
        "id": "qGymL0Om7ReG"
      },
      "source": [
        "![Screenshot 2025-05-13 205424.png](data:image/png;base64,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)"
      ]
    },
    {
      "cell_type": "markdown",
      "metadata": {
        "id": "Rj9U0TGS74rg"
      },
      "source": [
        "### Handling Missing Value"
      ]
    },
    {
      "cell_type": "code",
      "execution_count": 16,
      "metadata": {
        "colab": {
          "base_uri": "https://localhost:8080/"
        },
        "id": "W3N-Z3xdIHUY",
        "outputId": "e4c39b68-072e-46bd-d68e-df2dbf9b0a16"
      },
      "outputs": [
        {
          "data": {
            "application/vnd.microsoft.datawrangler.viewer.v0+json": {
              "columns": [
                {
                  "name": "index",
                  "rawType": "object",
                  "type": "string"
                },
                {
                  "name": "0",
                  "rawType": "int64",
                  "type": "integer"
                }
              ],
              "ref": "79499b3d-a140-4174-854f-6d963cf4911c",
              "rows": [
                [
                  "CN_Inflation_sentiment",
                  "4560"
                ],
                [
                  "CN_Inflation_zscore",
                  "4560"
                ],
                [
                  "CN_Inflation",
                  "4560"
                ],
                [
                  "JP_Inflation_zscore",
                  "4560"
                ],
                [
                  "JP_Inflation_sentiment",
                  "4560"
                ],
                [
                  "DE_inflation",
                  "4560"
                ],
                [
                  "DE_inflation_sentiment",
                  "4560"
                ],
                [
                  "DE_inflation_zscore",
                  "4560"
                ],
                [
                  "UK_inflation_zscore",
                  "4560"
                ],
                [
                  "UK_inflation",
                  "4560"
                ],
                [
                  "UK_inflation_sentiment",
                  "4560"
                ],
                [
                  "FR_inflation_zscore",
                  "4560"
                ],
                [
                  "FR_inflation",
                  "4560"
                ],
                [
                  "FR_inflation_sentiment",
                  "4560"
                ],
                [
                  "KR_Inflation",
                  "4560"
                ],
                [
                  "KR_Inflation_zscore",
                  "4560"
                ],
                [
                  "KR_Inflation_sentiment",
                  "4560"
                ],
                [
                  "JP_Inflation",
                  "4560"
                ],
                [
                  "DE_GDP_zscore",
                  "144"
                ],
                [
                  "US_GDP",
                  "144"
                ],
                [
                  "US_GDP_sentiment",
                  "144"
                ],
                [
                  "JP_GDP",
                  "144"
                ],
                [
                  "JP_GDP_zscore",
                  "144"
                ],
                [
                  "FR_GDP_sentiment",
                  "144"
                ],
                [
                  "FR_GDP_zscore",
                  "144"
                ],
                [
                  "DE_GDP_sentiment",
                  "144"
                ],
                [
                  "DE_GDP",
                  "144"
                ],
                [
                  "FR_GDP",
                  "144"
                ],
                [
                  "US_GDP_zscore",
                  "144"
                ],
                [
                  "JP_GDP_sentiment",
                  "144"
                ],
                [
                  "month",
                  "0"
                ],
                [
                  "year",
                  "0"
                ],
                [
                  "timestamp",
                  "0"
                ],
                [
                  "open_SOL_USDT",
                  "0"
                ],
                [
                  "high_SOL_USDT",
                  "0"
                ],
                [
                  "low_SOL_USDT",
                  "0"
                ],
                [
                  "close_SOL_USDT",
                  "0"
                ],
                [
                  "volume_SOL_USDT",
                  "0"
                ],
                [
                  "open_BTC_USDT",
                  "0"
                ],
                [
                  "high_BTC_USDT",
                  "0"
                ],
                [
                  "low_BTC_USDT",
                  "0"
                ],
                [
                  "close_BTC_USDT",
                  "0"
                ],
                [
                  "volume_BTC_USDT",
                  "0"
                ],
                [
                  "US_unemployment_zscore",
                  "0"
                ],
                [
                  "US_unemployment",
                  "0"
                ],
                [
                  "US_inflation_sentiment",
                  "0"
                ],
                [
                  "US_inflation_zscore",
                  "0"
                ],
                [
                  "US_inflation",
                  "0"
                ],
                [
                  "US_fed_funds_rate_sentiment",
                  "0"
                ],
                [
                  "US_fed_funds_rate_zscore",
                  "0"
                ]
              ],
              "shape": {
                "columns": 1,
                "rows": 107
              }
            },
            "text/plain": [
              "CN_Inflation_sentiment       4560\n",
              "CN_Inflation_zscore          4560\n",
              "CN_Inflation                 4560\n",
              "JP_Inflation_zscore          4560\n",
              "JP_Inflation_sentiment       4560\n",
              "                             ... \n",
              "JP_CPI_sentiment                0\n",
              "JP_CPI                          0\n",
              "JP_unemployment                 0\n",
              "JP_unemployment_zscore          0\n",
              "JP_unemployment_sentiment       0\n",
              "Length: 107, dtype: int64"
            ]
          },
          "execution_count": 16,
          "metadata": {},
          "output_type": "execute_result"
        }
      ],
      "source": [
        "df.isna().sum().sort_values(ascending=False)"
      ]
    },
    {
      "cell_type": "code",
      "execution_count": 17,
      "metadata": {
        "id": "iTwP2umP784U"
      },
      "outputs": [],
      "source": [
        "miss_val = df.isna().sum().sort_values(ascending=False)\n",
        "miss_val = miss_val[miss_val>0]"
      ]
    },
    {
      "cell_type": "code",
      "execution_count": 18,
      "metadata": {
        "colab": {
          "base_uri": "https://localhost:8080/"
        },
        "id": "NSZy7-gvIdVi",
        "outputId": "3d055eb9-94f5-4747-fc53-231f3c195f19"
      },
      "outputs": [
        {
          "data": {
            "text/plain": [
              "['CN_Inflation_sentiment',\n",
              " 'CN_Inflation_zscore',\n",
              " 'CN_Inflation',\n",
              " 'JP_Inflation_zscore',\n",
              " 'JP_Inflation_sentiment',\n",
              " 'DE_inflation',\n",
              " 'DE_inflation_sentiment',\n",
              " 'DE_inflation_zscore',\n",
              " 'UK_inflation_zscore',\n",
              " 'UK_inflation',\n",
              " 'UK_inflation_sentiment',\n",
              " 'FR_inflation_zscore',\n",
              " 'FR_inflation',\n",
              " 'FR_inflation_sentiment',\n",
              " 'KR_Inflation',\n",
              " 'KR_Inflation_zscore',\n",
              " 'KR_Inflation_sentiment',\n",
              " 'JP_Inflation',\n",
              " 'DE_GDP_zscore',\n",
              " 'US_GDP',\n",
              " 'US_GDP_sentiment',\n",
              " 'JP_GDP',\n",
              " 'JP_GDP_zscore',\n",
              " 'FR_GDP_sentiment',\n",
              " 'FR_GDP_zscore',\n",
              " 'DE_GDP_sentiment',\n",
              " 'DE_GDP',\n",
              " 'FR_GDP',\n",
              " 'US_GDP_zscore',\n",
              " 'JP_GDP_sentiment']"
            ]
          },
          "execution_count": 18,
          "metadata": {},
          "output_type": "execute_result"
        }
      ],
      "source": [
        "miss_val.index.to_list()"
      ]
    },
    {
      "cell_type": "code",
      "execution_count": 19,
      "metadata": {
        "colab": {
          "base_uri": "https://localhost:8080/"
        },
        "id": "QWlyRXqz8e2z",
        "outputId": "a5431895-bd35-4f6d-e6f3-f3dcebb58bf0"
      },
      "outputs": [
        {
          "data": {
            "application/vnd.microsoft.datawrangler.viewer.v0+json": {
              "columns": [
                {
                  "name": "index",
                  "rawType": "object",
                  "type": "string"
                },
                {
                  "name": "0",
                  "rawType": "int64",
                  "type": "integer"
                }
              ],
              "ref": "a3e7d846-2898-40c5-8e0f-147208cb1b57",
              "rows": [
                [
                  "timestamp",
                  "0"
                ],
                [
                  "open_SOL_USDT",
                  "0"
                ],
                [
                  "high_SOL_USDT",
                  "0"
                ],
                [
                  "low_SOL_USDT",
                  "0"
                ],
                [
                  "close_SOL_USDT",
                  "0"
                ],
                [
                  "volume_SOL_USDT",
                  "0"
                ],
                [
                  "open_BTC_USDT",
                  "0"
                ],
                [
                  "high_BTC_USDT",
                  "0"
                ],
                [
                  "low_BTC_USDT",
                  "0"
                ],
                [
                  "close_BTC_USDT",
                  "0"
                ],
                [
                  "volume_BTC_USDT",
                  "0"
                ],
                [
                  "year",
                  "0"
                ],
                [
                  "month",
                  "0"
                ],
                [
                  "day",
                  "0"
                ],
                [
                  "hour",
                  "0"
                ],
                [
                  "day_of_week",
                  "0"
                ],
                [
                  "is_weekend",
                  "0"
                ],
                [
                  "typical_price_SOL_USDT",
                  "0"
                ],
                [
                  "avg_price_SOL_USDT",
                  "0"
                ],
                [
                  "range_SOL_USDT",
                  "0"
                ],
                [
                  "range_pct_SOL_USDT",
                  "0"
                ],
                [
                  "close_change_SOL_USDT",
                  "0"
                ],
                [
                  "close_pct_change_SOL_USDT",
                  "0"
                ],
                [
                  "typical_price_BTC_USDT",
                  "0"
                ],
                [
                  "avg_price_BTC_USDT",
                  "0"
                ],
                [
                  "range_BTC_USDT",
                  "0"
                ],
                [
                  "range_pct_BTC_USDT",
                  "0"
                ],
                [
                  "close_change_BTC_USDT",
                  "0"
                ],
                [
                  "close_pct_change_BTC_USDT",
                  "0"
                ],
                [
                  "US_CPI",
                  "0"
                ],
                [
                  "US_CPI_zscore",
                  "0"
                ],
                [
                  "US_CPI_sentiment",
                  "0"
                ],
                [
                  "US_core_CPI",
                  "0"
                ],
                [
                  "US_core_CPI_zscore",
                  "0"
                ],
                [
                  "US_core_CPI_sentiment",
                  "0"
                ],
                [
                  "US_fed_funds_rate",
                  "0"
                ],
                [
                  "US_fed_funds_rate_zscore",
                  "0"
                ],
                [
                  "US_fed_funds_rate_sentiment",
                  "0"
                ],
                [
                  "US_inflation",
                  "0"
                ],
                [
                  "US_inflation_zscore",
                  "0"
                ],
                [
                  "US_inflation_sentiment",
                  "0"
                ],
                [
                  "US_unemployment",
                  "0"
                ],
                [
                  "US_unemployment_zscore",
                  "0"
                ],
                [
                  "US_unemployment_sentiment",
                  "0"
                ],
                [
                  "US_consumer_sentiment",
                  "0"
                ],
                [
                  "US_consumer_sentiment_zscore",
                  "0"
                ],
                [
                  "US_consumer_sentiment_sentiment",
                  "0"
                ],
                [
                  "UK_CPI",
                  "0"
                ],
                [
                  "UK_CPI_zscore",
                  "0"
                ],
                [
                  "UK_CPI_sentiment",
                  "0"
                ]
              ],
              "shape": {
                "columns": 1,
                "rows": 77
              }
            },
            "text/plain": [
              "timestamp                    0\n",
              "open_SOL_USDT                0\n",
              "high_SOL_USDT                0\n",
              "low_SOL_USDT                 0\n",
              "close_SOL_USDT               0\n",
              "                            ..\n",
              "JP_fund_rate_zscore          0\n",
              "JP_fund_rate_sentiment       0\n",
              "JP_unemployment              0\n",
              "JP_unemployment_zscore       0\n",
              "JP_unemployment_sentiment    0\n",
              "Length: 77, dtype: int64"
            ]
          },
          "execution_count": 19,
          "metadata": {},
          "output_type": "execute_result"
        }
      ],
      "source": [
        "df_clean = df.drop(miss_val.index.to_list(), axis=1)\n",
        "df_clean.isna().sum().sort_values(ascending=False)"
      ]
    },
    {
      "cell_type": "markdown",
      "metadata": {
        "id": "IFoMfliA-c3I"
      },
      "source": [
        "**Cek Runtutan Waktu**"
      ]
    },
    {
      "cell_type": "code",
      "execution_count": 20,
      "metadata": {
        "id": "APVm4Q1D_je2"
      },
      "outputs": [],
      "source": [
        "df_clean['timestamp'] = pd.to_datetime(df_clean['timestamp'])\n",
        "df_clean = df_clean.set_index('timestamp').sort_index()"
      ]
    },
    {
      "cell_type": "code",
      "execution_count": 21,
      "metadata": {
        "colab": {
          "base_uri": "https://localhost:8080/"
        },
        "id": "2el6JkkG-LEC",
        "outputId": "d390e7e9-0c84-4f91-b934-cfeeab58b9a7"
      },
      "outputs": [
        {
          "name": "stdout",
          "output_type": "stream",
          "text": [
            "Jumlah tanggal hilang: 42\n",
            "DatetimeIndex(['2022-12-10 03:00:00', '2023-03-04 17:00:00',\n",
            "               '2023-03-04 18:00:00', '2023-03-04 19:00:00',\n",
            "               '2023-03-04 20:00:00', '2023-03-04 21:00:00',\n",
            "               '2023-04-10 06:00:00', '2023-04-29 02:00:00',\n",
            "               '2023-05-19 08:00:00', '2023-05-20 04:00:00',\n",
            "               '2023-05-25 23:00:00', '2023-05-27 03:00:00',\n",
            "               '2023-06-02 17:00:00', '2023-06-03 08:00:00',\n",
            "               '2023-06-06 06:00:00', '2023-08-02 09:00:00',\n",
            "               '2023-08-12 11:00:00', '2023-08-13 09:00:00',\n",
            "               '2023-08-26 10:00:00', '2023-08-30 22:00:00',\n",
            "               '2023-09-01 02:00:00', '2023-09-03 22:00:00',\n",
            "               '2023-09-04 20:00:00', '2023-09-09 06:00:00',\n",
            "               '2023-09-09 14:00:00', '2023-09-09 19:00:00',\n",
            "               '2023-09-09 20:00:00', '2023-09-09 23:00:00',\n",
            "               '2023-09-17 11:00:00', '2023-09-17 14:00:00',\n",
            "               '2023-09-18 08:00:00', '2023-09-20 11:00:00',\n",
            "               '2023-09-23 08:00:00', '2023-09-23 11:00:00',\n",
            "               '2023-09-23 21:00:00', '2023-09-27 06:00:00',\n",
            "               '2023-09-28 07:00:00', '2023-09-29 23:00:00',\n",
            "               '2023-10-14 10:00:00', '2023-10-14 13:00:00',\n",
            "               '2024-05-31 22:00:00', '2024-10-26 16:00:00'],\n",
            "              dtype='datetime64[ns]', freq=None)\n"
          ]
        }
      ],
      "source": [
        "full_idx = pd.date_range(\n",
        "    start=df_clean.index.min(),\n",
        "    end  =df_clean.index.max(),\n",
        "    freq ='h'\n",
        ")\n",
        "\n",
        "missing_dates = full_idx.difference(df_clean.index)\n",
        "\n",
        "print(f\"Jumlah tanggal hilang: {len(missing_dates)}\")\n",
        "print(missing_dates)\n"
      ]
    },
    {
      "cell_type": "code",
      "execution_count": 22,
      "metadata": {
        "colab": {
          "base_uri": "https://localhost:8080/"
        },
        "id": "gw86gGih_153",
        "outputId": "f367068b-e0a5-4212-c97d-3e5f11614a9f"
      },
      "outputs": [
        {
          "name": "stdout",
          "output_type": "stream",
          "text": [
            "                     open_SOL_USDT  high_SOL_USDT  low_SOL_USDT  \\\n",
            "2022-12-10 03:00:00            NaN            NaN           NaN   \n",
            "2023-03-04 17:00:00            NaN            NaN           NaN   \n",
            "2023-03-04 18:00:00            NaN            NaN           NaN   \n",
            "2023-03-04 19:00:00            NaN            NaN           NaN   \n",
            "2023-03-04 20:00:00            NaN            NaN           NaN   \n",
            "2023-03-04 21:00:00            NaN            NaN           NaN   \n",
            "2023-04-10 06:00:00            NaN            NaN           NaN   \n",
            "2023-04-29 02:00:00            NaN            NaN           NaN   \n",
            "2023-05-19 08:00:00            NaN            NaN           NaN   \n",
            "2023-05-20 04:00:00            NaN            NaN           NaN   \n",
            "2023-05-25 23:00:00            NaN            NaN           NaN   \n",
            "2023-05-27 03:00:00            NaN            NaN           NaN   \n",
            "2023-06-02 17:00:00            NaN            NaN           NaN   \n",
            "2023-06-03 08:00:00            NaN            NaN           NaN   \n",
            "2023-06-06 06:00:00            NaN            NaN           NaN   \n",
            "2023-08-02 09:00:00            NaN            NaN           NaN   \n",
            "2023-08-12 11:00:00            NaN            NaN           NaN   \n",
            "2023-08-13 09:00:00            NaN            NaN           NaN   \n",
            "2023-08-26 10:00:00            NaN            NaN           NaN   \n",
            "2023-08-30 22:00:00            NaN            NaN           NaN   \n",
            "2023-09-01 02:00:00            NaN            NaN           NaN   \n",
            "2023-09-03 22:00:00            NaN            NaN           NaN   \n",
            "2023-09-04 20:00:00            NaN            NaN           NaN   \n",
            "2023-09-09 06:00:00            NaN            NaN           NaN   \n",
            "2023-09-09 14:00:00            NaN            NaN           NaN   \n",
            "2023-09-09 19:00:00            NaN            NaN           NaN   \n",
            "2023-09-09 20:00:00            NaN            NaN           NaN   \n",
            "2023-09-09 23:00:00            NaN            NaN           NaN   \n",
            "2023-09-17 11:00:00            NaN            NaN           NaN   \n",
            "2023-09-17 14:00:00            NaN            NaN           NaN   \n",
            "2023-09-18 08:00:00            NaN            NaN           NaN   \n",
            "2023-09-20 11:00:00            NaN            NaN           NaN   \n",
            "2023-09-23 08:00:00            NaN            NaN           NaN   \n",
            "2023-09-23 11:00:00            NaN            NaN           NaN   \n",
            "2023-09-23 21:00:00            NaN            NaN           NaN   \n",
            "2023-09-27 06:00:00            NaN            NaN           NaN   \n",
            "2023-09-28 07:00:00            NaN            NaN           NaN   \n",
            "2023-09-29 23:00:00            NaN            NaN           NaN   \n",
            "2023-10-14 10:00:00            NaN            NaN           NaN   \n",
            "2023-10-14 13:00:00            NaN            NaN           NaN   \n",
            "2024-05-31 22:00:00            NaN            NaN           NaN   \n",
            "2024-10-26 16:00:00            NaN            NaN           NaN   \n",
            "\n",
            "                     close_SOL_USDT  volume_SOL_USDT  open_BTC_USDT  \\\n",
            "2022-12-10 03:00:00             NaN              NaN            NaN   \n",
            "2023-03-04 17:00:00             NaN              NaN            NaN   \n",
            "2023-03-04 18:00:00             NaN              NaN            NaN   \n",
            "2023-03-04 19:00:00             NaN              NaN            NaN   \n",
            "2023-03-04 20:00:00             NaN              NaN            NaN   \n",
            "2023-03-04 21:00:00             NaN              NaN            NaN   \n",
            "2023-04-10 06:00:00             NaN              NaN            NaN   \n",
            "2023-04-29 02:00:00             NaN              NaN            NaN   \n",
            "2023-05-19 08:00:00             NaN              NaN            NaN   \n",
            "2023-05-20 04:00:00             NaN              NaN            NaN   \n",
            "2023-05-25 23:00:00             NaN              NaN            NaN   \n",
            "2023-05-27 03:00:00             NaN              NaN            NaN   \n",
            "2023-06-02 17:00:00             NaN              NaN            NaN   \n",
            "2023-06-03 08:00:00             NaN              NaN            NaN   \n",
            "2023-06-06 06:00:00             NaN              NaN            NaN   \n",
            "2023-08-02 09:00:00             NaN              NaN            NaN   \n",
            "2023-08-12 11:00:00             NaN              NaN            NaN   \n",
            "2023-08-13 09:00:00             NaN              NaN            NaN   \n",
            "2023-08-26 10:00:00             NaN              NaN            NaN   \n",
            "2023-08-30 22:00:00             NaN              NaN            NaN   \n",
            "2023-09-01 02:00:00             NaN              NaN            NaN   \n",
            "2023-09-03 22:00:00             NaN              NaN            NaN   \n",
            "2023-09-04 20:00:00             NaN              NaN            NaN   \n",
            "2023-09-09 06:00:00             NaN              NaN            NaN   \n",
            "2023-09-09 14:00:00             NaN              NaN            NaN   \n",
            "2023-09-09 19:00:00             NaN              NaN            NaN   \n",
            "2023-09-09 20:00:00             NaN              NaN            NaN   \n",
            "2023-09-09 23:00:00             NaN              NaN            NaN   \n",
            "2023-09-17 11:00:00             NaN              NaN            NaN   \n",
            "2023-09-17 14:00:00             NaN              NaN            NaN   \n",
            "2023-09-18 08:00:00             NaN              NaN            NaN   \n",
            "2023-09-20 11:00:00             NaN              NaN            NaN   \n",
            "2023-09-23 08:00:00             NaN              NaN            NaN   \n",
            "2023-09-23 11:00:00             NaN              NaN            NaN   \n",
            "2023-09-23 21:00:00             NaN              NaN            NaN   \n",
            "2023-09-27 06:00:00             NaN              NaN            NaN   \n",
            "2023-09-28 07:00:00             NaN              NaN            NaN   \n",
            "2023-09-29 23:00:00             NaN              NaN            NaN   \n",
            "2023-10-14 10:00:00             NaN              NaN            NaN   \n",
            "2023-10-14 13:00:00             NaN              NaN            NaN   \n",
            "2024-05-31 22:00:00             NaN              NaN            NaN   \n",
            "2024-10-26 16:00:00             NaN              NaN            NaN   \n",
            "\n",
            "                     high_BTC_USDT  low_BTC_USDT  close_BTC_USDT  \\\n",
            "2022-12-10 03:00:00            NaN           NaN             NaN   \n",
            "2023-03-04 17:00:00            NaN           NaN             NaN   \n",
            "2023-03-04 18:00:00            NaN           NaN             NaN   \n",
            "2023-03-04 19:00:00            NaN           NaN             NaN   \n",
            "2023-03-04 20:00:00            NaN           NaN             NaN   \n",
            "2023-03-04 21:00:00            NaN           NaN             NaN   \n",
            "2023-04-10 06:00:00            NaN           NaN             NaN   \n",
            "2023-04-29 02:00:00            NaN           NaN             NaN   \n",
            "2023-05-19 08:00:00            NaN           NaN             NaN   \n",
            "2023-05-20 04:00:00            NaN           NaN             NaN   \n",
            "2023-05-25 23:00:00            NaN           NaN             NaN   \n",
            "2023-05-27 03:00:00            NaN           NaN             NaN   \n",
            "2023-06-02 17:00:00            NaN           NaN             NaN   \n",
            "2023-06-03 08:00:00            NaN           NaN             NaN   \n",
            "2023-06-06 06:00:00            NaN           NaN             NaN   \n",
            "2023-08-02 09:00:00            NaN           NaN             NaN   \n",
            "2023-08-12 11:00:00            NaN           NaN             NaN   \n",
            "2023-08-13 09:00:00            NaN           NaN             NaN   \n",
            "2023-08-26 10:00:00            NaN           NaN             NaN   \n",
            "2023-08-30 22:00:00            NaN           NaN             NaN   \n",
            "2023-09-01 02:00:00            NaN           NaN             NaN   \n",
            "2023-09-03 22:00:00            NaN           NaN             NaN   \n",
            "2023-09-04 20:00:00            NaN           NaN             NaN   \n",
            "2023-09-09 06:00:00            NaN           NaN             NaN   \n",
            "2023-09-09 14:00:00            NaN           NaN             NaN   \n",
            "2023-09-09 19:00:00            NaN           NaN             NaN   \n",
            "2023-09-09 20:00:00            NaN           NaN             NaN   \n",
            "2023-09-09 23:00:00            NaN           NaN             NaN   \n",
            "2023-09-17 11:00:00            NaN           NaN             NaN   \n",
            "2023-09-17 14:00:00            NaN           NaN             NaN   \n",
            "2023-09-18 08:00:00            NaN           NaN             NaN   \n",
            "2023-09-20 11:00:00            NaN           NaN             NaN   \n",
            "2023-09-23 08:00:00            NaN           NaN             NaN   \n",
            "2023-09-23 11:00:00            NaN           NaN             NaN   \n",
            "2023-09-23 21:00:00            NaN           NaN             NaN   \n",
            "2023-09-27 06:00:00            NaN           NaN             NaN   \n",
            "2023-09-28 07:00:00            NaN           NaN             NaN   \n",
            "2023-09-29 23:00:00            NaN           NaN             NaN   \n",
            "2023-10-14 10:00:00            NaN           NaN             NaN   \n",
            "2023-10-14 13:00:00            NaN           NaN             NaN   \n",
            "2024-05-31 22:00:00            NaN           NaN             NaN   \n",
            "2024-10-26 16:00:00            NaN           NaN             NaN   \n",
            "\n",
            "                     volume_BTC_USDT  ...  KR_CPI_sentiment  JP_CPI  \\\n",
            "2022-12-10 03:00:00              NaN  ...               NaN     NaN   \n",
            "2023-03-04 17:00:00              NaN  ...               NaN     NaN   \n",
            "2023-03-04 18:00:00              NaN  ...               NaN     NaN   \n",
            "2023-03-04 19:00:00              NaN  ...               NaN     NaN   \n",
            "2023-03-04 20:00:00              NaN  ...               NaN     NaN   \n",
            "2023-03-04 21:00:00              NaN  ...               NaN     NaN   \n",
            "2023-04-10 06:00:00              NaN  ...               NaN     NaN   \n",
            "2023-04-29 02:00:00              NaN  ...               NaN     NaN   \n",
            "2023-05-19 08:00:00              NaN  ...               NaN     NaN   \n",
            "2023-05-20 04:00:00              NaN  ...               NaN     NaN   \n",
            "2023-05-25 23:00:00              NaN  ...               NaN     NaN   \n",
            "2023-05-27 03:00:00              NaN  ...               NaN     NaN   \n",
            "2023-06-02 17:00:00              NaN  ...               NaN     NaN   \n",
            "2023-06-03 08:00:00              NaN  ...               NaN     NaN   \n",
            "2023-06-06 06:00:00              NaN  ...               NaN     NaN   \n",
            "2023-08-02 09:00:00              NaN  ...               NaN     NaN   \n",
            "2023-08-12 11:00:00              NaN  ...               NaN     NaN   \n",
            "2023-08-13 09:00:00              NaN  ...               NaN     NaN   \n",
            "2023-08-26 10:00:00              NaN  ...               NaN     NaN   \n",
            "2023-08-30 22:00:00              NaN  ...               NaN     NaN   \n",
            "2023-09-01 02:00:00              NaN  ...               NaN     NaN   \n",
            "2023-09-03 22:00:00              NaN  ...               NaN     NaN   \n",
            "2023-09-04 20:00:00              NaN  ...               NaN     NaN   \n",
            "2023-09-09 06:00:00              NaN  ...               NaN     NaN   \n",
            "2023-09-09 14:00:00              NaN  ...               NaN     NaN   \n",
            "2023-09-09 19:00:00              NaN  ...               NaN     NaN   \n",
            "2023-09-09 20:00:00              NaN  ...               NaN     NaN   \n",
            "2023-09-09 23:00:00              NaN  ...               NaN     NaN   \n",
            "2023-09-17 11:00:00              NaN  ...               NaN     NaN   \n",
            "2023-09-17 14:00:00              NaN  ...               NaN     NaN   \n",
            "2023-09-18 08:00:00              NaN  ...               NaN     NaN   \n",
            "2023-09-20 11:00:00              NaN  ...               NaN     NaN   \n",
            "2023-09-23 08:00:00              NaN  ...               NaN     NaN   \n",
            "2023-09-23 11:00:00              NaN  ...               NaN     NaN   \n",
            "2023-09-23 21:00:00              NaN  ...               NaN     NaN   \n",
            "2023-09-27 06:00:00              NaN  ...               NaN     NaN   \n",
            "2023-09-28 07:00:00              NaN  ...               NaN     NaN   \n",
            "2023-09-29 23:00:00              NaN  ...               NaN     NaN   \n",
            "2023-10-14 10:00:00              NaN  ...               NaN     NaN   \n",
            "2023-10-14 13:00:00              NaN  ...               NaN     NaN   \n",
            "2024-05-31 22:00:00              NaN  ...               NaN     NaN   \n",
            "2024-10-26 16:00:00              NaN  ...               NaN     NaN   \n",
            "\n",
            "                     JP_CPI_zscore  JP_CPI_sentiment  JP_fund_rate  \\\n",
            "2022-12-10 03:00:00            NaN               NaN           NaN   \n",
            "2023-03-04 17:00:00            NaN               NaN           NaN   \n",
            "2023-03-04 18:00:00            NaN               NaN           NaN   \n",
            "2023-03-04 19:00:00            NaN               NaN           NaN   \n",
            "2023-03-04 20:00:00            NaN               NaN           NaN   \n",
            "2023-03-04 21:00:00            NaN               NaN           NaN   \n",
            "2023-04-10 06:00:00            NaN               NaN           NaN   \n",
            "2023-04-29 02:00:00            NaN               NaN           NaN   \n",
            "2023-05-19 08:00:00            NaN               NaN           NaN   \n",
            "2023-05-20 04:00:00            NaN               NaN           NaN   \n",
            "2023-05-25 23:00:00            NaN               NaN           NaN   \n",
            "2023-05-27 03:00:00            NaN               NaN           NaN   \n",
            "2023-06-02 17:00:00            NaN               NaN           NaN   \n",
            "2023-06-03 08:00:00            NaN               NaN           NaN   \n",
            "2023-06-06 06:00:00            NaN               NaN           NaN   \n",
            "2023-08-02 09:00:00            NaN               NaN           NaN   \n",
            "2023-08-12 11:00:00            NaN               NaN           NaN   \n",
            "2023-08-13 09:00:00            NaN               NaN           NaN   \n",
            "2023-08-26 10:00:00            NaN               NaN           NaN   \n",
            "2023-08-30 22:00:00            NaN               NaN           NaN   \n",
            "2023-09-01 02:00:00            NaN               NaN           NaN   \n",
            "2023-09-03 22:00:00            NaN               NaN           NaN   \n",
            "2023-09-04 20:00:00            NaN               NaN           NaN   \n",
            "2023-09-09 06:00:00            NaN               NaN           NaN   \n",
            "2023-09-09 14:00:00            NaN               NaN           NaN   \n",
            "2023-09-09 19:00:00            NaN               NaN           NaN   \n",
            "2023-09-09 20:00:00            NaN               NaN           NaN   \n",
            "2023-09-09 23:00:00            NaN               NaN           NaN   \n",
            "2023-09-17 11:00:00            NaN               NaN           NaN   \n",
            "2023-09-17 14:00:00            NaN               NaN           NaN   \n",
            "2023-09-18 08:00:00            NaN               NaN           NaN   \n",
            "2023-09-20 11:00:00            NaN               NaN           NaN   \n",
            "2023-09-23 08:00:00            NaN               NaN           NaN   \n",
            "2023-09-23 11:00:00            NaN               NaN           NaN   \n",
            "2023-09-23 21:00:00            NaN               NaN           NaN   \n",
            "2023-09-27 06:00:00            NaN               NaN           NaN   \n",
            "2023-09-28 07:00:00            NaN               NaN           NaN   \n",
            "2023-09-29 23:00:00            NaN               NaN           NaN   \n",
            "2023-10-14 10:00:00            NaN               NaN           NaN   \n",
            "2023-10-14 13:00:00            NaN               NaN           NaN   \n",
            "2024-05-31 22:00:00            NaN               NaN           NaN   \n",
            "2024-10-26 16:00:00            NaN               NaN           NaN   \n",
            "\n",
            "                     JP_fund_rate_zscore  JP_fund_rate_sentiment  \\\n",
            "2022-12-10 03:00:00                  NaN                     NaN   \n",
            "2023-03-04 17:00:00                  NaN                     NaN   \n",
            "2023-03-04 18:00:00                  NaN                     NaN   \n",
            "2023-03-04 19:00:00                  NaN                     NaN   \n",
            "2023-03-04 20:00:00                  NaN                     NaN   \n",
            "2023-03-04 21:00:00                  NaN                     NaN   \n",
            "2023-04-10 06:00:00                  NaN                     NaN   \n",
            "2023-04-29 02:00:00                  NaN                     NaN   \n",
            "2023-05-19 08:00:00                  NaN                     NaN   \n",
            "2023-05-20 04:00:00                  NaN                     NaN   \n",
            "2023-05-25 23:00:00                  NaN                     NaN   \n",
            "2023-05-27 03:00:00                  NaN                     NaN   \n",
            "2023-06-02 17:00:00                  NaN                     NaN   \n",
            "2023-06-03 08:00:00                  NaN                     NaN   \n",
            "2023-06-06 06:00:00                  NaN                     NaN   \n",
            "2023-08-02 09:00:00                  NaN                     NaN   \n",
            "2023-08-12 11:00:00                  NaN                     NaN   \n",
            "2023-08-13 09:00:00                  NaN                     NaN   \n",
            "2023-08-26 10:00:00                  NaN                     NaN   \n",
            "2023-08-30 22:00:00                  NaN                     NaN   \n",
            "2023-09-01 02:00:00                  NaN                     NaN   \n",
            "2023-09-03 22:00:00                  NaN                     NaN   \n",
            "2023-09-04 20:00:00                  NaN                     NaN   \n",
            "2023-09-09 06:00:00                  NaN                     NaN   \n",
            "2023-09-09 14:00:00                  NaN                     NaN   \n",
            "2023-09-09 19:00:00                  NaN                     NaN   \n",
            "2023-09-09 20:00:00                  NaN                     NaN   \n",
            "2023-09-09 23:00:00                  NaN                     NaN   \n",
            "2023-09-17 11:00:00                  NaN                     NaN   \n",
            "2023-09-17 14:00:00                  NaN                     NaN   \n",
            "2023-09-18 08:00:00                  NaN                     NaN   \n",
            "2023-09-20 11:00:00                  NaN                     NaN   \n",
            "2023-09-23 08:00:00                  NaN                     NaN   \n",
            "2023-09-23 11:00:00                  NaN                     NaN   \n",
            "2023-09-23 21:00:00                  NaN                     NaN   \n",
            "2023-09-27 06:00:00                  NaN                     NaN   \n",
            "2023-09-28 07:00:00                  NaN                     NaN   \n",
            "2023-09-29 23:00:00                  NaN                     NaN   \n",
            "2023-10-14 10:00:00                  NaN                     NaN   \n",
            "2023-10-14 13:00:00                  NaN                     NaN   \n",
            "2024-05-31 22:00:00                  NaN                     NaN   \n",
            "2024-10-26 16:00:00                  NaN                     NaN   \n",
            "\n",
            "                     JP_unemployment  JP_unemployment_zscore  \\\n",
            "2022-12-10 03:00:00              NaN                     NaN   \n",
            "2023-03-04 17:00:00              NaN                     NaN   \n",
            "2023-03-04 18:00:00              NaN                     NaN   \n",
            "2023-03-04 19:00:00              NaN                     NaN   \n",
            "2023-03-04 20:00:00              NaN                     NaN   \n",
            "2023-03-04 21:00:00              NaN                     NaN   \n",
            "2023-04-10 06:00:00              NaN                     NaN   \n",
            "2023-04-29 02:00:00              NaN                     NaN   \n",
            "2023-05-19 08:00:00              NaN                     NaN   \n",
            "2023-05-20 04:00:00              NaN                     NaN   \n",
            "2023-05-25 23:00:00              NaN                     NaN   \n",
            "2023-05-27 03:00:00              NaN                     NaN   \n",
            "2023-06-02 17:00:00              NaN                     NaN   \n",
            "2023-06-03 08:00:00              NaN                     NaN   \n",
            "2023-06-06 06:00:00              NaN                     NaN   \n",
            "2023-08-02 09:00:00              NaN                     NaN   \n",
            "2023-08-12 11:00:00              NaN                     NaN   \n",
            "2023-08-13 09:00:00              NaN                     NaN   \n",
            "2023-08-26 10:00:00              NaN                     NaN   \n",
            "2023-08-30 22:00:00              NaN                     NaN   \n",
            "2023-09-01 02:00:00              NaN                     NaN   \n",
            "2023-09-03 22:00:00              NaN                     NaN   \n",
            "2023-09-04 20:00:00              NaN                     NaN   \n",
            "2023-09-09 06:00:00              NaN                     NaN   \n",
            "2023-09-09 14:00:00              NaN                     NaN   \n",
            "2023-09-09 19:00:00              NaN                     NaN   \n",
            "2023-09-09 20:00:00              NaN                     NaN   \n",
            "2023-09-09 23:00:00              NaN                     NaN   \n",
            "2023-09-17 11:00:00              NaN                     NaN   \n",
            "2023-09-17 14:00:00              NaN                     NaN   \n",
            "2023-09-18 08:00:00              NaN                     NaN   \n",
            "2023-09-20 11:00:00              NaN                     NaN   \n",
            "2023-09-23 08:00:00              NaN                     NaN   \n",
            "2023-09-23 11:00:00              NaN                     NaN   \n",
            "2023-09-23 21:00:00              NaN                     NaN   \n",
            "2023-09-27 06:00:00              NaN                     NaN   \n",
            "2023-09-28 07:00:00              NaN                     NaN   \n",
            "2023-09-29 23:00:00              NaN                     NaN   \n",
            "2023-10-14 10:00:00              NaN                     NaN   \n",
            "2023-10-14 13:00:00              NaN                     NaN   \n",
            "2024-05-31 22:00:00              NaN                     NaN   \n",
            "2024-10-26 16:00:00              NaN                     NaN   \n",
            "\n",
            "                     JP_unemployment_sentiment  \n",
            "2022-12-10 03:00:00                        NaN  \n",
            "2023-03-04 17:00:00                        NaN  \n",
            "2023-03-04 18:00:00                        NaN  \n",
            "2023-03-04 19:00:00                        NaN  \n",
            "2023-03-04 20:00:00                        NaN  \n",
            "2023-03-04 21:00:00                        NaN  \n",
            "2023-04-10 06:00:00                        NaN  \n",
            "2023-04-29 02:00:00                        NaN  \n",
            "2023-05-19 08:00:00                        NaN  \n",
            "2023-05-20 04:00:00                        NaN  \n",
            "2023-05-25 23:00:00                        NaN  \n",
            "2023-05-27 03:00:00                        NaN  \n",
            "2023-06-02 17:00:00                        NaN  \n",
            "2023-06-03 08:00:00                        NaN  \n",
            "2023-06-06 06:00:00                        NaN  \n",
            "2023-08-02 09:00:00                        NaN  \n",
            "2023-08-12 11:00:00                        NaN  \n",
            "2023-08-13 09:00:00                        NaN  \n",
            "2023-08-26 10:00:00                        NaN  \n",
            "2023-08-30 22:00:00                        NaN  \n",
            "2023-09-01 02:00:00                        NaN  \n",
            "2023-09-03 22:00:00                        NaN  \n",
            "2023-09-04 20:00:00                        NaN  \n",
            "2023-09-09 06:00:00                        NaN  \n",
            "2023-09-09 14:00:00                        NaN  \n",
            "2023-09-09 19:00:00                        NaN  \n",
            "2023-09-09 20:00:00                        NaN  \n",
            "2023-09-09 23:00:00                        NaN  \n",
            "2023-09-17 11:00:00                        NaN  \n",
            "2023-09-17 14:00:00                        NaN  \n",
            "2023-09-18 08:00:00                        NaN  \n",
            "2023-09-20 11:00:00                        NaN  \n",
            "2023-09-23 08:00:00                        NaN  \n",
            "2023-09-23 11:00:00                        NaN  \n",
            "2023-09-23 21:00:00                        NaN  \n",
            "2023-09-27 06:00:00                        NaN  \n",
            "2023-09-28 07:00:00                        NaN  \n",
            "2023-09-29 23:00:00                        NaN  \n",
            "2023-10-14 10:00:00                        NaN  \n",
            "2023-10-14 13:00:00                        NaN  \n",
            "2024-05-31 22:00:00                        NaN  \n",
            "2024-10-26 16:00:00                        NaN  \n",
            "\n",
            "[42 rows x 76 columns]\n"
          ]
        }
      ],
      "source": [
        "df_reindexed = df_clean.reindex(full_idx)\n",
        "print(df_reindexed[df_reindexed.isna().any(axis=1)])\n"
      ]
    },
    {
      "cell_type": "markdown",
      "metadata": {
        "id": "wIRs7fi_CzVk"
      },
      "source": [
        "### Imputasi"
      ]
    },
    {
      "cell_type": "code",
      "execution_count": 23,
      "metadata": {
        "colab": {
          "base_uri": "https://localhost:8080/"
        },
        "id": "DLVr6ajFBClV",
        "outputId": "768c86e6-3fc6-424d-f6e3-0e4be7d49782"
      },
      "outputs": [
        {
          "data": {
            "text/plain": [
              "Index(['open_SOL_USDT', 'high_SOL_USDT', 'low_SOL_USDT', 'close_SOL_USDT',\n",
              "       'volume_SOL_USDT', 'open_BTC_USDT', 'high_BTC_USDT', 'low_BTC_USDT',\n",
              "       'close_BTC_USDT', 'volume_BTC_USDT'],\n",
              "      dtype='object')"
            ]
          },
          "execution_count": 23,
          "metadata": {},
          "output_type": "execute_result"
        }
      ],
      "source": [
        "ohlcv_cols = df_reindexed.columns[:10]\n",
        "ohlcv_cols"
      ]
    },
    {
      "cell_type": "code",
      "execution_count": 24,
      "metadata": {
        "colab": {
          "base_uri": "https://localhost:8080/"
        },
        "id": "la-QvJIjDT16",
        "outputId": "8ed1abc1-3cac-418f-8e44-714f9c6dd2a5"
      },
      "outputs": [
        {
          "data": {
            "text/plain": [
              "Index(['year', 'month', 'day', 'hour', 'day_of_week', 'is_weekend',\n",
              "       'typical_price_SOL_USDT', 'avg_price_SOL_USDT', 'range_SOL_USDT',\n",
              "       'range_pct_SOL_USDT', 'close_change_SOL_USDT',\n",
              "       'close_pct_change_SOL_USDT', 'typical_price_BTC_USDT',\n",
              "       'avg_price_BTC_USDT', 'range_BTC_USDT', 'range_pct_BTC_USDT',\n",
              "       'close_change_BTC_USDT', 'close_pct_change_BTC_USDT', 'US_CPI',\n",
              "       'US_CPI_zscore', 'US_CPI_sentiment', 'US_core_CPI',\n",
              "       'US_core_CPI_zscore', 'US_core_CPI_sentiment', 'US_fed_funds_rate',\n",
              "       'US_fed_funds_rate_zscore', 'US_fed_funds_rate_sentiment',\n",
              "       'US_inflation', 'US_inflation_zscore', 'US_inflation_sentiment',\n",
              "       'US_unemployment', 'US_unemployment_zscore',\n",
              "       'US_unemployment_sentiment', 'US_consumer_sentiment',\n",
              "       'US_consumer_sentiment_zscore', 'US_consumer_sentiment_sentiment',\n",
              "       'UK_CPI', 'UK_CPI_zscore', 'UK_CPI_sentiment', 'UK_unemployment',\n",
              "       'UK_unemployment_zscore', 'UK_unemployment_sentiment', 'DE_CPI',\n",
              "       'DE_CPI_zscore', 'DE_CPI_sentiment', 'DE_unemployment',\n",
              "       'DE_unemployment_zscore', 'DE_unemployment_sentiment', 'FR_CPI',\n",
              "       'FR_CPI_zscore', 'FR_CPI_sentiment', 'CN_CPI', 'CN_CPI_zscore',\n",
              "       'CN_CPI_sentiment', 'KR_CPI', 'KR_CPI_zscore', 'KR_CPI_sentiment',\n",
              "       'JP_CPI', 'JP_CPI_zscore', 'JP_CPI_sentiment', 'JP_fund_rate',\n",
              "       'JP_fund_rate_zscore', 'JP_fund_rate_sentiment', 'JP_unemployment',\n",
              "       'JP_unemployment_zscore', 'JP_unemployment_sentiment'],\n",
              "      dtype='object')"
            ]
          },
          "execution_count": 24,
          "metadata": {},
          "output_type": "execute_result"
        }
      ],
      "source": [
        "exclude_ohlcv_cols = df_reindexed.columns[10:]\n",
        "exclude_ohlcv_cols"
      ]
    },
    {
      "cell_type": "code",
      "execution_count": 25,
      "metadata": {
        "colab": {
          "base_uri": "https://localhost:8080/"
        },
        "id": "qSxFhh-NFHKU",
        "outputId": "69165483-da21-4925-a9ac-b571305da4a9"
      },
      "outputs": [
        {
          "data": {
            "application/vnd.microsoft.datawrangler.viewer.v0+json": {
              "columns": [
                {
                  "name": "index",
                  "rawType": "object",
                  "type": "string"
                },
                {
                  "name": "0",
                  "rawType": "int64",
                  "type": "integer"
                }
              ],
              "ref": "85ef7043-3035-4170-ac53-fd6408922785",
              "rows": [
                [
                  "open_SOL_USDT",
                  "42"
                ],
                [
                  "high_SOL_USDT",
                  "42"
                ],
                [
                  "low_SOL_USDT",
                  "42"
                ],
                [
                  "close_SOL_USDT",
                  "42"
                ],
                [
                  "volume_SOL_USDT",
                  "42"
                ],
                [
                  "open_BTC_USDT",
                  "42"
                ],
                [
                  "high_BTC_USDT",
                  "42"
                ],
                [
                  "low_BTC_USDT",
                  "42"
                ],
                [
                  "close_BTC_USDT",
                  "42"
                ],
                [
                  "volume_BTC_USDT",
                  "42"
                ],
                [
                  "year",
                  "42"
                ],
                [
                  "month",
                  "42"
                ],
                [
                  "day",
                  "42"
                ],
                [
                  "hour",
                  "42"
                ],
                [
                  "day_of_week",
                  "42"
                ],
                [
                  "is_weekend",
                  "42"
                ],
                [
                  "typical_price_SOL_USDT",
                  "42"
                ],
                [
                  "avg_price_SOL_USDT",
                  "42"
                ],
                [
                  "range_SOL_USDT",
                  "42"
                ],
                [
                  "range_pct_SOL_USDT",
                  "42"
                ],
                [
                  "close_change_SOL_USDT",
                  "42"
                ],
                [
                  "close_pct_change_SOL_USDT",
                  "42"
                ],
                [
                  "typical_price_BTC_USDT",
                  "42"
                ],
                [
                  "avg_price_BTC_USDT",
                  "42"
                ],
                [
                  "range_BTC_USDT",
                  "42"
                ],
                [
                  "range_pct_BTC_USDT",
                  "42"
                ],
                [
                  "close_change_BTC_USDT",
                  "42"
                ],
                [
                  "close_pct_change_BTC_USDT",
                  "42"
                ],
                [
                  "US_CPI",
                  "42"
                ],
                [
                  "US_CPI_zscore",
                  "42"
                ],
                [
                  "US_CPI_sentiment",
                  "42"
                ],
                [
                  "US_core_CPI",
                  "42"
                ],
                [
                  "US_core_CPI_zscore",
                  "42"
                ],
                [
                  "US_core_CPI_sentiment",
                  "42"
                ],
                [
                  "US_fed_funds_rate",
                  "42"
                ],
                [
                  "US_fed_funds_rate_zscore",
                  "42"
                ],
                [
                  "US_fed_funds_rate_sentiment",
                  "42"
                ],
                [
                  "US_inflation",
                  "42"
                ],
                [
                  "US_inflation_zscore",
                  "42"
                ],
                [
                  "US_inflation_sentiment",
                  "42"
                ],
                [
                  "US_unemployment",
                  "42"
                ],
                [
                  "US_unemployment_zscore",
                  "42"
                ],
                [
                  "US_unemployment_sentiment",
                  "42"
                ],
                [
                  "US_consumer_sentiment",
                  "42"
                ],
                [
                  "US_consumer_sentiment_zscore",
                  "42"
                ],
                [
                  "US_consumer_sentiment_sentiment",
                  "42"
                ],
                [
                  "UK_CPI",
                  "42"
                ],
                [
                  "UK_CPI_zscore",
                  "42"
                ],
                [
                  "UK_CPI_sentiment",
                  "42"
                ],
                [
                  "UK_unemployment",
                  "42"
                ]
              ],
              "shape": {
                "columns": 1,
                "rows": 76
              }
            },
            "text/plain": [
              "open_SOL_USDT                42\n",
              "high_SOL_USDT                42\n",
              "low_SOL_USDT                 42\n",
              "close_SOL_USDT               42\n",
              "volume_SOL_USDT              42\n",
              "                             ..\n",
              "JP_fund_rate_zscore          42\n",
              "JP_fund_rate_sentiment       42\n",
              "JP_unemployment              42\n",
              "JP_unemployment_zscore       42\n",
              "JP_unemployment_sentiment    42\n",
              "Length: 76, dtype: int64"
            ]
          },
          "execution_count": 25,
          "metadata": {},
          "output_type": "execute_result"
        }
      ],
      "source": [
        "df_reindexed.isna().sum()"
      ]
    },
    {
      "cell_type": "code",
      "execution_count": 26,
      "metadata": {
        "id": "SVLza7ViDlSd"
      },
      "outputs": [],
      "source": [
        "for col in ohlcv_cols:\n",
        "    df_reindexed[col] = df_reindexed[col].interpolate(method='time')\n",
        "\n",
        "for col in exclude_ohlcv_cols:\n",
        "    df_reindexed[col] = df_reindexed[col].ffill()"
      ]
    },
    {
      "cell_type": "code",
      "execution_count": 27,
      "metadata": {
        "colab": {
          "base_uri": "https://localhost:8080/"
        },
        "id": "7yH5_qSZFZVA",
        "outputId": "b1c7415e-1cf9-49bc-8d9e-3b836f8acfa7"
      },
      "outputs": [
        {
          "data": {
            "application/vnd.microsoft.datawrangler.viewer.v0+json": {
              "columns": [
                {
                  "name": "index",
                  "rawType": "object",
                  "type": "string"
                },
                {
                  "name": "0",
                  "rawType": "int64",
                  "type": "integer"
                }
              ],
              "ref": "d4b651c4-efdf-418b-9ea3-c6ac5bc02deb",
              "rows": [
                [
                  "open_SOL_USDT",
                  "0"
                ],
                [
                  "high_SOL_USDT",
                  "0"
                ],
                [
                  "low_SOL_USDT",
                  "0"
                ],
                [
                  "close_SOL_USDT",
                  "0"
                ],
                [
                  "volume_SOL_USDT",
                  "0"
                ],
                [
                  "open_BTC_USDT",
                  "0"
                ],
                [
                  "high_BTC_USDT",
                  "0"
                ],
                [
                  "low_BTC_USDT",
                  "0"
                ],
                [
                  "close_BTC_USDT",
                  "0"
                ],
                [
                  "volume_BTC_USDT",
                  "0"
                ],
                [
                  "year",
                  "0"
                ],
                [
                  "month",
                  "0"
                ],
                [
                  "day",
                  "0"
                ],
                [
                  "hour",
                  "0"
                ],
                [
                  "day_of_week",
                  "0"
                ],
                [
                  "is_weekend",
                  "0"
                ],
                [
                  "typical_price_SOL_USDT",
                  "0"
                ],
                [
                  "avg_price_SOL_USDT",
                  "0"
                ],
                [
                  "range_SOL_USDT",
                  "0"
                ],
                [
                  "range_pct_SOL_USDT",
                  "0"
                ],
                [
                  "close_change_SOL_USDT",
                  "0"
                ],
                [
                  "close_pct_change_SOL_USDT",
                  "0"
                ],
                [
                  "typical_price_BTC_USDT",
                  "0"
                ],
                [
                  "avg_price_BTC_USDT",
                  "0"
                ],
                [
                  "range_BTC_USDT",
                  "0"
                ],
                [
                  "range_pct_BTC_USDT",
                  "0"
                ],
                [
                  "close_change_BTC_USDT",
                  "0"
                ],
                [
                  "close_pct_change_BTC_USDT",
                  "0"
                ],
                [
                  "US_CPI",
                  "0"
                ],
                [
                  "US_CPI_zscore",
                  "0"
                ],
                [
                  "US_CPI_sentiment",
                  "0"
                ],
                [
                  "US_core_CPI",
                  "0"
                ],
                [
                  "US_core_CPI_zscore",
                  "0"
                ],
                [
                  "US_core_CPI_sentiment",
                  "0"
                ],
                [
                  "US_fed_funds_rate",
                  "0"
                ],
                [
                  "US_fed_funds_rate_zscore",
                  "0"
                ],
                [
                  "US_fed_funds_rate_sentiment",
                  "0"
                ],
                [
                  "US_inflation",
                  "0"
                ],
                [
                  "US_inflation_zscore",
                  "0"
                ],
                [
                  "US_inflation_sentiment",
                  "0"
                ],
                [
                  "US_unemployment",
                  "0"
                ],
                [
                  "US_unemployment_zscore",
                  "0"
                ],
                [
                  "US_unemployment_sentiment",
                  "0"
                ],
                [
                  "US_consumer_sentiment",
                  "0"
                ],
                [
                  "US_consumer_sentiment_zscore",
                  "0"
                ],
                [
                  "US_consumer_sentiment_sentiment",
                  "0"
                ],
                [
                  "UK_CPI",
                  "0"
                ],
                [
                  "UK_CPI_zscore",
                  "0"
                ],
                [
                  "UK_CPI_sentiment",
                  "0"
                ],
                [
                  "UK_unemployment",
                  "0"
                ]
              ],
              "shape": {
                "columns": 1,
                "rows": 76
              }
            },
            "text/plain": [
              "open_SOL_USDT                0\n",
              "high_SOL_USDT                0\n",
              "low_SOL_USDT                 0\n",
              "close_SOL_USDT               0\n",
              "volume_SOL_USDT              0\n",
              "                            ..\n",
              "JP_fund_rate_zscore          0\n",
              "JP_fund_rate_sentiment       0\n",
              "JP_unemployment              0\n",
              "JP_unemployment_zscore       0\n",
              "JP_unemployment_sentiment    0\n",
              "Length: 76, dtype: int64"
            ]
          },
          "execution_count": 27,
          "metadata": {},
          "output_type": "execute_result"
        }
      ],
      "source": [
        "df_reindexed.isna().sum()"
      ]
    },
    {
      "cell_type": "code",
      "execution_count": 28,
      "metadata": {
        "id": "DfppR4-oKrMM"
      },
      "outputs": [],
      "source": [
        "df = df_reindexed"
      ]
    },
    {
      "cell_type": "markdown",
      "metadata": {
        "id": "OoBWVe76GGCw"
      },
      "source": [
        "### **More Visualize**"
      ]
    },
    {
      "cell_type": "code",
      "execution_count": 29,
      "metadata": {
        "id": "oS2UUdnlGQsM"
      },
      "outputs": [],
      "source": [
        "df_r = df_reindexed.copy()"
      ]
    },
    {
      "cell_type": "markdown",
      "metadata": {
        "id": "nw5t-yhuHoDt"
      },
      "source": [
        "#### CPI"
      ]
    },
    {
      "cell_type": "markdown",
      "metadata": {
        "id": "tYla67LiHxn8"
      },
      "source": [
        "##### US"
      ]
    },
    {
      "cell_type": "code",
      "execution_count": 30,
      "metadata": {
        "colab": {
          "base_uri": "https://localhost:8080/"
        },
        "id": "rX_4GdihGufY",
        "outputId": "3b2ed69b-1c75-463c-8766-92afeff4914c"
      },
      "outputs": [
        {
          "data": {
            "text/plain": [
              "<Axes: >"
            ]
          },
          "execution_count": 30,
          "metadata": {},
          "output_type": "execute_result"
        },
        {
          "data": {
            "image/png": "[encoded data removed]",
            "text/plain": [
              "<Figure size 1500x600 with 1 Axes>"
            ]
          },
          "metadata": {},
          "output_type": "display_data"
        }
      ],
      "source": [
        "df['US_CPI'].plot(figsize=(15, 6))"
      ]
    },
    {
      "cell_type": "markdown",
      "metadata": {
        "id": "ib9n6c5bH6bH"
      },
      "source": [
        "##### UK"
      ]
    },
    {
      "cell_type": "code",
      "execution_count": 31,
      "metadata": {
        "colab": {
          "base_uri": "https://localhost:8080/"
        },
        "id": "37Q4kOkNIn6H",
        "outputId": "07cbb528-38a8-4582-9c61-6698d920db61"
      },
      "outputs": [
        {
          "data": {
            "text/plain": [
              "<Axes: >"
            ]
          },
          "execution_count": 31,
          "metadata": {},
          "output_type": "execute_result"
        },
        {
          "data": {
            "image/png": "[encoded data removed]",
            "text/plain": [
              "<Figure size 1500x600 with 1 Axes>"
            ]
          },
          "metadata": {},
          "output_type": "display_data"
        }
      ],
      "source": [
        "df['UK_CPI'].plot(figsize=(15, 6))"
      ]
    },
    {
      "cell_type": "markdown",
      "metadata": {
        "id": "P3hnouJgIGe0"
      },
      "source": [
        "##### DE"
      ]
    },
    {
      "cell_type": "code",
      "execution_count": 32,
      "metadata": {
        "colab": {
          "base_uri": "https://localhost:8080/"
        },
        "id": "V2SNSDO_IsDj",
        "outputId": "2b4fa493-0eba-4902-98d6-3de1661b79c8"
      },
      "outputs": [
        {
          "data": {
            "text/plain": [
              "<Axes: >"
            ]
          },
          "execution_count": 32,
          "metadata": {},
          "output_type": "execute_result"
        },
        {
          "data": {
            "image/png": "[encoded data removed]",
            "text/plain": [
              "<Figure size 1500x600 with 1 Axes>"
            ]
          },
          "metadata": {},
          "output_type": "display_data"
        }
      ],
      "source": [
        "df['DE_CPI'].plot(figsize=(15, 6))"
      ]
    },
    {
      "cell_type": "markdown",
      "metadata": {
        "id": "nSSxuWMVIHar"
      },
      "source": [
        "##### KR"
      ]
    },
    {
      "cell_type": "code",
      "execution_count": 33,
      "metadata": {
        "colab": {
          "base_uri": "https://localhost:8080/"
        },
        "id": "ZoedmaaxIyt1",
        "outputId": "a9655a4c-0cfe-4f1e-9f1c-a19c1e7672ba"
      },
      "outputs": [
        {
          "data": {
            "text/plain": [
              "<Axes: >"
            ]
          },
          "execution_count": 33,
          "metadata": {},
          "output_type": "execute_result"
        },
        {
          "data": {
            "image/png": "[encoded data removed]",
            "text/plain": [
              "<Figure size 1500x600 with 1 Axes>"
            ]
          },
          "metadata": {},
          "output_type": "display_data"
        }
      ],
      "source": [
        "df['KR_CPI'].plot(figsize=(15, 6))"
      ]
    },
    {
      "cell_type": "markdown",
      "metadata": {
        "id": "XT6Q34-WIH-F"
      },
      "source": [
        "##### CN"
      ]
    },
    {
      "cell_type": "code",
      "execution_count": 34,
      "metadata": {
        "colab": {
          "base_uri": "https://localhost:8080/"
        },
        "id": "vU8YfdwJMb7R",
        "outputId": "29241920-fbff-4809-91f0-7de304cb4dd2"
      },
      "outputs": [
        {
          "data": {
            "text/plain": [
              "<Axes: >"
            ]
          },
          "execution_count": 34,
          "metadata": {},
          "output_type": "execute_result"
        },
        {
          "data": {
            "image/png": "[encoded data removed]",
            "text/plain": [
              "<Figure size 1500x600 with 1 Axes>"
            ]
          },
          "metadata": {},
          "output_type": "display_data"
        }
      ],
      "source": [
        "df['CN_CPI'].plot(figsize=(15, 6))"
      ]
    },
    {
      "cell_type": "markdown",
      "metadata": {
        "id": "larstiL0ISMx"
      },
      "source": [
        "##### FR"
      ]
    },
    {
      "cell_type": "code",
      "execution_count": 35,
      "metadata": {
        "colab": {
          "base_uri": "https://localhost:8080/"
        },
        "id": "bSg2uQ2hMeEa",
        "outputId": "df8a2310-313b-42fa-dd21-938cd3bf84af"
      },
      "outputs": [
        {
          "data": {
            "text/plain": [
              "<Axes: >"
            ]
          },
          "execution_count": 35,
          "metadata": {},
          "output_type": "execute_result"
        },
        {
          "data": {
            "image/png": "[encoded data removed]",
            "text/plain": [
              "<Figure size 1500x600 with 1 Axes>"
            ]
          },
          "metadata": {},
          "output_type": "display_data"
        }
      ],
      "source": [
        "df['FR_CPI'].plot(figsize=(15, 6))"
      ]
    },
    {
      "cell_type": "markdown",
      "metadata": {
        "id": "-bhA1_KyISp8"
      },
      "source": [
        "##### JP"
      ]
    },
    {
      "cell_type": "code",
      "execution_count": 36,
      "metadata": {
        "colab": {
          "base_uri": "https://localhost:8080/"
        },
        "id": "BIDFql7yMoeB",
        "outputId": "393a4fe4-3848-48d9-f83c-76e1ce339132"
      },
      "outputs": [
        {
          "data": {
            "text/plain": [
              "<Axes: >"
            ]
          },
          "execution_count": 36,
          "metadata": {},
          "output_type": "execute_result"
        },
        {
          "data": {
            "image/png": "[encoded data removed]",
            "text/plain": [
              "<Figure size 1500x600 with 1 Axes>"
            ]
          },
          "metadata": {},
          "output_type": "display_data"
        }
      ],
      "source": [
        "df['JP_CPI'].plot(figsize=(15, 6))"
      ]
    },
    {
      "cell_type": "markdown",
      "metadata": {
        "id": "7AElj3HNITV9"
      },
      "source": [
        "#####"
      ]
    },
    {
      "cell_type": "markdown",
      "metadata": {
        "id": "4TfHtgMyR5Rd"
      },
      "source": []
    },
    {
      "cell_type": "markdown",
      "metadata": {
        "id": "jLTxnPzCIUDz"
      },
      "source": []
    },
    {
      "cell_type": "markdown",
      "metadata": {
        "id": "xFRVJ58n5L7G"
      },
      "source": [
        "## **Features Engineering and Features Selection**"
      ]
    },
    {
      "cell_type": "markdown",
      "metadata": {
        "id": "HtjK7BEAlpHg"
      },
      "source": [
        "### **Load Data**"
      ]
    },
    {
      "cell_type": "code",
      "execution_count": 40,
      "metadata": {
        "id": "w3INR6Dflw_z"
      },
      "outputs": [
        {
          "name": "stdout",
          "output_type": "stream",
          "text": [
            "\n",
            "Dataset Information:\n",
            "Shape: (34599, 76)\n",
            "Date Range: 2021-06-25 00:00:00 to 2025-06-05 14:00:00\n",
            "Total Trading Days: 34599\n"
          ]
        }
      ],
      "source": [
        "df = df_reindexed.copy()\n",
        "\n",
        "print(\"\\nDataset Information:\")\n",
        "print(f\"Shape: {df.shape}\")\n",
        "print(f\"Date Range: {df.index.min()} to {df.index.max()}\")\n",
        "print(f\"Total Trading Days: {len(df)}\")"
      ]
    },
    {
      "cell_type": "markdown",
      "metadata": {
        "id": "LMJtTKOKlvT8"
      },
      "source": [
        "### **Features Engineering**"
      ]
    },
    {
      "cell_type": "code",
      "execution_count": 41,
      "metadata": {
        "id": "sVNOzAD65WxY"
      },
      "outputs": [
        {
          "name": "stdout",
          "output_type": "stream",
          "text": [
            "Adding lag features...\n",
            "\n",
            "Adding technical indicators...\n",
            "Adding rolling window features...\n",
            "\n",
            "Missing Value: 0\n",
            "Rows dropped due to NaN: 0\n",
            "Final dataset shape: (34598, 212)\n"
          ]
        }
      ],
      "source": [
        "def add_technical_indicators(df, price_col='close_SOL_USDT'):\n",
        "    high = df['high_SOL_USDT']\n",
        "    low = df['low_SOL_USDT']\n",
        "    close = df[price_col]\n",
        "    volume = df['volume_SOL_USDT']\n",
        "\n",
        "    df['MA_7'] = ta.trend.sma_indicator(close, window=7)\n",
        "    df['MA_14'] = ta.trend.sma_indicator(close, window=14)\n",
        "    df['MA_21'] = ta.trend.sma_indicator(close, window=21)\n",
        "    df['MA_50'] = ta.trend.sma_indicator(close, window=50)\n",
        "\n",
        "    df['EMA_9'] = ta.trend.ema_indicator(close, window=9)\n",
        "    df['EMA_12'] = ta.trend.ema_indicator(close, window=12)\n",
        "    df['EMA_26'] = ta.trend.ema_indicator(close, window=26)\n",
        "\n",
        "    bb = ta.volatility.BollingerBands(close, window=20)\n",
        "    df['BB_upper'] = bb.bollinger_hband()\n",
        "    df['BB_middle'] = bb.bollinger_mavg()\n",
        "    df['BB_lower'] = bb.bollinger_lband()\n",
        "    df['BB_width'] = df['BB_upper'] - df['BB_lower']\n",
        "    df['BB_position'] = (close - df['BB_lower']) / (df['BB_upper'] - df['BB_lower'])\n",
        "\n",
        "    df['RSI_14'] = ta.momentum.rsi(close, window=14)\n",
        "    df['RSI_7'] = ta.momentum.rsi(close, window=7)\n",
        "\n",
        "    macd = ta.trend.MACD(close)\n",
        "    df['MACD'] = macd.macd()\n",
        "    df['MACD_signal'] = macd.macd_signal()\n",
        "    df['MACD_hist'] = macd.macd_diff()\n",
        "\n",
        "    stoch = ta.momentum.StochasticOscillator(high, low, close)\n",
        "    df['STOCH_K'] = stoch.stoch()\n",
        "    df['STOCH_D'] = stoch.stoch_signal()\n",
        "\n",
        "    df['MFI'] = ta.volume.money_flow_index(high, low, close, volume, window=14)\n",
        "\n",
        "    df['OBV'] = ta.volume.on_balance_volume(close, volume)\n",
        "\n",
        "    df['VWAP'] = (volume * df['typical_price_SOL_USDT']).rolling(20).sum() / \\\n",
        "                  volume.rolling(20).sum()\n",
        "\n",
        "    df['hour_sin'] = np.sin(2 * np.pi * df.index.hour / 24)\n",
        "    df['hour_cos'] = np.cos(2 * np.pi * df.index.hour / 24)\n",
        "    df['day_sin'] = np.sin(2 * np.pi * df.index.dayofweek / 7)\n",
        "    df['day_cos'] = np.cos(2 * np.pi * df.index.dayofweek / 7)\n",
        "    df['month_sin'] = np.sin(2 * np.pi * df.index.month / 12)\n",
        "    df['month_cos'] = np.cos(2 * np.pi * df.index.month / 12)\n",
        "    df['day_of_week_sin'] = np.sin(df['day_of_week'] * (2 * np.pi / 7))\n",
        "    df['day_of_week_cos'] = np.cos(df['day_of_week'] * (2 * np.pi / 7))\n",
        "\n",
        "    return df\n",
        "\n",
        "def add_lag_features(df):\n",
        "    for col in ['close_SOL_USDT', 'volume_SOL_USDT', 'close_BTC_USDT']:\n",
        "        for lag in range(1, 25):\n",
        "            df[f'{col}_lag_{lag}'] = df[col].shift(lag)\n",
        "    return df\n",
        "\n",
        "def add_rolling_features(df, columns, windows=[6, 12, 18, 24]):\n",
        "    df = df.copy().iloc[1:]\n",
        "    for col in columns:\n",
        "        for window in windows:\n",
        "            df[f'{col}_rolling_mean_{window}'] = df[col].rolling(window).mean()\n",
        "            df[f'{col}_rolling_std_{window}'] = df[col].rolling(window).std()\n",
        "            df[f'{col}_rolling_min_{window}'] = df[col].rolling(window).min()\n",
        "            df[f'{col}_rolling_max_{window}'] = df[col].rolling(window).max()\n",
        "    return df\n",
        "\n",
        "\n",
        "print(\"Adding lag features...\")\n",
        "df = add_lag_features(df)\n",
        "\n",
        "print(\"\\nAdding technical indicators...\")\n",
        "df = add_technical_indicators(df)\n",
        "\n",
        "print(\"Adding rolling window features...\")\n",
        "df = add_rolling_features(df, ['close_SOL_USDT', 'volume_SOL_USDT'])\n",
        "\n",
        "df['SOL_BTC_ratio'] = df['close_SOL_USDT'] / df['close_BTC_USDT']\n",
        "df['volume_ratio'] = df['volume_SOL_USDT'] / df['volume_SOL_USDT'].rolling(20).mean()\n",
        "\n",
        "initial_rows = len(df)\n",
        "df = df.ffill().bfill()\n",
        "print(f\"\\nMissing Value: {df.isna().sum().sum()}\")\n",
        "print(f\"Rows dropped due to NaN: {initial_rows - len(df)}\")\n",
        "print(f\"Final dataset shape: {df.shape}\")"
      ]
    },
    {
      "cell_type": "markdown",
      "metadata": {
        "id": "NzWueCWHlvkx"
      },
      "source": [
        "### **Features Selection**"
      ]
    },
    {
      "cell_type": "code",
      "execution_count": null,
      "metadata": {
        "id": "-sy1P1e5lrBY"
      },
      "outputs": [],
      "source": [
        "# def feature_selection(df, target='close_SOL_USDT', n_top_features=80):\n",
        "#     print(\"\\nMelakukan feature selection...\")\n",
        "\n",
        "#     correlation = df.corr()[target].sort_values(ascending=False)\n",
        "#     top_correlated = correlation.drop(target)\n",
        "\n",
        "#     plt.figure(figsize=(12, 8))\n",
        "#     top_correlated[:50].plot(kind='bar')\n",
        "#     plt.title(f'Top 20 Features Berkorelasi dengan {target}')\n",
        "#     plt.tight_layout()\n",
        "#     plt.show()\n",
        "#     plt.close()\n",
        "\n",
        "#     selected_features = list(top_correlated[:n_top_features].index)\n",
        "\n",
        "#     print(f\"Jumlah fitur yang dipilih: {len(selected_features)}\")\n",
        "\n",
        "#     plt.figure(figsize=(16, 14))\n",
        "#     selected_corr = df[selected_features + [target]].corr()\n",
        "#     mask = np.triu(np.ones_like(selected_corr, dtype=bool))\n",
        "#     sns.heatmap(selected_corr, mask=mask, annot=False, cmap='coolwarm',\n",
        "#                 center=0, linewidths=0.5, cbar_kws={\"shrink\": .8})\n",
        "#     plt.title('Correlation Heatmap untuk Fitur Terpilih')\n",
        "#     plt.tight_layout()\n",
        "#     plt.show()\n",
        "#     plt.close()\n",
        "\n",
        "#     return selected_features"
      ]
    },
    {
      "cell_type": "markdown",
      "metadata": {
        "id": "ZCrxxkpRjPLJ"
      },
      "source": [
        "## **Data Preparation and Scaling**"
      ]
    },
    {
      "cell_type": "markdown",
      "metadata": {},
      "source": [
        "### **Data Split**"
      ]
    },
    {
      "cell_type": "code",
      "execution_count": 43,
      "metadata": {
        "id": "QZ0-kwBxlWL-"
      },
      "outputs": [
        {
          "name": "stdout",
          "output_type": "stream",
          "text": [
            "\n",
            "Data Split Summary:\n",
            "Training set: 24218 samples (70.0%)\n",
            "Validation set: 5189 samples (15.0%)\n",
            "Test set: 5191 samples (15.0%)\n",
            "\n",
            "Date Ranges:\n",
            "Training: 2021-06-25 01:00:00 to 2024-03-30 02:00:00\n",
            "Validation: 2024-03-30 03:00:00 to 2024-11-01 07:00:00\n",
            "Test: 2024-11-01 08:00:00 to 2025-06-05 14:00:00\n"
          ]
        },
        {
          "data": {
            "image/png": "[encoded data removed]",
            "text/plain": [
              "<Figure size 1500x1000 with 2 Axes>"
            ]
          },
          "metadata": {},
          "output_type": "display_data"
        }
      ],
      "source": [
        "n_samples = len(df)\n",
        "train_size = int(0.70 * n_samples)\n",
        "val_size = int(0.15 * n_samples)\n",
        "test_size = n_samples - train_size - val_size\n",
        "\n",
        "train_data = df.iloc[:train_size]\n",
        "val_data = df.iloc[train_size:train_size + val_size]\n",
        "test_data = df.iloc[train_size + val_size:]\n",
        "\n",
        "print(f\"\\nData Split Summary:\")\n",
        "print(f\"Training set: {len(train_data)} samples ({len(train_data)/n_samples*100:.1f}%)\")\n",
        "print(f\"Validation set: {len(val_data)} samples ({len(val_data)/n_samples*100:.1f}%)\")\n",
        "print(f\"Test set: {len(test_data)} samples ({len(test_data)/n_samples*100:.1f}%)\")\n",
        "print(f\"\\nDate Ranges:\")\n",
        "print(f\"Training: {train_data.index[0]} to {train_data.index[-1]}\")\n",
        "print(f\"Validation: {val_data.index[0]} to {val_data.index[-1]}\")\n",
        "print(f\"Test: {test_data.index[0]} to {test_data.index[-1]}\")\n",
        "\n",
        "fig, (ax1, ax2) = plt.subplots(2, 1, figsize=(15, 10))\n",
        "\n",
        "ax1.plot(train_data.index, train_data['close_SOL_USDT'], label='Training', alpha=0.8)\n",
        "ax1.plot(val_data.index, val_data['close_SOL_USDT'], label='Validation', alpha=0.8)\n",
        "ax1.plot(test_data.index, test_data['close_SOL_USDT'], label='Test', alpha=0.8)\n",
        "ax1.axvline(x=train_data.index[-1], color='red', linestyle='--', alpha=0.5)\n",
        "ax1.axvline(x=val_data.index[-1], color='red', linestyle='--', alpha=0.5)\n",
        "ax1.set_title('Solana Price - Data Split Visualization', fontsize=14)\n",
        "ax1.set_ylabel('Price (USDT)', fontsize=12)\n",
        "ax1.legend()\n",
        "ax1.grid(True, alpha=0.3)\n",
        "\n",
        "ax2.bar(train_data.index, train_data['volume_SOL_USDT'], label='Training', alpha=0.6)\n",
        "ax2.bar(val_data.index, val_data['volume_SOL_USDT'], label='Validation', alpha=0.6)\n",
        "ax2.bar(test_data.index, test_data['volume_SOL_USDT'], label='Test', alpha=0.6)\n",
        "ax2.axvline(x=train_data.index[-1], color='red', linestyle='--', alpha=0.5)\n",
        "ax2.axvline(x=val_data.index[-1], color='red', linestyle='--', alpha=0.5)\n",
        "ax2.set_title('Solana Volume - Data Split Visualization', fontsize=14)\n",
        "ax2.set_ylabel('Volume', fontsize=12)\n",
        "ax2.set_xlabel('Date', fontsize=12)\n",
        "ax2.legend()\n",
        "ax2.grid(True, alpha=0.3)\n",
        "\n",
        "plt.tight_layout()\n",
        "plt.show()"
      ]
    },
    {
      "cell_type": "markdown",
      "metadata": {},
      "source": [
        "### **Features Scaling**"
      ]
    },
    {
      "cell_type": "code",
      "execution_count": 44,
      "metadata": {},
      "outputs": [
        {
          "name": "stdout",
          "output_type": "stream",
          "text": [
            "Scaled feature shape: (24218, 211)\n",
            "Feature scaling range: [0.0000, 1.0000]\n"
          ]
        }
      ],
      "source": [
        "target_col = 'close_SOL_USDT'\n",
        "feature_cols = [col for col in df.columns if col != target_col]\n",
        "\n",
        "X_train = train_data[feature_cols]\n",
        "y_train = train_data[target_col]\n",
        "X_val = val_data[feature_cols]\n",
        "y_val = val_data[target_col]\n",
        "X_test = test_data[feature_cols]\n",
        "y_test = test_data[target_col]\n",
        "\n",
        "scaler_X = MinMaxScaler()\n",
        "scaler_y = MinMaxScaler()\n",
        "\n",
        "X_train_scaled = scaler_X.fit_transform(X_train)\n",
        "y_train_scaled = scaler_y.fit_transform(y_train.values.reshape(-1, 1)).ravel()\n",
        "\n",
        "X_val_scaled = scaler_X.transform(X_val)\n",
        "y_val_scaled = scaler_y.transform(y_val.values.reshape(-1, 1)).ravel()\n",
        "\n",
        "X_test_scaled = scaler_X.transform(X_test)\n",
        "y_test_scaled = scaler_y.transform(y_test.values.reshape(-1, 1)).ravel()\n",
        "\n",
        "print(f\"Scaled feature shape: {X_train_scaled.shape}\")\n",
        "print(f\"Feature scaling range: [{X_train_scaled.min():.4f}, {X_train_scaled.max():.4f}]\")"
      ]
    },
    {
      "cell_type": "markdown",
      "metadata": {},
      "source": [
        "### **Technical Analysis Visualization**"
      ]
    },
    {
      "cell_type": "code",
      "execution_count": 50,
      "metadata": {},
      "outputs": [
        {
          "name": "stdout",
          "output_type": "stream",
          "text": [
            "Defaulting to user installation because normal site-packages is not writeable\n",
            "Requirement already satisfied: nbformat in c:\\users\\iqbal firmansyah\\appdata\\roaming\\python\\python313\\site-packages (4.2.0)\n",
            "Collecting nbformat\n",
            "  Using cached nbformat-5.10.4-py3-none-any.whl.metadata (3.6 kB)\n",
            "Requirement already satisfied: fastjsonschema>=2.15 in c:\\users\\iqbal firmansyah\\appdata\\roaming\\python\\python313\\site-packages (from nbformat) (2.21.1)\n",
            "Requirement already satisfied: jsonschema>=2.6 in c:\\users\\iqbal firmansyah\\appdata\\roaming\\python\\python313\\site-packages (from nbformat) (4.24.0)\n",
            "Requirement already satisfied: jupyter-core!=5.0.*,>=4.12 in c:\\users\\iqbal firmansyah\\appdata\\roaming\\python\\python313\\site-packages (from nbformat) (5.8.1)\n",
            "Requirement already satisfied: traitlets>=5.1 in c:\\users\\iqbal firmansyah\\appdata\\roaming\\python\\python313\\site-packages (from nbformat) (5.14.3)\n",
            "Requirement already satisfied: attrs>=22.2.0 in c:\\users\\iqbal firmansyah\\appdata\\roaming\\python\\python313\\site-packages (from jsonschema>=2.6->nbformat) (25.3.0)\n",
            "Requirement already satisfied: jsonschema-specifications>=2023.03.6 in c:\\users\\iqbal firmansyah\\appdata\\roaming\\python\\python313\\site-packages (from jsonschema>=2.6->nbformat) (2025.4.1)\n",
            "Requirement already satisfied: referencing>=0.28.4 in c:\\users\\iqbal firmansyah\\appdata\\roaming\\python\\python313\\site-packages (from jsonschema>=2.6->nbformat) (0.36.2)\n",
            "Requirement already satisfied: rpds-py>=0.7.1 in c:\\users\\iqbal firmansyah\\appdata\\roaming\\python\\python313\\site-packages (from jsonschema>=2.6->nbformat) (0.25.1)\n",
            "Requirement already satisfied: platformdirs>=2.5 in c:\\users\\iqbal firmansyah\\appdata\\roaming\\python\\python313\\site-packages (from jupyter-core!=5.0.*,>=4.12->nbformat) (4.3.8)\n",
            "Requirement already satisfied: pywin32>=300 in c:\\users\\iqbal firmansyah\\appdata\\roaming\\python\\python313\\site-packages (from jupyter-core!=5.0.*,>=4.12->nbformat) (310)\n",
            "Using cached nbformat-5.10.4-py3-none-any.whl (78 kB)\n",
            "Installing collected packages: nbformat\n",
            "  Attempting uninstall: nbformat\n",
            "    Found existing installation: nbformat 4.2.0\n",
            "    Uninstalling nbformat-4.2.0:\n",
            "      Successfully uninstalled nbformat-4.2.0\n",
            "Successfully installed nbformat-5.10.4\n"
          ]
        }
      ],
      "source": [
        "!pip install --upgrade nbformat"
      ]
    },
    {
      "cell_type": "code",
      "execution_count": null,
      "metadata": {},
      "outputs": [],
      "source": [
        "fig = make_subplots(rows=4, cols=1,\n",
        "                    shared_xaxes=True,\n",
        "                    vertical_spacing=0.05,\n",
        "                    subplot_titles=('Price with MA & EMA', 'Bollinger Bands', 'RSI', 'MACD'),\n",
        "                    row_heights=[0.4, 0.3, 0.15, 0.15])\n",
        "\n",
        "fig.add_trace(go.Candlestick(x=df.index[-500:],\n",
        "                              open=df['open_SOL_USDT'][-500:],\n",
        "                              high=df['high_SOL_USDT'][-500:],\n",
        "                              low=df['low_SOL_USDT'][-500:],\n",
        "                              close=df['close_SOL_USDT'][-500:],\n",
        "                              name='Price'), row=1, col=1)\n",
        "\n",
        "fig.add_trace(go.Scatter(x=df.index[-500:], y=df['MA_7'][-500:],\n",
        "                         name='MA 7', line=dict(width=1)), row=1, col=1)\n",
        "fig.add_trace(go.Scatter(x=df.index[-500:], y=df['MA_21'][-500:],\n",
        "                         name='MA 21', line=dict(width=1)), row=1, col=1)\n",
        "fig.add_trace(go.Scatter(x=df.index[-500:], y=df['EMA_9'][-500:],\n",
        "                         name='EMA 9', line=dict(width=1, dash='dash')), row=1, col=1)\n",
        "fig.add_trace(go.Scatter(x=df.index[-500:], y=df['EMA_26'][-500:],\n",
        "                         name='EMA 26', line=dict(width=1, dash='dash')), row=1, col=1)\n",
        "\n",
        "fig.add_trace(go.Scatter(x=df.index[-500:], y=df['close_SOL_USDT'][-500:],\n",
        "                         name='Price', line=dict(color='black', width=2)), row=2, col=1)\n",
        "fig.add_trace(go.Scatter(x=df.index[-500:], y=df['BB_upper'][-500:],\n",
        "                         name='BB Upper', line=dict(width=1)), row=2, col=1)\n",
        "fig.add_trace(go.Scatter(x=df.index[-500:], y=df['BB_middle'][-500:],\n",
        "                         name='BB Middle', line=dict(width=1, dash='dash')), row=2, col=1)\n",
        "fig.add_trace(go.Scatter(x=df.index[-500:], y=df['BB_lower'][-500:],\n",
        "                         name='BB Lower', line=dict(width=1)), row=2, col=1)\n",
        "\n",
        "fig.add_trace(go.Scatter(x=df.index[-500:], y=df['RSI_14'][-500:],\n",
        "                         name='RSI 14', line=dict(color='purple')), row=3, col=1)\n",
        "fig.add_hline(y=70, line_dash=\"dash\", line_color=\"red\", row=3, col=1)\n",
        "fig.add_hline(y=30, line_dash=\"dash\", line_color=\"green\", row=3, col=1)\n",
        "\n",
        "fig.add_trace(go.Scatter(x=df.index[-500:], y=df['MACD'][-500:],\n",
        "                         name='MACD', line=dict(color='blue')), row=4, col=1)\n",
        "fig.add_trace(go.Scatter(x=df.index[-500:], y=df['MACD_signal'][-500:],\n",
        "                         name='Signal', line=dict(color='red')), row=4, col=1)\n",
        "fig.add_trace(go.Bar(x=df.index[-500:], y=df['MACD_hist'][-500:],\n",
        "                     name='Histogram'), row=4, col=1)\n",
        "\n",
        "fig.update_layout(height=1200, title_text=\"Solana Technical Analysis Dashboard\", showlegend=True)\n",
        "fig.update_xaxes(title_text=\"Date\", row=4, col=1)\n",
        "fig.update_yaxes(title_text=\"Price (USDT)\", row=1, col=1)\n",
        "fig.update_yaxes(title_text=\"Price (USDT)\", row=2, col=1)\n",
        "fig.update_yaxes(title_text=\"RSI\", row=3, col=1)\n",
        "fig.update_yaxes(title_text=\"MACD\", row=4, col=1)\n",
        "\n",
        "fig.show()"
      ]
    },
    {
      "cell_type": "markdown",
      "metadata": {
        "id": "zIrWJ1HmdrYd"
      },
      "source": [
        "## **Training, Test, and Hyperparameter Tuning**"
      ]
    },
    {
      "cell_type": "markdown",
      "metadata": {},
      "source": [
        "### **XGBoost Modeling**"
      ]
    },
    {
      "cell_type": "markdown",
      "metadata": {
        "id": "e0AbwsGPjPRK"
      },
      "source": [
        "#### **Hyperparameteres and Tuning Using RandomizedSearchCV**"
      ]
    },
    {
      "cell_type": "code",
      "execution_count": null,
      "metadata": {
        "id": "XiKw1OwPpPbk"
      },
      "outputs": [],
      "source": [
        "\n",
        "xgb_param_grid = {\n",
        "    'booster': ['dart'],\n",
        "    'n_estimators': [100, 200, 300],\n",
        "    'max_depth': [5, 6, 9, 10],\n",
        "    'learning_rate': [0.001, 0.002, 0.01],\n",
        "    'subsample': [0.6, 0.8, 1.0],\n",
        "    'colsample_bytree': [0.6, 0.8, 1.0],\n",
        "    'gamma': [0.3, 0.7, 1],\n",
        "    'min_child_weight': [1, 3, 5, 7],\n",
        "    'reg_alpha': [0.3, 0.7, 1, 2],\n",
        "    'reg_lambda': [0.3, 0.7, 1, 2],\n",
        "    'rate_drop': [0, 0.1, 0.2, 0.3],\n",
        "    'skip_drop': [0, 0.1, 0.2]\n",
        "}\n",
        "\n",
        "xgb_model = xgb.XGBRegressor(objective='reg:squarederror', random_state=9001)\n",
        "\n",
        "print(\"Performing Randomized Search for XGBoost...\")\n",
        "xgb_random = RandomizedSearchCV(xgb_model, xgb_param_grid, n_iter=50, cv=tscv,\n",
        "                                scoring='neg_mean_squared_error', n_jobs=-1,\n",
        "                                verbose=1, random_state=42)\n",
        "xgb_random.fit(X_train_scaled, y_train_scaled)\n",
        "\n",
        "print(f\"\\nBest XGBoost parameters: {xgb_random.best_params_}\")\n",
        "print(f\"Best XGBoost score: {-xgb_random.best_score_:.6f}\")\n",
        "\n",
        "best_xgb = xgb_random.best_estimator_"
      ]
    },
    {
      "cell_type": "markdown",
      "metadata": {},
      "source": [
        "#### **Shapley Additive Explanations (SHAP)**"
      ]
    },
    {
      "cell_type": "code",
      "execution_count": null,
      "metadata": {},
      "outputs": [],
      "source": [
        "print(\"\\n--- SHAP Analysis for XGBoost ---\")\n",
        "\n",
        "explainer_xgb = shap.TreeExplainer(best_xgb)\n",
        "\n",
        "sample_size = min(1000, len(X_train_scaled))\n",
        "sample_indices = np.random.choice(len(X_train_scaled), sample_size, replace=False)\n",
        "X_train_sample = X_train_scaled[sample_indices]\n",
        "\n",
        "print(f\"Calculating SHAP values for {sample_size} training samples...\")\n",
        "shap_values_xgb = explainer_xgb.shap_values(X_train_sample)\n",
        "\n",
        "shap_df_xgb = pd.DataFrame(shap_values_xgb, columns=feature_cols)\n",
        "\n",
        "mean_abs_shap_xgb = np.abs(shap_df_xgb).mean().sort_values(ascending=False)"
      ]
    },
    {
      "cell_type": "markdown",
      "metadata": {},
      "source": [
        "### **SVR Modeling**"
      ]
    },
    {
      "cell_type": "markdown",
      "metadata": {
        "id": "0GiRdv8HjNum"
      },
      "source": [
        "#### **SVR Hyperparameters and Tuning Using GridSearchCV**"
      ]
    },
    {
      "cell_type": "code",
      "execution_count": null,
      "metadata": {
        "id": "8xhhc-unpdy4"
      },
      "outputs": [],
      "source": [
        "svr_param_grid = {\n",
        "    'C' : [0.01, 0.1, 1, 10, 100, 1000],\n",
        "    'gamma': ['scale', 'auto', 0.001, 0.01, 0.1],\n",
        "    'kernel': ['rbf', 'poly', 'sigmoid'],\n",
        "    'epsilon': [0.01, 0.1, 0.2]\n",
        "}\n",
        "\n",
        "tscv = TimeSeriesSplit(n_splits=5)\n",
        "\n",
        "svr = SVR()\n",
        "print(\"Performing Grid Search for SVR...\")\n",
        "svr_grid = GridSearchCV(svr, svr_param_grid, cv=tscv, scoring='neg_mean_squared_error',\n",
        "                        n_jobs=-1, verbose=1)\n",
        "svr_grid.fit(X_train_scaled, y_train_scaled)\n",
        "\n",
        "print(f\"\\nBest SVR parameters: {svr_grid.best_params_}\")\n",
        "print(f\"Best SVR score: {-svr_grid.best_score_:.6f}\")\n",
        "\n",
        "best_svr = svr_grid.best_estimator_"
      ]
    },
    {
      "cell_type": "markdown",
      "metadata": {},
      "source": [
        "#### **Shapley Additive Explanations (SHAP)**"
      ]
    },
    {
      "cell_type": "code",
      "execution_count": null,
      "metadata": {},
      "outputs": [],
      "source": [
        "print(\"\\n--- SHAP Analysis for SVR ---\")\n",
        "\n",
        "background_size = min(100, len(X_train_scaled))\n",
        "background_data = shap.sample(X_train_scaled, background_size)\n",
        "\n",
        "explainer_svr = shap.KernelExplainer(best_svr.predict, background_data)\n",
        "\n",
        "svr_sample_size = min(200, len(X_train_scaled))\n",
        "svr_sample_indices = np.random.choice(len(X_train_scaled), svr_sample_size, replace=False)\n",
        "X_train_svr_sample = X_train_scaled[svr_sample_indices]\n",
        "\n",
        "print(f\"Calculating SHAP values for {svr_sample_size} training samples (this may take a while)...\")\n",
        "shap_values_svr = explainer_svr.shap_values(X_train_svr_sample)\n",
        "\n",
        "shap_df_svr = pd.DataFrame(shap_values_svr, columns=feature_cols)\n",
        "\n",
        "mean_abs_shap_svr = np.abs(shap_df_svr).mean().sort_values(ascending=False)"
      ]
    },
    {
      "cell_type": "markdown",
      "metadata": {},
      "source": [
        "### **SHAP Vizualization**"
      ]
    },
    {
      "cell_type": "code",
      "execution_count": null,
      "metadata": {},
      "outputs": [],
      "source": [
        "plt.figure(figsize=(12, 8))\n",
        "shap.summary_plot(shap_values_xgb, X_train_sample, feature_names=feature_cols,\n",
        "                  plot_type=\"bar\", show=False)\n",
        "plt.title(\"XGBoost - SHAP Feature Importance\", fontsize=16)\n",
        "plt.tight_layout()\n",
        "plt.show()\n",
        "\n",
        "plt.figure(figsize=(12, 8))\n",
        "shap.summary_plot(shap_values_xgb, X_train_sample, feature_names=feature_cols,\n",
        "                  show=False)\n",
        "plt.title(\"XGBoost - SHAP Value Distribution\", fontsize=16)\n",
        "plt.tight_layout()\n",
        "plt.show()\n",
        "\n",
        "fig, (ax1, ax2) = plt.subplots(1, 2, figsize=(16, 8))\n",
        "\n",
        "top_features_xgb = mean_abs_shap_xgb.head(20)\n",
        "ax1.barh(range(len(top_features_xgb)), top_features_xgb.values)\n",
        "ax1.set_yticks(range(len(top_features_xgb)))\n",
        "ax1.set_yticklabels(top_features_xgb.index)\n",
        "ax1.set_xlabel('Mean |SHAP value|')\n",
        "ax1.set_title('Top 20 Features - XGBoost', fontsize=14)\n",
        "ax1.invert_yaxis()\n",
        "\n",
        "top_features_svr = mean_abs_shap_svr.head(20)\n",
        "ax2.barh(range(len(top_features_svr)), top_features_svr.values)\n",
        "ax2.set_yticks(range(len(top_features_svr)))\n",
        "ax2.set_yticklabels(top_features_svr.index)\n",
        "ax2.set_xlabel('Mean |SHAP value|')\n",
        "ax2.set_title('Top 20 Features - SVR', fontsize=14)\n",
        "ax2.invert_yaxis()\n",
        "\n",
        "plt.tight_layout()\n",
        "plt.show()\n",
        "\n",
        "print(\"\\n--- Creating SHAP Dependence Plots for Top 4 Features ---\")\n",
        "top_4_features = mean_abs_shap_xgb.head(4).index\n",
        "\n",
        "fig, axes = plt.subplots(2, 2, figsize=(14, 10))\n",
        "axes = axes.ravel()\n",
        "\n",
        "for idx, feature in enumerate(top_4_features):\n",
        "    shap.dependence_plot(feature, shap_values_xgb, X_train_sample,\n",
        "                         feature_names=feature_cols, ax=axes[idx], show=False)\n",
        "    axes[idx].set_title(f'SHAP Dependence: {feature}', fontsize=12)\n",
        "\n",
        "plt.tight_layout()\n",
        "plt.show()"
      ]
    },
    {
      "cell_type": "markdown",
      "metadata": {},
      "source": [
        "### **Features Selection Based On SHAP**"
      ]
    },
    {
      "cell_type": "code",
      "execution_count": null,
      "metadata": {},
      "outputs": [],
      "source": [
        "\n",
        "print(\"--- Feature Selection Based on SHAP Values ---\")\n",
        "\n",
        "def select_features_by_elbow(shap_values_mean, plot=True):\n",
        "    \"\"\"Select features using elbow method\"\"\"\n",
        "    cumsum = np.cumsum(shap_values_mean.values)\n",
        "    cumsum_pct = cumsum / cumsum[-1]\n",
        "\n",
        "    elbow_idx = np.where(cumsum_pct >= 0.85)[0][0]\n",
        "    selected_features = shap_values_mean.iloc[:elbow_idx+1].index.tolist()\n",
        "\n",
        "    if plot:\n",
        "        plt.figure(figsize=(10, 6))\n",
        "        plt.plot(range(len(cumsum_pct)), cumsum_pct, 'b-', linewidth=2)\n",
        "        plt.axvline(x=elbow_idx, color='r', linestyle='--',\n",
        "                   label=f'95% importance at {elbow_idx+1} features')\n",
        "        plt.axhline(y=0.95, color='g', linestyle='--', alpha=0.5)\n",
        "        plt.xlabel('Number of Features')\n",
        "        plt.ylabel('Cumulative SHAP Importance')\n",
        "        plt.title('Elbow Method for Feature Selection')\n",
        "        plt.legend()\n",
        "        plt.grid(True, alpha=0.3)\n",
        "        plt.show()\n",
        "\n",
        "    return selected_features\n",
        "\n",
        "print(\"\\nApplying feature selection methods:\")\n",
        "\n",
        "selected_features_xgb_elbow = select_features_by_elbow(mean_abs_shap_xgb, plot=True)\n",
        "\n",
        "print(f\"\\nXGBoost Feature Selection Results:\")\n",
        "print(f\"- Elbow method (85% importance): {len(selected_features_xgb_elbow)} features\")\n",
        "\n",
        "selected_features_svr_elbow = select_features_by_elbow(mean_abs_shap_svr, plot=True)\n",
        "\n",
        "print(f\"\\nSVR Feature Selection Results:\")\n",
        "print(f\"- Elbow method (85% importance): {len(selected_features_svr_elbow)} features\")\n",
        "\n",
        "common_features = list(set(selected_features_xgb_elbow) & set(selected_features_svr_elbow))\n",
        "print(f\"\\nCommon important features between models: {len(common_features)}\")\n"
      ]
    },
    {
      "cell_type": "markdown",
      "metadata": {},
      "source": [
        "### **Re-Train Model with Selected Features**"
      ]
    },
    {
      "cell_type": "code",
      "execution_count": null,
      "metadata": {},
      "outputs": [],
      "source": [
        "selected_features_final = list(set(selected_features_xgb_elbow) & set(selected_features_svr_elbow))\n",
        "\n",
        "print(f\"\\nUsing {len(selected_features_final)} selected features for retraining\")\n",
        "\n",
        "selected_indices = [feature_cols.index(f) for f in selected_features_final]\n",
        "\n",
        "X_train_selected = X_train_scaled[:, selected_indices]\n",
        "X_val_selected = X_val_scaled[:, selected_indices]\n",
        "X_test_selected = X_test_scaled[:, selected_indices]\n",
        "\n",
        "print(\"\\nRetraining SVR with selected features...\")\n",
        "svr_selected = SVR(**svr_grid.best_params_)\n",
        "svr_selected.fit(X_train_selected, y_train_scaled)\n",
        "\n",
        "print(\"Retraining XGBoost with selected features...\")\n",
        "xgb_selected = xgb.XGBRegressor(**xgb_random.best_params_,\n",
        "                                objective='reg:squarederror',\n",
        "                                random_state=9001)\n",
        "xgb_selected.fit(X_train_selected, y_train_scaled)\n"
      ]
    },
    {
      "cell_type": "markdown",
      "metadata": {},
      "source": [
        "### **PERFORMANCE COMPARISON: ALL FEATURES vs SELECTED FEATURES**"
      ]
    },
    {
      "cell_type": "markdown",
      "metadata": {},
      "source": [
        "#### **Compare Model**"
      ]
    },
    {
      "cell_type": "code",
      "execution_count": null,
      "metadata": {},
      "outputs": [],
      "source": [
        "def compare_models(model_all, model_selected, X_all, X_selected, y_true, scaler_y, model_name):\n",
        "\n",
        "    y_pred_all = scaler_y.inverse_transform(\n",
        "        model_all.predict(X_all).reshape(-1, 1)\n",
        "    ).ravel()\n",
        "\n",
        "    y_pred_selected = scaler_y.inverse_transform(\n",
        "        model_selected.predict(X_selected).reshape(-1, 1)\n",
        "    ).ravel()\n",
        "\n",
        "    y_true_original = scaler_y.inverse_transform(y_true.reshape(-1, 1)).ravel()\n",
        "\n",
        "    metrics_all = {\n",
        "        'rmse': np.sqrt(mean_squared_error(y_true_original, y_pred_all)),\n",
        "        'mae': mean_absolute_error(y_true_original, y_pred_all),\n",
        "        'r2': r2_score(y_true_original, y_pred_all)\n",
        "    }\n",
        "\n",
        "    metrics_selected = {\n",
        "        'rmse': np.sqrt(mean_squared_error(y_true_original, y_pred_selected)),\n",
        "        'mae': mean_absolute_error(y_true_original, y_pred_selected),\n",
        "        'r2': r2_score(y_true_original, y_pred_selected)\n",
        "    }\n",
        "\n",
        "    comparison_df = pd.DataFrame({\n",
        "        'All Features': [metrics_all['rmse'], metrics_all['mae'], metrics_all['r2']],\n",
        "        'Selected Features': [metrics_selected['rmse'], metrics_selected['mae'], metrics_selected['r2']],\n",
        "        'Improvement': [\n",
        "            f\"{((metrics_all['rmse'] - metrics_selected['rmse']) / metrics_all['rmse'] * 100):.2f}%\",\n",
        "            f\"{((metrics_all['mae'] - metrics_selected['mae']) / metrics_all['mae'] * 100):.2f}%\",\n",
        "            f\"{((metrics_selected['r2'] - metrics_all['r2']) / metrics_all['r2'] * 100):.2f}%\"\n",
        "        ]\n",
        "    }, index=['RMSE', 'MAE', 'R²'])\n",
        "\n",
        "    print(f\"\\n{model_name} Performance Comparison:\")\n",
        "    print(comparison_df)\n",
        "\n",
        "    return metrics_all, metrics_selected, y_pred_all, y_pred_selected\n",
        "\n",
        "print(\"\\n--- Test Set Performance Comparison ---\")\n",
        "svr_metrics_all, svr_metrics_selected, svr_pred_all, svr_pred_selected = compare_models(\n",
        "    best_svr, svr_selected, X_test_scaled, X_test_selected,\n",
        "    y_test_scaled, scaler_y, \"SVR\"\n",
        ")\n",
        "\n",
        "xgb_metrics_all, xgb_metrics_selected, xgb_pred_all, xgb_pred_selected = compare_models(\n",
        "    best_xgb, xgb_selected, X_test_scaled, X_test_selected,\n",
        "    y_test_scaled, scaler_y, \"XGBoost\"\n",
        ")\n"
      ]
    },
    {
      "cell_type": "markdown",
      "metadata": {},
      "source": [
        "#### **Visualize Performance Comparison**"
      ]
    },
    {
      "cell_type": "code",
      "execution_count": null,
      "metadata": {},
      "outputs": [],
      "source": [
        "fig, axes = plt.subplots(2, 2, figsize=(16, 12))\n",
        "\n",
        "axes[0, 0].plot(test_data.index, y_test, label='Actual', alpha=0.7, linewidth=2)\n",
        "axes[0, 0].plot(test_data.index, svr_pred_all, label='SVR All Features', alpha=0.7, linewidth=2)\n",
        "axes[0, 0].plot(test_data.index, svr_pred_selected, label='SVR Selected Features',\n",
        "                alpha=0.7, linewidth=2, linestyle='--')\n",
        "axes[0, 0].set_title('SVR: All Features vs Selected Features', fontsize=14)\n",
        "axes[0, 0].set_ylabel('Price (USDT)', fontsize=12)\n",
        "axes[0, 0].legend()\n",
        "axes[0, 0].grid(True, alpha=0.3)\n",
        "\n",
        "axes[0, 1].plot(test_data.index, y_test, label='Actual', alpha=0.7, linewidth=2)\n",
        "axes[0, 1].plot(test_data.index, xgb_pred_all, label='XGB All Features', alpha=0.7, linewidth=2)\n",
        "axes[0, 1].plot(test_data.index, xgb_pred_selected, label='XGB Selected Features',\n",
        "                alpha=0.7, linewidth=2, linestyle='--')\n",
        "axes[0, 1].set_title('XGBoost: All Features vs Selected Features', fontsize=14)\n",
        "axes[0, 1].set_ylabel('Price (USDT)', fontsize=12)\n",
        "axes[0, 1].legend()\n",
        "axes[0, 1].grid(True, alpha=0.3)\n",
        "\n",
        "svr_errors_all = y_test.values - svr_pred_all\n",
        "svr_errors_selected = y_test.values - svr_pred_selected\n",
        "xgb_errors_all = y_test.values - xgb_pred_all\n",
        "xgb_errors_selected = y_test.values - xgb_pred_selected\n",
        "\n",
        "axes[1, 0].hist(svr_errors_all, bins=30, alpha=0.5, label='All Features', density=True)\n",
        "axes[1, 0].hist(svr_errors_selected, bins=30, alpha=0.5, label='Selected Features', density=True)\n",
        "axes[1, 0].axvline(x=0, color='red', linestyle='--', linewidth=2)\n",
        "axes[1, 0].set_title('SVR Error Distribution Comparison', fontsize=14)\n",
        "axes[1, 0].set_xlabel('Prediction Error (USDT)', fontsize=12)\n",
        "axes[1, 0].set_ylabel('Density', fontsize=12)\n",
        "axes[1, 0].legend()\n",
        "axes[1, 0].grid(True, alpha=0.3)\n",
        "\n",
        "axes[1, 1].hist(xgb_errors_all, bins=30, alpha=0.5, label='All Features', density=True)\n",
        "axes[1, 1].hist(xgb_errors_selected, bins=30, alpha=0.5, label='Selected Features', density=True)\n",
        "axes[1, 1].axvline(x=0, color='red', linestyle='--', linewidth=2)\n",
        "axes[1, 1].set_title('XGBoost Error Distribution Comparison', fontsize=14)\n",
        "axes[1, 1].set_xlabel('Prediction Error (USDT)', fontsize=12)\n",
        "axes[1, 1].set_ylabel('Density', fontsize=12)\n",
        "axes[1, 1].legend()\n",
        "axes[1, 1].grid(True, alpha=0.3)\n",
        "\n",
        "plt.tight_layout()\n",
        "plt.show()"
      ]
    },
    {
      "cell_type": "markdown",
      "metadata": {},
      "source": [
        "#### **Feature Importance Stability Analysis**"
      ]
    },
    {
      "cell_type": "code",
      "execution_count": null,
      "metadata": {},
      "outputs": [],
      "source": [
        "n_iterations = 5\n",
        "shap_importance_iterations = []\n",
        "\n",
        "for i in range(n_iterations):\n",
        "    sample_indices = np.random.choice(len(X_train_scaled),\n",
        "                                    min(500, len(X_train_scaled)),\n",
        "                                    replace=False)\n",
        "    X_sample = X_train_scaled[sample_indices]\n",
        "\n",
        "    shap_values_iter = explainer_xgb.shap_values(X_sample)\n",
        "\n",
        "    mean_abs_shap_iter = np.abs(shap_values_iter).mean(axis=0)\n",
        "    shap_importance_iterations.append(mean_abs_shap_iter)\n",
        "\n",
        "shap_stability_df = pd.DataFrame(shap_importance_iterations,\n",
        "                                 columns=feature_cols).T\n",
        "\n",
        "shap_stability_df['mean_importance'] = shap_stability_df.mean(axis=1)\n",
        "shap_stability_df['std_importance'] = shap_stability_df.std(axis=1)\n",
        "shap_stability_df['cv_importance'] = (shap_stability_df['std_importance'] /\n",
        "                                      shap_stability_df['mean_importance'])\n",
        "\n",
        "shap_stability_df = shap_stability_df.sort_values('mean_importance', ascending=False)\n",
        "\n",
        "fig, (ax1, ax2) = plt.subplots(1, 2, figsize=(16, 8))\n",
        "\n",
        "top_20_stable = shap_stability_df.head(20)\n",
        "y_pos = np.arange(len(top_20_stable))\n",
        "\n",
        "ax1.barh(y_pos, top_20_stable['mean_importance'],\n",
        "         xerr=top_20_stable['std_importance'],\n",
        "         capsize=5, alpha=0.7)\n",
        "ax1.set_yticks(y_pos)\n",
        "ax1.set_yticklabels(top_20_stable.index)\n",
        "ax1.set_xlabel('Mean SHAP Importance (with std)')\n",
        "ax1.set_title('Feature Importance Stability - Top 20 Features', fontsize=14)\n",
        "ax1.invert_yaxis()\n",
        "ax1.grid(True, alpha=0.3)\n",
        "\n",
        "ax2.scatter(top_20_stable['mean_importance'],\n",
        "           top_20_stable['cv_importance'],\n",
        "           alpha=0.6, s=100)\n",
        "for i, txt in enumerate(top_20_stable.index[:10]):\n",
        "    ax2.annotate(txt,\n",
        "                (top_20_stable['mean_importance'].iloc[i],\n",
        "                 top_20_stable['cv_importance'].iloc[i]),\n",
        "                fontsize=8, alpha=0.7)\n",
        "ax2.set_xlabel('Mean SHAP Importance')\n",
        "ax2.set_ylabel('Coefficient of Variation')\n",
        "ax2.set_title('Feature Importance Stability Analysis', fontsize=14)\n",
        "ax2.grid(True, alpha=0.3)\n",
        "\n",
        "plt.tight_layout()\n",
        "plt.show()"
      ]
    },
    {
      "cell_type": "markdown",
      "metadata": {
        "id": "Nx0qNIyGjN7i"
      },
      "source": [
        "### **Evaluate and Compare Model**"
      ]
    },
    {
      "cell_type": "code",
      "execution_count": null,
      "metadata": {
        "id": "5T81vlRNpwLt"
      },
      "outputs": [],
      "source": [
        "print(\"\\n\" + \"=\"*50)\n",
        "print(\"MODEL EVALUATION\")\n",
        "print(\"=\"*50)\n",
        "\n",
        "def evaluate_model(model, X, y_true, scaler_y, model_name):\n",
        "    y_pred_scaled = model.predict(X)\n",
        "    y_pred = scaler_y.inverse_transform(y_pred_scaled.reshape(-1, 1)).ravel()\n",
        "    y_true_original = scaler_y.inverse_transform(y_true.reshape(-1, 1)).ravel()\n",
        "\n",
        "    mse = mean_squared_error(y_true_original, y_pred)\n",
        "    rmse = np.sqrt(mse)\n",
        "    mae = mean_absolute_error(y_true_original, y_pred)\n",
        "    mape = mean_absolute_percentage_error(y_true_original, y_pred)\n",
        "    r2 = r2_score(y_true_original, y_pred)\n",
        "\n",
        "    print(f\"\\n{model_name} Performance:\")\n",
        "    print(f\"RMSE: ${rmse:.4f}\")\n",
        "    print(f\"MAE: ${mae:.4f}\")\n",
        "    print(f\"MAPE: {mape:.4%}\")\n",
        "    print(f\"R²: {r2:.4f}\")\n",
        "\n",
        "    return y_pred, {\n",
        "        'rmse': rmse,\n",
        "        'mae': mae,\n",
        "        'mape': mape,\n",
        "        'r2': r2\n",
        "    }\n",
        "\n",
        "# Evaluate on validation set\n",
        "print(\"\\n--- Validation Set Performance ---\")\n",
        "svr_val_pred, svr_val_metrics = evaluate_model(svr_selected, X_val_scaled, y_val_scaled, scaler_y, \"SVR\")\n",
        "xgb_val_pred, xgb_val_metrics = evaluate_model(xgb_selected, X_val_scaled, y_val_scaled, scaler_y, \"XGBoost\")\n",
        "\n",
        "# Evaluate on test set\n",
        "print(\"\\n--- Test Set Performance ---\")\n",
        "svr_test_pred, svr_test_metrics = evaluate_model(svr_selected, X_test_scaled, y_test_scaled, scaler_y, \"SVR\")\n",
        "xgb_test_pred, xgb_test_metrics = evaluate_model(xgb_selected, X_test_scaled, y_test_scaled, scaler_y, \"XGBoost\")"
      ]
    },
    {
      "cell_type": "markdown",
      "metadata": {},
      "source": [
        "### **Visualize Prediction vs Actual**"
      ]
    },
    {
      "cell_type": "code",
      "execution_count": null,
      "metadata": {},
      "outputs": [],
      "source": [
        "fig, axes = plt.subplots(2, 2, figsize=(16, 12))\n",
        "\n",
        "axes[0, 0].plot(val_data.index, y_val, label='Actual', alpha=0.7, linewidth=2)\n",
        "axes[0, 0].plot(val_data.index, svr_val_pred, label='SVR Prediction', alpha=0.7, linewidth=2)\n",
        "axes[0, 0].set_title('SVR - Validation Set', fontsize=14)\n",
        "axes[0, 0].set_ylabel('Price (USDT)', fontsize=12)\n",
        "axes[0, 0].legend()\n",
        "axes[0, 0].grid(True, alpha=0.3)\n",
        "\n",
        "axes[0, 1].plot(val_data.index, y_val, label='Actual', alpha=0.7, linewidth=2)\n",
        "axes[0, 1].plot(val_data.index, xgb_val_pred, label='XGBoost Prediction', alpha=0.7, linewidth=2)\n",
        "axes[0, 1].set_title('XGBoost - Validation Set', fontsize=14)\n",
        "axes[0, 1].set_ylabel('Price (USDT)', fontsize=12)\n",
        "axes[0, 1].legend()\n",
        "axes[0, 1].grid(True, alpha=0.3)\n",
        "\n",
        "axes[1, 0].plot(test_data.index, y_test, label='Actual', alpha=0.7, linewidth=2)\n",
        "axes[1, 0].plot(test_data.index, svr_test_pred, label='SVR Prediction', alpha=0.7, linewidth=2)\n",
        "axes[1, 0].set_title('SVR - Test Set', fontsize=14)\n",
        "axes[1, 0].set_ylabel('Price (USDT)', fontsize=12)\n",
        "axes[1, 0].set_xlabel('Date', fontsize=12)\n",
        "axes[1, 0].legend()\n",
        "axes[1, 0].grid(True, alpha=0.3)\n",
        "\n",
        "axes[1, 1].plot(test_data.index, y_test, label='Actual', alpha=0.7, linewidth=2)\n",
        "axes[1, 1].plot(test_data.index, xgb_test_pred, label='XGBoost Prediction', alpha=0.7, linewidth=2)\n",
        "axes[1, 1].set_title('XGBoost - Test Set', fontsize=14)\n",
        "axes[1, 1].set_ylabel('Price (USDT)', fontsize=12)\n",
        "axes[1, 1].set_xlabel('Date', fontsize=12)\n",
        "axes[1, 1].legend()\n",
        "axes[1, 1].grid(True, alpha=0.3)\n",
        "\n",
        "plt.tight_layout()\n",
        "plt.show()\n",
        "\n",
        "# Error distribution\n",
        "fig, axes = plt.subplots(1, 2, figsize=(14, 6))\n",
        "\n",
        "svr_errors = y_test - svr_test_pred\n",
        "axes[0].hist(svr_errors, bins=50, alpha=0.7, edgecolor='black')\n",
        "axes[0].axvline(x=0, color='red', linestyle='--', linewidth=2)\n",
        "axes[0].set_title('SVR - Error Distribution', fontsize=14)\n",
        "axes[0].set_xlabel('Prediction Error (USDT)', fontsize=12)\n",
        "axes[0].set_ylabel('Frequency', fontsize=12)\n",
        "axes[0].grid(True, alpha=0.3)\n",
        "\n",
        "xgb_errors = y_test - xgb_test_pred\n",
        "axes[1].hist(xgb_errors, bins=50, alpha=0.7, edgecolor='black')\n",
        "axes[1].axvline(x=0, color='red', linestyle='--', linewidth=2)\n",
        "axes[1].set_title('XGBoost - Error Distribution', fontsize=14)\n",
        "axes[1].set_xlabel('Prediction Error (USDT)', fontsize=12)\n",
        "axes[1].set_ylabel('Frequency', fontsize=12)\n",
        "axes[1].grid(True, alpha=0.3)\n",
        "\n",
        "plt.tight_layout()\n",
        "plt.show()"
      ]
    },
    {
      "cell_type": "markdown",
      "metadata": {},
      "source": [
        "### **Comparison Metric Evaluation**"
      ]
    },
    {
      "cell_type": "code",
      "execution_count": null,
      "metadata": {},
      "outputs": [],
      "source": [
        "comparison_df = pd.DataFrame({\n",
        "    'SVR': [svr_test_metrics['rmse'], svr_test_metrics['mae'],\n",
        "            svr_test_metrics['mape']*100, svr_test_metrics['r2']],\n",
        "    'XGBoost': [xgb_test_metrics['rmse'], xgb_test_metrics['mae'],\n",
        "                xgb_test_metrics['mape']*100, xgb_test_metrics['r2']]\n",
        "}, index=['RMSE ($)', 'MAE ($)', 'MAPE (%)', 'R²'])\n",
        "\n",
        "fig, ax = plt.subplots(figsize=(10, 6))\n",
        "x = np.arange(len(comparison_df.index))\n",
        "width = 0.35\n",
        "\n",
        "bars1 = ax.bar(x - width/2, comparison_df['SVR'], width, label='SVR', alpha=0.8)\n",
        "bars2 = ax.bar(x + width/2, comparison_df['XGBoost'], width, label='XGBoost', alpha=0.8)\n",
        "\n",
        "ax.set_xlabel('Metrics', fontsize=12)\n",
        "ax.set_ylabel('Value', fontsize=12)\n",
        "ax.set_title('Model Performance Comparison - Test Set', fontsize=14)\n",
        "ax.set_xticks(x)\n",
        "ax.set_xticklabels(comparison_df.index)\n",
        "ax.legend()\n",
        "ax.grid(True, alpha=0.3)\n",
        "\n",
        "for bars in [bars1, bars2]:\n",
        "    for bar in bars:\n",
        "        height = bar.get_height()\n",
        "        ax.annotate(f'{height:.3f}',\n",
        "                    xy=(bar.get_x() + bar.get_width() / 2, height),\n",
        "                    xytext=(0, 3),\n",
        "                    textcoords=\"offset points\",\n",
        "                    ha='center', va='bottom')\n",
        "\n",
        "plt.tight_layout()\n",
        "plt.show()"
      ]
    },
    {
      "cell_type": "markdown",
      "metadata": {
        "id": "5dor-mZvjM-q"
      },
      "source": [
        "### **Forecasting**"
      ]
    },
    {
      "cell_type": "code",
      "execution_count": null,
      "metadata": {
        "id": "ffy3IQgwdvy-"
      },
      "outputs": [],
      "source": [
        "def forecast_5h(model, last_data, scaler_X, scaler_y, n_hours=5):\n",
        "    predictions = []\n",
        "    current_features = last_data.copy()\n",
        "\n",
        "    for i in range(n_hours):\n",
        "\n",
        "        current_scaled = scaler_X.transform(current_features.reshape(1, -1))\n",
        "\n",
        "        pred_scaled = model.predict(current_scaled)\n",
        "        pred = scaler_y.inverse_transform(pred_scaled.reshape(-1, 1))[0, 0]\n",
        "        predictions.append(pred)\n",
        "\n",
        "        current_features[0] = pred_scaled[0]\n",
        "\n",
        "    return np.array(predictions)\n",
        "\n",
        "last_features = X_test_scaled[-1]\n",
        "\n",
        "svr_forecast = forecast_5h(svr_selected, last_features, scaler_X, scaler_y)\n",
        "xgb_forecast = forecast_5h(xgb_selected, last_features, scaler_X, scaler_y)\n",
        "\n",
        "last_date = test_data.index[-1]\n",
        "forecast_dates = pd.date_range(start=last_date + pd.Timedelta(hours=1),\n",
        "                               periods=24, freq='H')\n",
        "\n",
        "fig, ax = plt.subplots(figsize=(14, 8))\n",
        "\n",
        "historical_days = 7\n",
        "historical_data = df['close_SOL_USDT'][-24*historical_days:]\n",
        "ax.plot(historical_data.index, historical_data.values,\n",
        "        label='Historical', color='black', linewidth=2, alpha=0.8)\n",
        "\n",
        "ax.plot(forecast_dates, svr_forecast,\n",
        "        label='SVR Forecast', color='blue', linewidth=2,\n",
        "        marker='o', markersize=5, alpha=0.7)\n",
        "ax.plot(forecast_dates, xgb_forecast,\n",
        "        label='XGBoost Forecast', color='red', linewidth=2,\n",
        "        marker='s', markersize=5, alpha=0.7)\n",
        "\n",
        "ax.axvspan(forecast_dates[0], forecast_dates[-1], alpha=0.2, color='gray')\n",
        "\n",
        "ax.set_title('Solana Price - 24-Hour Ahead Forecast', fontsize=16)\n",
        "ax.set_xlabel('Date', fontsize=12)\n",
        "ax.set_ylabel('Price (USDT)', fontsize=12)\n",
        "ax.legend(fontsize=12)\n",
        "ax.grid(True, alpha=0.3)\n",
        "\n",
        "plt.tight_layout()\n",
        "plt.show()\n",
        "\n",
        "print(\"\\n24-Hour Forecast Summary:\")\n",
        "print(f\"Current Price: ${df['close_SOL_USDT'].iloc[-1]:.2f}\")\n",
        "print(f\"\\nSVR Forecast:\")\n",
        "print(f\"  - Next hour: ${svr_forecast[0]:.2f}\")\n",
        "print(f\"  - 6 hours: ${svr_forecast[5]:.2f}\")\n",
        "print(f\"  - 12 hours: ${svr_forecast[11]:.2f}\")\n",
        "print(f\"  - 24 hours: ${svr_forecast[-1]:.2f}\")\n",
        "print(f\"  - 24h Change: {((svr_forecast[-1] - df['close_SOL_USDT'].iloc[-1]) / df['close_SOL_USDT'].iloc[-1] * 100):.2f}%\")\n",
        "\n",
        "print(f\"\\nXGBoost Forecast:\")\n",
        "print(f\"  - Next hour: ${xgb_forecast[0]:.2f}\")\n",
        "print(f\"  - 6 hours: ${xgb_forecast[5]:.2f}\")\n",
        "print(f\"  - 12 hours: ${xgb_forecast[11]:.2f}\")\n",
        "print(f\"  - 24 hours: ${xgb_forecast[-1]:.2f}\")\n",
        "print(f\"  - 24h Change: {((xgb_forecast[-1] - df['close_SOL_USDT'].iloc[-1]) / df['close_SOL_USDT'].iloc[-1] * 100):.2f}%\")\n"
      ]
    }
  ],
  "metadata": {
    "colab": {
      "collapsed_sections": [
        "YfDY0Lcmfpvm",
        "yWyfy3pzfwkx",
        "iQCL-i_7JpoJ",
        "xFRVJ58n5L7G",
        "HtjK7BEAlpHg",
        "LMJtTKOKlvT8",
        "BuPZU74QjEAA",
        "ZCrxxkpRjPLJ",
        "Nx0qNIyGjN7i",
        "5dor-mZvjM-q"
      ],
      "provenance": []
    },
    "kernelspec": {
      "display_name": "Python 3",
      "language": "python",
      "name": "python3"
    },
    "language_info": {
      "codemirror_mode": {
        "name": "ipython",
        "version": 3
      },
      "file_extension": ".py",
      "mimetype": "text/x-python",
      "name": "python",
      "nbconvert_exporter": "python",
      "pygments_lexer": "ipython3",
      "version": "3.13.4"
    }
  },
  "nbformat": 4,
  "nbformat_minor": 0
}
